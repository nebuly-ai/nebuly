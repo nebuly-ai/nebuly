{
 "cells": [
  {
   "cell_type": "code",
   "execution_count": 1,
   "id": "86b10ac1-fb05-4237-bd34-7123545c9cd2",
   "metadata": {},
   "outputs": [
    {
     "name": "stderr",
     "output_type": "stream",
     "text": [
      " 28/10/2022 02:56:38 PM [WARNING] Missing Library: openvino module is not installed on this platform. Please install it if you want to include it in the optimization pipeline.\n",
      " 28/10/2022 02:56:38 PM [WARNING] Missing Library: tensorrt module is not installed on this platform. Please install it if you want to include it in the optimization pipeline.\n",
      " 28/10/2022 02:56:38 PM [WARNING] Missing Library: polygraphy module is not installed on this platform. It's needed for tensorrt to work properly, please install it if you want to include tensorrt in the optimization pipeline.\n",
      " 28/10/2022 02:56:38 PM [WARNING] Missing Library: tvm module is not installed on this platform. Please install it if you want to include it in the optimization pipeline.\n",
      " 28/10/2022 02:56:38 PM [WARNING] Missing Library: torch_blade module is not installed on this platform. Please install it if you want to include it in the optimization pipeline.\n",
      " 28/10/2022 02:56:38 PM [WARNING] Missing Library: deepsparse module is not installed on this platform. Please install it if you want to include it in the optimization pipeline.\n",
      " 28/10/2022 02:56:38 PM [WARNING] Missing Library: neural_compressor module is not installed on this platform. Please install it if you want to include it in the optimization pipeline.\n",
      " 28/10/2022 02:56:38 PM [WARNING] Missing Library: torch_tensorrt module is not installed on this platform. Please install it if you want to include it in the optimization pipeline.\n",
      " 28/10/2022 02:56:38 PM [INFO] Trying to install deepsparse on the platform...\n",
      " 28/10/2022 02:56:38 PM [WARNING] Unable to install deepsparse on this platform. The compiler will be skipped. \n",
      " 28/10/2022 02:56:38 PM [INFO] Trying to install intel_neural_compressor on the platform...\n",
      " 28/10/2022 02:56:38 PM [WARNING] Unable to install intel_neural_compressor on this platform. The compiler will be skipped. \n"
     ]
    },
    {
     "name": "stdout",
     "output_type": "stream",
     "text": [
      "Requirement already satisfied: onnxmltools>=1.11.0 in /opt/homebrew/Caskroom/miniforge/base/envs/nebullvm_new/lib/python3.9/site-packages (1.11.1)\n",
      "Requirement already satisfied: onnx in /opt/homebrew/Caskroom/miniforge/base/envs/nebullvm_new/lib/python3.9/site-packages (from onnxmltools>=1.11.0) (1.12.0)\n",
      "Requirement already satisfied: numpy in /opt/homebrew/Caskroom/miniforge/base/envs/nebullvm_new/lib/python3.9/site-packages (from onnxmltools>=1.11.0) (1.23.4)\n",
      "Requirement already satisfied: skl2onnx in /opt/homebrew/Caskroom/miniforge/base/envs/nebullvm_new/lib/python3.9/site-packages (from onnxmltools>=1.11.0) (1.13)\n",
      "Requirement already satisfied: typing-extensions>=3.6.2.1 in /opt/homebrew/Caskroom/miniforge/base/envs/nebullvm_new/lib/python3.9/site-packages (from onnx->onnxmltools>=1.11.0) (4.4.0)\n",
      "Requirement already satisfied: protobuf<=3.20.1,>=3.12.2 in /opt/homebrew/Caskroom/miniforge/base/envs/nebullvm_new/lib/python3.9/site-packages (from onnx->onnxmltools>=1.11.0) (3.20.1)\n",
      "Requirement already satisfied: scipy>=1.0 in /opt/homebrew/Caskroom/miniforge/base/envs/nebullvm_new/lib/python3.9/site-packages (from skl2onnx->onnxmltools>=1.11.0) (1.9.3)\n",
      "Requirement already satisfied: scikit-learn<=1.1.1 in /opt/homebrew/Caskroom/miniforge/base/envs/nebullvm_new/lib/python3.9/site-packages (from skl2onnx->onnxmltools>=1.11.0) (1.1.1)\n",
      "Requirement already satisfied: onnxconverter-common>=1.7.0 in /opt/homebrew/Caskroom/miniforge/base/envs/nebullvm_new/lib/python3.9/site-packages (from skl2onnx->onnxmltools>=1.11.0) (1.12.2)\n",
      "Requirement already satisfied: joblib>=1.0.0 in /opt/homebrew/Caskroom/miniforge/base/envs/nebullvm_new/lib/python3.9/site-packages (from scikit-learn<=1.1.1->skl2onnx->onnxmltools>=1.11.0) (1.2.0)\n",
      "Requirement already satisfied: threadpoolctl>=2.0.0 in /opt/homebrew/Caskroom/miniforge/base/envs/nebullvm_new/lib/python3.9/site-packages (from scikit-learn<=1.1.1->skl2onnx->onnxmltools>=1.11.0) (3.1.0)\n"
     ]
    },
    {
     "name": "stderr",
     "output_type": "stream",
     "text": [
      " 28/10/2022 02:56:39 PM [INFO] Trying to install onnxruntime on the platform...\n"
     ]
    },
    {
     "name": "stdout",
     "output_type": "stream",
     "text": [
      "Collecting package metadata (current_repodata.json): ...working... done\n",
      "Solving environment: ...working... done\n"
     ]
    },
    {
     "name": "stderr",
     "output_type": "stream",
     "text": [
      "\n",
      "\n",
      "==> WARNING: A newer version of conda exists. <==\n",
      "  current version: 4.12.0\n",
      "  latest version: 22.9.0\n",
      "\n",
      "Please update conda by running\n",
      "\n",
      "    $ conda update -n base conda\n",
      "\n",
      "\n"
     ]
    },
    {
     "name": "stdout",
     "output_type": "stream",
     "text": [
      "\n",
      "# All requested packages already installed.\n",
      "\n",
      "Requirement already satisfied: coloredlogs in /opt/homebrew/Caskroom/miniforge/base/envs/nebullvm_new/lib/python3.9/site-packages (15.0.1)\n",
      "Requirement already satisfied: sympy in /opt/homebrew/Caskroom/miniforge/base/envs/nebullvm_new/lib/python3.9/site-packages (1.11.1)\n",
      "Requirement already satisfied: transformers in /opt/homebrew/Caskroom/miniforge/base/envs/nebullvm_new/lib/python3.9/site-packages (4.23.1)\n",
      "Requirement already satisfied: humanfriendly>=9.1 in /opt/homebrew/Caskroom/miniforge/base/envs/nebullvm_new/lib/python3.9/site-packages (from coloredlogs) (10.0)\n",
      "Requirement already satisfied: mpmath>=0.19 in /opt/homebrew/Caskroom/miniforge/base/envs/nebullvm_new/lib/python3.9/site-packages (from sympy) (1.2.1)\n",
      "Requirement already satisfied: requests in /opt/homebrew/Caskroom/miniforge/base/envs/nebullvm_new/lib/python3.9/site-packages (from transformers) (2.28.1)\n",
      "Requirement already satisfied: huggingface-hub<1.0,>=0.10.0 in /opt/homebrew/Caskroom/miniforge/base/envs/nebullvm_new/lib/python3.9/site-packages (from transformers) (0.10.1)\n",
      "Requirement already satisfied: tqdm>=4.27 in /opt/homebrew/Caskroom/miniforge/base/envs/nebullvm_new/lib/python3.9/site-packages (from transformers) (4.64.1)\n",
      "Requirement already satisfied: regex!=2019.12.17 in /opt/homebrew/Caskroom/miniforge/base/envs/nebullvm_new/lib/python3.9/site-packages (from transformers) (2022.9.13)\n",
      "Requirement already satisfied: tokenizers!=0.11.3,<0.14,>=0.11.1 in /opt/homebrew/Caskroom/miniforge/base/envs/nebullvm_new/lib/python3.9/site-packages (from transformers) (0.13.1)\n",
      "Requirement already satisfied: packaging>=20.0 in /opt/homebrew/Caskroom/miniforge/base/envs/nebullvm_new/lib/python3.9/site-packages (from transformers) (21.3)\n",
      "Requirement already satisfied: filelock in /opt/homebrew/Caskroom/miniforge/base/envs/nebullvm_new/lib/python3.9/site-packages (from transformers) (3.8.0)\n",
      "Requirement already satisfied: pyyaml>=5.1 in /opt/homebrew/Caskroom/miniforge/base/envs/nebullvm_new/lib/python3.9/site-packages (from transformers) (6.0)\n",
      "Requirement already satisfied: numpy>=1.17 in /opt/homebrew/Caskroom/miniforge/base/envs/nebullvm_new/lib/python3.9/site-packages (from transformers) (1.23.4)\n",
      "Requirement already satisfied: typing-extensions>=3.7.4.3 in /opt/homebrew/Caskroom/miniforge/base/envs/nebullvm_new/lib/python3.9/site-packages (from huggingface-hub<1.0,>=0.10.0->transformers) (4.4.0)\n",
      "Requirement already satisfied: pyparsing!=3.0.5,>=2.0.2 in /opt/homebrew/Caskroom/miniforge/base/envs/nebullvm_new/lib/python3.9/site-packages (from packaging>=20.0->transformers) (3.0.9)\n",
      "Requirement already satisfied: charset-normalizer<3,>=2 in /opt/homebrew/Caskroom/miniforge/base/envs/nebullvm_new/lib/python3.9/site-packages (from requests->transformers) (2.1.1)\n",
      "Requirement already satisfied: idna<4,>=2.5 in /opt/homebrew/Caskroom/miniforge/base/envs/nebullvm_new/lib/python3.9/site-packages (from requests->transformers) (3.4)\n",
      "Requirement already satisfied: certifi>=2017.4.17 in /opt/homebrew/Caskroom/miniforge/base/envs/nebullvm_new/lib/python3.9/site-packages (from requests->transformers) (2022.9.24)\n",
      "Requirement already satisfied: urllib3<1.27,>=1.21.1 in /opt/homebrew/Caskroom/miniforge/base/envs/nebullvm_new/lib/python3.9/site-packages (from requests->transformers) (1.26.12)\n"
     ]
    },
    {
     "name": "stderr",
     "output_type": "stream",
     "text": [
      " 28/10/2022 02:56:44 PM [INFO] onnxruntime installed successfully!\n",
      " 28/10/2022 02:56:44 PM [INFO] Trying to install openvino on the platform...\n",
      " 28/10/2022 02:56:44 PM [WARNING] Unable to install openvino on this platform. The compiler will be skipped. \n"
     ]
    }
   ],
   "source": [
    "from nebullvm.installers.installers import auto_install_libraries\n",
    "\n",
    "auto_install_libraries(include_frameworks=[\"torch\", \"onnx\"])"
   ]
  },
  {
   "cell_type": "code",
   "execution_count": 2,
   "id": "5f46cf93-d5d1-4297-b67b-500be2434820",
   "metadata": {},
   "outputs": [
    {
     "name": "stderr",
     "output_type": "stream",
     "text": [
      " 28/10/2022 02:57:06 PM [WARNING] Not enough data for splitting the DataManager. You should provide at least 100. data samples to allow a good split between train and test sets. Compression, calibration and precision checks will use the same data.\n",
      " 28/10/2022 02:57:15 PM [INFO] Running pipeline: pytorch_pipeline\n",
      " 28/10/2022 02:57:15 PM [INFO] Running step: compression_step\n",
      " 28/10/2022 02:57:15 PM [INFO] Compressions: ()\n",
      " 28/10/2022 02:57:15 PM [WARNING] Compression step needs at least 100 input data to be activated. Please provide more inputs. Compression step will be skipped.\n",
      " 28/10/2022 02:57:15 PM [INFO] Running step: optimizer_step\n",
      " 28/10/2022 02:57:15 PM [INFO] Optimizations: ('torchscript',)\n",
      "  0%|                                                                                                                                                                                                                                                                                             | 0/1 [00:00<?, ?it/s] 28/10/2022 02:57:15 PM [INFO] Optimizing output of no_compression\n",
      "\n",
      "  0%|                                                                                                                                                                                                                                                                                             | 0/1 [00:00<?, ?it/s]\u001b[A 28/10/2022 02:57:15 PM [INFO] Optimizing with PytorchBackendOptimizer and q_type: None.\n",
      " 28/10/2022 02:57:16 PM [INFO] Optimizing with PytorchBackendOptimizer and q_type: QuantizationType.DYNAMIC.\n",
      " 28/10/2022 02:57:16 PM [WARNING] Compilation failed with torch interface of ModelCompiler.TORCHSCRIPT. Got error Didn't find engine for operation quantized::linear_prepack NoQEngine. If possible the compilation will be re-scheduled with another interface. Please consult the documentation for further info or open an issue on GitHub for receiving assistance.\n",
      " 28/10/2022 02:57:16 PM [INFO] Optimizing with PytorchBackendOptimizer and q_type: QuantizationType.HALF.\n",
      " 28/10/2022 02:57:16 PM [WARNING] Compilation failed with torch interface of ModelCompiler.TORCHSCRIPT. Got error The following operation failed in the TorchScript interpreter.\n",
      "Traceback of TorchScript (most recent call last):\n",
      "  File \"<eval_with_key>.9\", line 5, in forward\n",
      "def forward(self, x : torch.Tensor) -> torch.Tensor:\n",
      "    conv1 = self.conv1(x);  x = None\n",
      "            ~~~~~~~~~~ <--- HERE\n",
      "    bn1 = self.bn1(conv1);  conv1 = None\n",
      "    relu = self.relu(bn1);  bn1 = None\n",
      "  File \"/opt/homebrew/Caskroom/miniforge/base/envs/nebullvm_new/lib/python3.9/site-packages/torch/nn/modules/conv.py\", line 457, in forward\n",
      "    def forward(self, input: Tensor) -> Tensor:\n",
      "        return self._conv_forward(input, self.weight, self.bias)\n",
      "               ~~~~~~~~~~~~~~~~~~ <--- HERE\n",
      "  File \"/opt/homebrew/Caskroom/miniforge/base/envs/nebullvm_new/lib/python3.9/site-packages/torch/nn/modules/conv.py\", line 453, in _conv_forward\n",
      "                            weight, bias, self.stride,\n",
      "                            _pair(0), self.dilation, self.groups)\n",
      "        return F.conv2d(input, weight, bias, self.stride,\n",
      "               ~~~~~~~~ <--- HERE\n",
      "                        self.padding, self.dilation, self.groups)\n",
      "RuntimeError: \"slow_conv2d_cpu\" not implemented for 'Half'\n",
      ". If possible the compilation will be re-scheduled with another interface. Please consult the documentation for further info or open an issue on GitHub for receiving assistance.\n",
      " 28/10/2022 02:57:16 PM [INFO] Optimizing with PytorchBackendOptimizer and q_type: QuantizationType.STATIC.\n",
      " 28/10/2022 02:57:32 PM [WARNING] Compilation failed with torch interface of ModelCompiler.TORCHSCRIPT. Got error Didn't find engine for operation quantized::conv2d_prepack NoQEngine. If possible the compilation will be re-scheduled with another interface. Please consult the documentation for further info or open an issue on GitHub for receiving assistance.\n",
      "\n",
      "100%|█████████████████████████████████████████████████████████████████████████████████████████████████████████████████████████████████████████████████████████████████████████████████████████████████████████████████████████████████████████████████████████████████████████████████████| 1/1 [00:17<00:00, 17.11s/it]\u001b[A\n",
      "100%|█████████████████████████████████████████████████████████████████████████████████████████████████████████████████████████████████████████████████████████████████████████████████████████████████████████████████████████████████████████████████████████████████████████████████████| 1/1 [00:17<00:00, 17.11s/it]\n",
      " 28/10/2022 02:57:32 PM [INFO] Running pipeline: onnx_pipeline\n",
      " 28/10/2022 02:57:32 PM [INFO] Running step: no_compression\n",
      " 28/10/2022 02:57:32 PM [INFO] Running step: optimizer_step\n",
      " 28/10/2022 02:57:32 PM [INFO] Optimizations: ('onnxruntime',)\n",
      "  0%|                                                                                                                                                                                                                                                                                             | 0/1 [00:00<?, ?it/s] 28/10/2022 02:57:32 PM [INFO] Optimizing output of no_compression\n",
      "\n",
      "  0%|                                                                                                                                                                                                                                                                                             | 0/1 [00:00<?, ?it/s]\u001b[A 28/10/2022 02:57:32 PM [INFO] Optimizing with ONNXOptimizer and q_type: None.\n",
      " 28/10/2022 02:57:33 PM [INFO] Optimizing with ONNXOptimizer and q_type: QuantizationType.DYNAMIC.\n",
      " 28/10/2022 02:57:37 PM [INFO] Optimizing with ONNXOptimizer and q_type: QuantizationType.HALF.\n",
      " 28/10/2022 02:57:40 PM [INFO] Optimizing with ONNXOptimizer and q_type: QuantizationType.STATIC.\n",
      "\n",
      "100%|█████████████████████████████████████████████████████████████████████████████████████████████████████████████████████████████████████████████████████████████████████████████████████████████████████████████████████████████████████████████████████████████████████████████████████| 1/1 [00:11<00:00, 11.18s/it]\u001b[A\n",
      "100%|█████████████████████████████████████████████████████████████████████████████████████████████████████████████████████████████████████████████████████████████████████████████████████████████████████████████████████████████████████████████████████████████████████████████████████| 1/1 [00:11<00:00, 11.18s/it]\n"
     ]
    }
   ],
   "source": [
    "import torch\n",
    "import torchvision.models as models\n",
    "from nebullvm.api.functions import optimize_model\n",
    "\n",
    "# Load a resnet as example\n",
    "model = models.resnet50()\n",
    "\n",
    "# Provide an input data for the model\n",
    "input_data = [((torch.randn(1, 3, 256, 256), ), torch.tensor([0]))]\n",
    "\n",
    "# Run nebullvm optimization in one line of code\n",
    "optimized_model = optimize_model(\n",
    "    model, input_data=input_data, optimization_time=\"unconstrained\", metric_drop_ths=2\n",
    ")\n",
    "\n",
    "# Try the optimized model\n",
    "x = torch.randn(1, 3, 256, 256)\n",
    "res = optimized_model(x)"
   ]
  },
  {
   "cell_type": "code",
   "execution_count": null,
   "id": "70602b83-2674-41fa-bc5f-3b753f43c787",
   "metadata": {},
   "outputs": [],
   "source": []
  }
 ],
 "metadata": {
  "kernelspec": {
   "display_name": "Python 3 (ipykernel)",
   "language": "python",
   "name": "python3"
  },
  "language_info": {
   "codemirror_mode": {
    "name": "ipython",
    "version": 3
   },
   "file_extension": ".py",
   "mimetype": "text/x-python",
   "name": "python",
   "nbconvert_exporter": "python",
   "pygments_lexer": "ipython3",
   "version": "3.9.13"
  }
 },
 "nbformat": 4,
 "nbformat_minor": 5
}
