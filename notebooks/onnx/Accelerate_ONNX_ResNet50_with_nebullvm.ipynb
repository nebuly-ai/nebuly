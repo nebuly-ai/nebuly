{
  "cells": [
    {
      "cell_type": "markdown",
      "metadata": {
        "id": "p5b0PzpW1xJq"
      },
      "source": [
        "![nebullvm nebuly logo.png](data:image/png;base64,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)"
      ]
    },
    {
      "cell_type": "markdown",
      "metadata": {
        "id": "T9xuwZEHzN2K"
      },
      "source": [
        "#Accelerate ONNX ResNet50 with nebullvm\n",
        "Hi and welcome 👋\n",
        "\n",
        "In this notebook we will discover how in just a few steps you can speed up the response time of deep learning model inference using the open-source library `nebullvm`.\n",
        "\n",
        "We will\n",
        "1. Install nebullvm and the deep learning compilers used by the library.\n",
        "2. Speed up an ONNX ResNet50 without any loss of accuracy.\n",
        "3. Achieve faster acceleration on the same model by applying more aggressive optimization techniques (e.g. pruning, quantization) under the constraint of sacrificing up to 2% accuracy.\n",
        "\n",
        "Let's jump to the code."
      ]
    },
    {
      "cell_type": "code",
      "execution_count": null,
      "metadata": {
        "id": "5Yc5KYo_YzE8"
      },
      "outputs": [],
      "source": [
        "%env CUDA_VISIBLE_DEVICES=0"
      ]
    },
    {
      "cell_type": "markdown",
      "metadata": {
        "id": "HbFy2Aykz2Qo"
      },
      "source": [
        "#Installation"
      ]
    },
    {
      "cell_type": "code",
      "execution_count": null,
      "metadata": {
        "id": "ZPJHVZ74d8r2"
      },
      "outputs": [],
      "source": [
        "%pip install nebullvm"
      ]
    },
    {
      "cell_type": "markdown",
      "metadata": {
        "id": "wHvrcTYLz-dn"
      },
      "source": [
        "This is an optional step. Run it if you want to contribute to continuous improvement of `nebullvm` and share the performance achieved with it. You can find full details in the [docs](https://nebuly.gitbook.io/nebuly/nebullvm/how-nebullvm-works/fostering-continuous-improvement#sharing-feedback-to-improve-nebullvm)."
      ]
    },
    {
      "cell_type": "code",
      "execution_count": 2,
      "metadata": {
        "id": "UMjbl67gynsS"
      },
      "outputs": [],
      "source": [
        "json_feedback = {\n",
        "    \"allow_feedback_collection\": True\n",
        "}\n",
        "import json\n",
        "from pathlib import Path\n",
        "\n",
        "(Path.home() / \".nebullvm\").mkdir(exist_ok=True)\n",
        "with open(Path.home() / \".nebullvm/collect.json\", \"w\") as f:\n",
        "  json.dump(json_feedback, f)"
      ]
    },
    {
      "cell_type": "markdown",
      "metadata": {
        "id": "b0CLgQqxyrQi"
      },
      "source": [
        "Let's now import nebullvm. During the import we will install the deep learning compilers used by nebullvm that are not yet installed on the hardware.\n",
        "\n",
        "The installation of the compilers may take a few minutes."
      ]
    },
    {
      "cell_type": "code",
      "execution_count": null,
      "metadata": {
        "colab": {
          "base_uri": "https://localhost:8080/",
          "height": 786
        },
        "id": "GvK9mZSjeLU5",
        "outputId": "c1d4e85d-87fb-431c-f2cb-ce3a378fb53d"
      },
      "outputs": [],
      "source": [
        "import nebullvm"
      ]
    },
    {
      "cell_type": "markdown",
      "metadata": {
        "id": "N5RXHoZl0p3p"
      },
      "source": [
        "# Optimization example with ONNX"
      ]
    },
    {
      "cell_type": "markdown",
      "metadata": {
        "id": "-Ju-VcRH01Mw"
      },
      "source": [
        "In the following example we will try to optimize a standard ONNX resnet50.\n",
        "\n",
        "Nebullvm can accelerate neural networks without loss of a user-defined precision metric, e.g. accuracy, or can achieve faster acceleration by applying more aggressive optimization techniques, such as pruning and quantization, that may have a negative impact on the selectic metric. The maximum threshold value for accuracy loss is determined by the metric_drop_ths parameter. Read more in the [docs](https://nebuly.gitbook.io/nebuly/nebullvm/get-started).\n",
        "\n",
        "Let first test the optimization without accuracy loss (metric_drop_ths=0, default value), and then apply further accelerate it under the constrained of losing up to 2% of accuracy (metric = \"accuracy\", metric_drop_ths = 0.02)."
      ]
    },
    {
      "cell_type": "markdown",
      "metadata": {
        "id": "skxEuemn171G"
      },
      "source": [
        "## Scenario 1 - No accuracy drop"
      ]
    },
    {
      "cell_type": "markdown",
      "metadata": {
        "id": "wVRLXrDi2VaG"
      },
      "source": [
        "First of all we download the pretrained ONNX resnet50 model"
      ]
    },
    {
      "cell_type": "code",
      "execution_count": null,
      "metadata": {
        "colab": {
          "base_uri": "https://localhost:8080/"
        },
        "id": "6I5GDvWbZ-LJ",
        "outputId": "6ac09b39-9c6e-4d38-dfb6-35069938f9c1"
      },
      "outputs": [],
      "source": [
        "!wget https://github.com/onnx/models/raw/main/vision/classification/resnet/model/resnet50-v1-12.onnx"
      ]
    },
    {
      "cell_type": "markdown",
      "metadata": {
        "id": "vrkOvGfkaXk7"
      },
      "source": [
        "Then we optimize it with nebullvm simple API"
      ]
    },
    {
      "cell_type": "code",
      "execution_count": null,
      "metadata": {
        "id": "2RbgGruAeQcf"
      },
      "outputs": [],
      "source": [
        "import numpy as np\n",
        "from nebullvm import optimize_model\n",
        "\n",
        "# Load a resnet as example\n",
        "model = \"resnet50-v1-12.onnx\"\n",
        "\n",
        "# Provide an input data for the model    \n",
        "input_data = [((np.random.randn(1, 3, 224, 224).astype(np.float32), ), np.array([0]))]\n",
        "\n",
        "# Run nebullvm optimization\n",
        "optimized_model = optimize_model(\n",
        "  model, input_data=input_data, optimization_time=\"unconstrained\"\n",
        ")\n",
        "\n",
        "# Try the optimized model\n",
        "x = np.random.randn(1, 3, 224, 224).astype(np.float32)\n",
        "res_optimized = optimized_model(x)"
      ]
    },
    {
      "cell_type": "markdown",
      "metadata": {
        "id": "i2IKNc2jbax8"
      },
      "source": [
        "We can print the type of the optimized model to see which compiler was faster:"
      ]
    },
    {
      "cell_type": "code",
      "execution_count": 8,
      "metadata": {
        "colab": {
          "base_uri": "https://localhost:8080/"
        },
        "id": "dFhqAhr0bcbZ",
        "outputId": "aa0b2fe9-2fa0-405b-8e44-3ebbf70f0e69"
      },
      "outputs": [
        {
          "data": {
            "text/plain": [
              "NumpyONNXInferenceLearner(network_parameters=ModelParams(batch_size=1, input_infos=[<nebullvm.base.InputInfo object at 0x7f48206eda10>], output_sizes=[(1000,)], dynamic_info=None), input_tfms=<nebullvm.transformations.base.MultiStageTransformation object at 0x7f480c81a590>)"
            ]
          },
          "execution_count": 8,
          "metadata": {},
          "output_type": "execute_result"
        }
      ],
      "source": [
        "optimized_model"
      ]
    },
    {
      "cell_type": "markdown",
      "metadata": {
        "id": "_UuiqkEfcPy4"
      },
      "source": [
        "In our case, the optimized model type was NumpyONNXInferenceLearner, so this means that onnxruntime was the faster compiler.\n",
        "\n"
      ]
    },
    {
      "cell_type": "markdown",
      "metadata": {
        "id": "E4759DQJcc15"
      },
      "source": [
        "After the optimization step, we can compare the optimized model with the baseline one in order to verify that the output is the same and to measure the speed improvement"
      ]
    },
    {
      "cell_type": "markdown",
      "metadata": {
        "id": "ktQaNfGqceOD"
      },
      "source": [
        "First of all, let's compute and print the original model result\n",
        "\n"
      ]
    },
    {
      "cell_type": "code",
      "execution_count": null,
      "metadata": {
        "colab": {
          "base_uri": "https://localhost:8080/"
        },
        "id": "gUMlNAZrcj5-",
        "outputId": "3670f41f-b2db-4b55-dbf7-c9b0a0146c9d"
      },
      "outputs": [],
      "source": [
        "import onnx\n",
        "import onnxruntime as ort\n",
        "from typing import Dict, List\n",
        "\n",
        "\n",
        "def get_input_names(onnx_model: str):\n",
        "    model = onnx.load(onnx_model)\n",
        "    input_all = [node.name for node in model.graph.input]\n",
        "    return input_all\n",
        "\n",
        "\n",
        "def get_output_names(onnx_model: str):\n",
        "    model = onnx.load(onnx_model)\n",
        "    output_all = [node.name for node in model.graph.output]\n",
        "    return output_all\n",
        "\n",
        "\n",
        "def run_onnx_model(\n",
        "    onnx_model: str, session: ort.InferenceSession, input_tensors: List[np.ndarray], inputs: Dict, output_names: str\n",
        ") -> List[np.ndarray]:\n",
        "    \n",
        "    res = session.run(\n",
        "        output_names=output_names, input_feed=inputs\n",
        "    )\n",
        "    return list(res)\n",
        "\n",
        "\n",
        "session = ort.InferenceSession(\n",
        "    model,\n",
        "    providers=[\"CUDAExecutionProvider\", \"CPUExecutionProvider\"] # Change to [\"CPUExecutionProvider\"] if run on cpu\n",
        ")\n",
        "\n",
        "inputs = {\n",
        "    name: array\n",
        "    for name, array in zip(get_input_names(model), [x])\n",
        "}\n",
        "\n",
        "res_original = run_onnx_model(model, session, [x], inputs, get_output_names(model))\n",
        "res_original"
      ]
    },
    {
      "cell_type": "markdown",
      "metadata": {
        "id": "iU3dPwSTfWr_"
      },
      "source": [
        "Then, let's print the optimized model result that we computed before"
      ]
    },
    {
      "cell_type": "code",
      "execution_count": null,
      "metadata": {
        "colab": {
          "base_uri": "https://localhost:8080/"
        },
        "id": "S1EKoJ75fVAh",
        "outputId": "73e7b127-e7d3-44a9-bd78-65961bd051df"
      },
      "outputs": [],
      "source": [
        "res_optimized"
      ]
    },
    {
      "cell_type": "markdown",
      "metadata": {
        "id": "Lj4crPMmf_LX"
      },
      "source": [
        "Then, let's compute the average latency of the baseline model:\n",
        "\n"
      ]
    },
    {
      "cell_type": "code",
      "execution_count": 18,
      "metadata": {
        "id": "rGNKr_ShgBbu"
      },
      "outputs": [],
      "source": [
        "import time"
      ]
    },
    {
      "cell_type": "code",
      "execution_count": 20,
      "metadata": {
        "colab": {
          "base_uri": "https://localhost:8080/"
        },
        "id": "I2G4OzhCgG_D",
        "outputId": "a23eb4ea-fa0f-4221-a177-20876e452b53"
      },
      "outputs": [
        {
          "name": "stdout",
          "output_type": "stream",
          "text": [
            "Average latency original model: 0.0715 seconds\n"
          ]
        }
      ],
      "source": [
        "num_iters = 100\n",
        "\n",
        "# Warmup\n",
        "for i in range(10):\n",
        "  run_onnx_model(model, session, [x], inputs, get_output_names(model))\n",
        "\n",
        "start = time.time()\n",
        "for i in range(num_iters):\n",
        "  run_onnx_model(model, session, [x], inputs, get_output_names(model))\n",
        "stop = time.time()\n",
        "\n",
        "print(\"Average latency original model: {:.4f} seconds\".format((stop - start) / num_iters))"
      ]
    },
    {
      "cell_type": "markdown",
      "metadata": {
        "id": "f-jmRjJvgW5V"
      },
      "source": [
        "Finally we compute the average latency for the optimized model:"
      ]
    },
    {
      "cell_type": "code",
      "execution_count": 21,
      "metadata": {
        "colab": {
          "base_uri": "https://localhost:8080/"
        },
        "id": "51c3uaMcgaR-",
        "outputId": "1319a7bc-df1d-4f19-9426-3940ab4a7c5e"
      },
      "outputs": [
        {
          "name": "stdout",
          "output_type": "stream",
          "text": [
            "Average latency optimized model: 0.0051 seconds\n"
          ]
        }
      ],
      "source": [
        "# Warmup\n",
        "for i in range(10):\n",
        "  optimized_model(x)\n",
        "\n",
        "start = time.time()\n",
        "for i in range(num_iters):\n",
        "  optimized_model(x)\n",
        "stop = time.time()\n",
        "\n",
        "print(\"Average latency optimized model: {:.4f} seconds\".format((stop - start) / num_iters))"
      ]
    },
    {
      "cell_type": "markdown",
      "metadata": {
        "id": "tBeRKNTI3iyK"
      },
      "source": [
        "## Scenario 2 - Accuracy drop"
      ]
    },
    {
      "cell_type": "markdown",
      "metadata": {
        "id": "w3wutIzfAMe_"
      },
      "source": [
        "In this scenario, we set a max threshold for the accuracy drop to 2%"
      ]
    },
    {
      "cell_type": "code",
      "execution_count": null,
      "metadata": {
        "id": "fO1nGqpj3p7z"
      },
      "outputs": [],
      "source": [
        "import numpy as np\n",
        "from nebullvm import optimize_model\n",
        "\n",
        "# Load a resnet as example\n",
        "model = \"resnet50-v1-12.onnx\"\n",
        "\n",
        "# Provide an input data for the model\n",
        "# Note that in this case we should provide the model at least 100 data samples\n",
        "input_data = [((np.random.randn(1, 3, 224, 224).astype(np.float32), ), np.array([0])) for i in range(100)]\n",
        "\n",
        "# Run nebullvm optimization\n",
        "optimized_model = optimize_model(\n",
        "  model, input_data=input_data, optimization_time=\"unconstrained\", metric = \"accuracy\", metric_drop_ths = 0.02\n",
        ")\n",
        "\n",
        "# Try the optimized model\n",
        "x = np.random.randn(1, 3, 224, 224).astype(np.float32)\n",
        "res_optimized = optimized_model(x)"
      ]
    },
    {
      "cell_type": "markdown",
      "metadata": {
        "id": "4UFtwZbEiLv3"
      },
      "source": [
        "Here we compute the average throughput for the baseline model:"
      ]
    },
    {
      "cell_type": "code",
      "execution_count": 23,
      "metadata": {
        "colab": {
          "base_uri": "https://localhost:8080/"
        },
        "id": "qFKHaHM6-GKm",
        "outputId": "73b95996-4d1f-4aa7-a96d-a40070bf36bd"
      },
      "outputs": [
        {
          "name": "stdout",
          "output_type": "stream",
          "text": [
            "Average latency original model: 0.0763 seconds\n"
          ]
        }
      ],
      "source": [
        "num_iters = 100\n",
        "\n",
        "# Warmup\n",
        "for i in range(10):\n",
        "  run_onnx_model(model, session, [x], inputs, get_output_names(model))\n",
        "\n",
        "start = time.time()\n",
        "for i in range(num_iters):\n",
        "  run_onnx_model(model, session, [x], inputs, get_output_names(model))\n",
        "stop = time.time()\n",
        "\n",
        "print(\"Average latency original model: {:.4f} seconds\".format((stop - start) / num_iters))"
      ]
    },
    {
      "cell_type": "markdown",
      "metadata": {
        "id": "J8g0aJRJiXA5"
      },
      "source": [
        "Here we compute the average throughput for the optimized model:"
      ]
    },
    {
      "cell_type": "code",
      "execution_count": 24,
      "metadata": {
        "colab": {
          "base_uri": "https://localhost:8080/"
        },
        "id": "_IbAW0KA4Fm5",
        "outputId": "67f44401-9568-4f38-802a-d81e3139af5a"
      },
      "outputs": [
        {
          "name": "stdout",
          "output_type": "stream",
          "text": [
            "Average latency optimized model: 0.0048 seconds\n"
          ]
        }
      ],
      "source": [
        "# Warmup\n",
        "for i in range(10):\n",
        "  optimized_model(x)\n",
        "\n",
        "start = time.time()\n",
        "for i in range(num_iters):\n",
        "  optimized_model(x)\n",
        "stop = time.time()\n",
        "\n",
        "print(\"Average latency optimized model: {:.4f} seconds\".format((stop - start) / num_iters))"
      ]
    },
    {
      "cell_type": "markdown",
      "metadata": {
        "id": "xLBCDOTS10L6"
      },
      "source": [
        "<center> \n",
        "    <a href=\"https://discord.com/invite/RbeQMu886J\" target=\"_blank\" style=\"text-decoration: none;\"> Join the community </a> |\n",
        "    <a href=\"https://nebuly.gitbook.io/nebuly/welcome/questions-and-contributions\" target=\"_blank\" style=\"text-decoration: none;\"> Contribute to the library </a>\n",
        "</center>\n",
        "\n",
        "<center> \n",
        "    <a href=\"https://github.com/nebuly-ai/nebullvm#how-it-works\" target=\"_blank\" style=\"text-decoration: none;\"> How nebullvm works </a> •\n",
        "    <a href=\"https://github.com/nebuly-ai/nebullvm#documentation\" target=\"_blank\" style=\"text-decoration: none;\"> Documentation </a> •\n",
        "    <a href=\"https://github.com/nebuly-ai/nebullvm#api-quick-view\" target=\"_blank\" style=\"text-decoration: none;\"> API quick view </a> \n",
        "</center>"
      ]
    }
  ],
  "metadata": {
    "accelerator": "GPU",
    "colab": {
      "collapsed_sections": [],
      "provenance": []
    },
    "gpuClass": "standard",
    "kernelspec": {
      "display_name": "Python 3.9.13 ('pytorch')",
      "language": "python",
      "name": "python3"
    },
    "language_info": {
      "codemirror_mode": {
        "name": "ipython",
        "version": 3
      },
      "file_extension": ".py",
      "mimetype": "text/x-python",
      "name": "python",
      "nbconvert_exporter": "python",
      "pygments_lexer": "ipython3",
      "version": "3.9.13"
    },
    "vscode": {
      "interpreter": {
        "hash": "292946fc3537f9d97fe8e6b71322c45e676689a1ee6a93c259ec370faae75bb1"
      }
    }
  },
  "nbformat": 4,
  "nbformat_minor": 0
}
