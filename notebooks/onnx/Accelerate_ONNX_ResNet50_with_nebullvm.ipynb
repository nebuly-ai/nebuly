{
  "cells": [
    {
      "cell_type": "markdown",
      "metadata": {
        "id": "p5b0PzpW1xJq"
      },
      "source": [
        "![nebullvm nebuly logo.png](data:image/png;base64,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)"
      ]
    },
    {
      "cell_type": "markdown",
      "metadata": {
        "id": "T9xuwZEHzN2K"
      },
      "source": [
        "#Accelerate ONNX ResNet50 with nebullvm\n",
        "Hi and welcome 👋\n",
        "\n",
        "In this notebook we will discover how in just a few steps you can speed up the response time of deep learning model inference using the open-source library `nebullvm`.\n",
        "\n",
        "We will\n",
        "1. Install nebullvm and the deep learning compilers used by the library.\n",
        "2. Speed up an ONNX ResNet50 without any loss of accuracy.\n",
        "3. Achieve faster acceleration on the same model by applying more aggressive optimization techniques (e.g. pruning, quantization) under the constraint of sacrificing up to 2% accuracy.\n",
        "\n",
        "Let's jump to the code."
      ]
    },
    {
      "cell_type": "code",
      "execution_count": null,
      "metadata": {
        "id": "5Yc5KYo_YzE8"
      },
      "outputs": [],
      "source": [
        "%env CUDA_VISIBLE_DEVICES=0"
      ]
    },
    {
      "cell_type": "markdown",
      "metadata": {
        "id": "HbFy2Aykz2Qo"
      },
      "source": [
        "#Installation"
      ]
    },
    {
      "cell_type": "code",
      "execution_count": null,
      "metadata": {
        "id": "ZPJHVZ74d8r2"
      },
      "outputs": [],
      "source": [
        "%pip install nebullvm"
      ]
    },
    {
      "cell_type": "markdown",
      "metadata": {
        "id": "wHvrcTYLz-dn"
      },
      "source": [
        "This is an optional step. Run it if you want to contribute to continuous improvement of `nebullvm` and share the performance achieved with it. You can find full details in the [docs](https://nebuly.gitbook.io/nebuly/nebullvm/how-nebullvm-works/fostering-continuous-improvement#sharing-feedback-to-improve-nebullvm)."
      ]
    },
    {
      "cell_type": "code",
      "execution_count": 2,
      "metadata": {
        "id": "UMjbl67gynsS"
      },
      "outputs": [],
      "source": [
        "json_feedback = {\n",
        "    \"allow_feedback_collection\": True\n",
        "}\n",
        "import json\n",
        "from pathlib import Path\n",
        "\n",
        "(Path.home() / \".nebullvm\").mkdir(exist_ok=True)\n",
        "with open(Path.home() / \".nebullvm/collect.json\", \"w\") as f:\n",
        "  json.dump(json_feedback, f)"
      ]
    },
    {
      "cell_type": "markdown",
      "metadata": {
        "id": "b0CLgQqxyrQi"
      },
      "source": [
        "Let's now import nebullvm. During the import we will install the deep learning compilers used by nebullvm that are not yet installed on the hardware.\n",
        "\n",
        "The installation of the compilers may take a few minutes."
      ]
    },
    {
      "cell_type": "code",
      "execution_count": null,
      "metadata": {
        "colab": {
          "base_uri": "https://localhost:8080/",
          "height": 786
        },
        "id": "GvK9mZSjeLU5",
        "outputId": "c1d4e85d-87fb-431c-f2cb-ce3a378fb53d"
      },
      "outputs": [],
      "source": [
        "import nebullvm"
      ]
    },
    {
      "cell_type": "markdown",
      "metadata": {
        "id": "N5RXHoZl0p3p"
      },
      "source": [
        "# Optimization example with ONNX"
      ]
    },
    {
      "cell_type": "markdown",
      "metadata": {
        "id": "-Ju-VcRH01Mw"
      },
      "source": [
        "In the following example we will try to optimize a standard ONNX resnet50.\n",
        "\n",
        "Nebullvm can accelerate neural networks without loss of a user-defined precision metric, e.g. accuracy, or can achieve faster acceleration by applying more aggressive optimization techniques, such as pruning and quantization, that may have a negative impact on the selectic metric. The maximum threshold value for accuracy loss is determined by the metric_drop_ths parameter. Read more in the [docs](https://nebuly.gitbook.io/nebuly/nebullvm/get-started).\n",
        "\n",
        "Let first test the optimization without accuracy loss (metric_drop_ths=0, default value), and then apply further accelerate it under the constrained of losing up to 2% of accuracy (metric = \"accuracy\", metric_drop_ths = 0.02)."
      ]
    },
    {
      "cell_type": "markdown",
      "metadata": {
        "id": "skxEuemn171G"
      },
      "source": [
        "## Scenario 1 - No accuracy drop"
      ]
    },
    {
      "cell_type": "markdown",
      "metadata": {
        "id": "wVRLXrDi2VaG"
      },
      "source": [
        "First of all we download the pretrained ONNX resnet50 model"
      ]
    },
    {
      "cell_type": "code",
      "execution_count": 6,
      "metadata": {
        "colab": {
          "base_uri": "https://localhost:8080/"
        },
        "id": "6I5GDvWbZ-LJ",
        "outputId": "6ac09b39-9c6e-4d38-dfb6-35069938f9c1"
      },
      "outputs": [
        {
          "name": "stdout",
          "output_type": "stream",
          "text": [
            "--2022-10-10 19:47:05--  https://github.com/onnx/models/raw/main/vision/classification/resnet/model/resnet50-v1-12.onnx\n",
            "Resolving github.com (github.com)... 140.82.121.4\n",
            "Connecting to github.com (github.com)|140.82.121.4|:443... connected.\n",
            "HTTP request sent, awaiting response... 302 Found\n",
            "Location: https://media.githubusercontent.com/media/onnx/models/main/vision/classification/resnet/model/resnet50-v1-12.onnx [following]\n",
            "--2022-10-10 19:47:06--  https://media.githubusercontent.com/media/onnx/models/main/vision/classification/resnet/model/resnet50-v1-12.onnx\n",
            "Resolving media.githubusercontent.com (media.githubusercontent.com)... 185.199.108.133, 185.199.109.133, 185.199.110.133, ...\n",
            "Connecting to media.githubusercontent.com (media.githubusercontent.com)|185.199.108.133|:443... connected.\n",
            "HTTP request sent, awaiting response... 200 OK\n",
            "Length: 102576593 (98M) [application/octet-stream]\n",
            "Saving to: ‘resnet50-v1-12.onnx’\n",
            "\n",
            "resnet50-v1-12.onnx 100%[===================>]  97.82M   259MB/s    in 0.4s    \n",
            "\n",
            "2022-10-10 19:47:10 (259 MB/s) - ‘resnet50-v1-12.onnx’ saved [102576593/102576593]\n",
            "\n"
          ]
        }
      ],
      "source": [
        "!wget https://github.com/onnx/models/raw/main/vision/classification/resnet/model/resnet50-v1-12.onnx"
      ]
    },
    {
      "cell_type": "markdown",
      "metadata": {
        "id": "vrkOvGfkaXk7"
      },
      "source": [
        "Then we optimize it with nebullvm simple API"
      ]
    },
    {
      "cell_type": "code",
      "execution_count": null,
      "metadata": {
        "id": "2RbgGruAeQcf"
      },
      "outputs": [],
      "source": [
        "import numpy as np\n",
        "from nebullvm.api.functions import optimize_model\n",
        "\n",
        "# Load a resnet as example\n",
        "model = \"resnet50-v1-12.onnx\"\n",
        "\n",
        "# Provide an input data for the model    \n",
        "input_data = [((np.random.randn(1, 3, 224, 224).astype(np.float32), ), 0)]\n",
        "\n",
        "# Run nebullvm optimization\n",
        "optimized_model = optimize_model(\n",
        "  model, input_data=input_data, optimization_time=\"unconstrained\"\n",
        ")\n",
        "\n",
        "# Try the optimized model\n",
        "x = np.random.randn(1, 3, 224, 224).astype(np.float32)\n",
        "res_optimized = optimized_model(x)"
      ]
    },
    {
      "cell_type": "markdown",
      "metadata": {
        "id": "i2IKNc2jbax8"
      },
      "source": [
        "We can print the type of the optimized model to see which compiler was faster:"
      ]
    },
    {
      "cell_type": "code",
      "execution_count": 8,
      "metadata": {
        "colab": {
          "base_uri": "https://localhost:8080/"
        },
        "id": "dFhqAhr0bcbZ",
        "outputId": "aa0b2fe9-2fa0-405b-8e44-3ebbf70f0e69"
      },
      "outputs": [
        {
          "data": {
            "text/plain": [
              "NumpyONNXInferenceLearner(network_parameters=ModelParams(batch_size=1, input_infos=[<nebullvm.base.InputInfo object at 0x7f48206eda10>], output_sizes=[(1000,)], dynamic_info=None), input_tfms=<nebullvm.transformations.base.MultiStageTransformation object at 0x7f480c81a590>)"
            ]
          },
          "execution_count": 8,
          "metadata": {},
          "output_type": "execute_result"
        }
      ],
      "source": [
        "optimized_model"
      ]
    },
    {
      "cell_type": "markdown",
      "metadata": {
        "id": "_UuiqkEfcPy4"
      },
      "source": [
        "In our case, the optimized model type was NumpyONNXInferenceLearner, so this means that onnxruntime was the faster compiler.\n",
        "\n"
      ]
    },
    {
      "cell_type": "markdown",
      "metadata": {
        "id": "E4759DQJcc15"
      },
      "source": [
        "After the optimization step, we can compare the optimized model with the baseline one in order to verify that the output is the same and to measure the speed improvement"
      ]
    },
    {
      "cell_type": "markdown",
      "metadata": {
        "id": "ktQaNfGqceOD"
      },
      "source": [
        "First of all, let's compute and print the original model result\n",
        "\n"
      ]
    },
    {
      "cell_type": "code",
      "execution_count": 17,
      "metadata": {
        "colab": {
          "base_uri": "https://localhost:8080/"
        },
        "id": "gUMlNAZrcj5-",
        "outputId": "3670f41f-b2db-4b55-dbf7-c9b0a0146c9d"
      },
      "outputs": [
        {
          "data": {
            "text/plain": [
              "[array([[-1.23857968e-01,  1.52007008e+00,  2.68545032e+00,\n",
              "          1.53301466e+00,  4.11650944e+00,  2.58380914e+00,\n",
              "          2.01530313e+00,  1.90706924e-01,  3.83482069e-01,\n",
              "         -1.19363546e+00,  2.57466936e+00,  5.56852198e+00,\n",
              "          3.07378173e+00,  3.44522691e+00,  4.03184366e+00,\n",
              "          1.84742117e+00,  5.27928352e-01,  2.39386725e+00,\n",
              "          3.24960589e+00,  1.89303136e+00, -1.29659843e+00,\n",
              "          6.64232790e-01,  1.55464339e+00,  1.46186197e+00,\n",
              "          4.39881086e-02,  3.32891904e-02,  2.25577459e-01,\n",
              "         -1.59407869e-01,  3.84590328e-01,  3.39020252e-01,\n",
              "         -1.81147861e+00,  2.41021585e+00, -1.24096537e+00,\n",
              "          2.06053019e+00,  2.38865709e+00, -1.79495621e+00,\n",
              "         -2.58589119e-01, -4.36356574e-01,  1.87948334e+00,\n",
              "          3.85342479e-01,  1.98818159e+00,  5.35687685e-01,\n",
              "          6.02469087e-01,  5.65175116e-02,  9.72970426e-01,\n",
              "          4.10859436e-01,  2.69671464e+00, -6.94177628e-01,\n",
              "         -1.04691410e+00, -4.93430048e-01,  5.46487451e-01,\n",
              "         -3.51904249e+00,  9.50540721e-01,  1.20523119e+00,\n",
              "          1.05434728e+00,  2.73271823e+00,  4.61585999e-01,\n",
              "          2.96080947e-01,  1.49207211e+00,  3.39138103e+00,\n",
              "          4.10267115e+00, -5.99969178e-02,  9.94250953e-01,\n",
              "          2.00917631e-01,  1.25217617e+00,  3.89021492e+00,\n",
              "          1.70728028e+00,  9.85091701e-02,  8.05998862e-01,\n",
              "          1.01636076e+00, -1.14618766e+00,  3.16508889e+00,\n",
              "          5.36450684e-01,  1.90668857e+00,  1.44178867e+00,\n",
              "          1.82594025e+00,  1.98197567e+00,  2.61696148e+00,\n",
              "          4.46157312e+00,  5.50892448e+00, -9.63087320e-01,\n",
              "          3.75401437e-01,  1.09068239e+00, -9.25105214e-01,\n",
              "          1.44869459e+00,  2.60957766e+00,  1.23306429e+00,\n",
              "          6.13928378e-01,  3.19391459e-01,  2.28890204e+00,\n",
              "         -5.21706760e-01, -6.54926479e-01,  1.91212833e+00,\n",
              "          9.02900636e-01,  2.72531271e+00, -3.08837724e+00,\n",
              "          3.13916230e+00, -8.06711733e-01, -2.78564239e+00,\n",
              "          1.34499097e+00, -1.39640176e+00, -3.01991558e+00,\n",
              "         -3.73325557e-01, -7.45727539e-01, -1.03756440e+00,\n",
              "         -3.20732355e+00, -1.95078588e+00,  8.38933277e+00,\n",
              "          2.50795007e+00,  4.02495718e+00,  3.30190945e+00,\n",
              "          8.25263786e+00,  5.93483150e-01,  1.58334005e+00,\n",
              "          2.22545123e+00,  4.79968405e+00,  9.35791731e-01,\n",
              "          1.05570209e+00,  2.08269668e+00,  1.04517072e-01,\n",
              "          8.90968025e-01,  9.02235150e-01, -4.17646170e-01,\n",
              "         -3.19587588e-01,  3.16917598e-01,  1.91661930e+00,\n",
              "          4.75959682e+00,  7.74083197e-01, -4.23550367e-01,\n",
              "         -2.53162885e+00, -8.05435300e-01, -8.38567197e-01,\n",
              "          2.50341344e+00,  6.57605290e-01, -8.97219125e-03,\n",
              "         -1.32675421e+00, -1.20862055e+00, -5.25976241e-01,\n",
              "          3.98368239e-01, -4.99563724e-01, -1.82020116e+00,\n",
              "         -1.68980956e+00, -2.94923925e+00,  9.35598731e-01,\n",
              "         -9.44427729e-01,  6.05703354e-01,  3.61772254e-04,\n",
              "         -6.98445261e-01, -1.46050286e+00,  1.41343653e+00,\n",
              "         -7.03510642e-01,  6.97195530e-01, -2.90919781e+00,\n",
              "         -5.39080381e-01, -2.50589824e+00, -1.42376578e+00,\n",
              "         -9.48326886e-01, -1.48658943e+00, -1.39774847e+00,\n",
              "         -1.52507865e+00, -3.43897414e+00, -1.03647158e-01,\n",
              "          3.60919774e-01,  7.05361605e-01, -9.99104500e-01,\n",
              "         -2.33231282e+00, -7.70577788e-01, -2.90714264e+00,\n",
              "         -1.15504944e+00, -6.09848201e-01, -1.57976079e+00,\n",
              "          1.28170645e+00, -2.28679299e+00, -2.35776842e-01,\n",
              "         -3.34512281e+00, -2.72274923e+00, -2.48869061e+00,\n",
              "         -2.60904765e+00, -3.20848495e-01, -2.68774509e+00,\n",
              "         -1.76299047e+00, -1.65617228e+00, -1.33305156e+00,\n",
              "         -1.76676536e+00, -1.85199964e+00, -2.99229956e+00,\n",
              "         -3.14197397e+00, -1.48294234e+00, -3.36594391e+00,\n",
              "         -2.54704523e+00, -3.18988538e+00, -8.58597398e-01,\n",
              "         -2.26085997e+00, -1.01787615e+00, -4.75516033e+00,\n",
              "         -5.00593781e-01, -2.61906362e+00, -3.97536445e+00,\n",
              "         -3.29389381e+00, -1.31750786e+00, -2.44954944e+00,\n",
              "         -1.29383719e+00, -1.16008914e+00, -7.64341176e-01,\n",
              "         -2.78319269e-01, -3.01144600e+00, -4.10132360e+00,\n",
              "         -4.53465462e-01, -1.48206842e+00, -9.04911935e-01,\n",
              "         -3.83949327e+00, -3.65504527e+00, -2.21337214e-01,\n",
              "          1.59101129e-01, -2.14662218e+00, -1.21529222e-01,\n",
              "         -3.21302509e+00, -6.00427508e-01, -2.50368428e+00,\n",
              "         -3.49355549e-01, -2.43513250e+00, -1.99612057e+00,\n",
              "         -2.42355704e+00, -5.34504414e-01, -2.29529333e+00,\n",
              "         -1.35351932e+00, -2.52366590e+00, -2.03602409e+00,\n",
              "         -1.71983588e+00, -1.73691452e+00,  5.86378157e-01,\n",
              "         -1.15910637e+00, -1.71794486e+00, -4.46998119e+00,\n",
              "         -1.81478190e+00, -1.04381239e+00, -1.00953507e+00,\n",
              "          4.25688326e-01,  1.04498792e+00, -2.41632032e+00,\n",
              "         -1.54786348e+00, -2.01328158e+00, -1.24331284e+00,\n",
              "         -3.24099159e+00, -4.16305590e+00, -1.55917668e+00,\n",
              "         -1.58034015e+00, -3.03775740e+00, -1.61604810e+00,\n",
              "         -1.71081138e+00, -6.26310587e-01,  4.78292145e-02,\n",
              "         -3.55684662e+00, -5.49996674e-01, -1.12106669e+00,\n",
              "         -3.45139170e+00, -3.13819361e+00, -1.56020260e+00,\n",
              "         -9.34334576e-01, -4.97491628e-01, -2.10649085e+00,\n",
              "         -2.27850795e+00, -5.12161493e+00, -1.57654420e-01,\n",
              "         -7.52890348e-01, -6.76931560e-01, -1.02155042e+00,\n",
              "         -3.26064277e+00, -3.35492110e+00, -1.23916745e+00,\n",
              "         -3.61904860e-01, -1.57143617e+00, -1.14056863e-01,\n",
              "         -1.36068475e+00, -1.44455338e+00, -1.52110064e+00,\n",
              "         -1.86898613e+00, -9.67596412e-01, -1.08181942e+00,\n",
              "         -3.57205957e-01, -2.89182980e-02, -8.31835389e-01,\n",
              "          7.13622421e-02, -4.46567565e-01, -1.26113641e+00,\n",
              "         -6.89064503e-01, -2.18677425e+00, -3.41620564e+00,\n",
              "         -1.75809467e+00, -2.85653591e+00, -3.82745242e+00,\n",
              "         -2.17580438e+00, -2.88464928e+00, -6.98794067e-01,\n",
              "         -3.61393476e+00, -8.94853175e-01, -1.40758479e+00,\n",
              "         -3.09122467e+00,  2.01705217e-01,  1.83969587e-01,\n",
              "         -1.69239724e+00,  5.19974136e+00, -4.75000173e-01,\n",
              "          1.66924286e+00,  1.60627210e+00, -2.82699466e-01,\n",
              "          1.34506297e+00,  2.98112750e+00,  3.20223689e+00,\n",
              "          1.38139832e+00,  5.32850552e+00,  2.76981211e+00,\n",
              "          1.15159214e+00,  3.33972359e+00,  2.32545185e+00,\n",
              "          2.72827697e+00,  1.62603652e+00,  4.55900908e+00,\n",
              "          4.10272455e+00,  3.51349235e+00,  2.64507937e+00,\n",
              "         -1.15441516e-01, -1.15707278e+00,  1.00250316e+00,\n",
              "          3.81371081e-01,  1.02761734e+00,  1.24387443e+00,\n",
              "          2.74224925e+00,  6.13689244e-01,  3.51220816e-01,\n",
              "          1.57014084e+00,  1.98248410e+00, -5.71879864e-01,\n",
              "          2.53569126e+00,  3.70246381e-01,  1.04168594e+00,\n",
              "         -9.36290324e-02, -1.33486831e+00, -1.68450761e+00,\n",
              "         -1.64247727e+00, -1.86943054e+00, -2.53069544e+00,\n",
              "         -2.84860730e+00, -3.53621960e+00, -3.13300395e+00,\n",
              "         -3.71981907e+00, -3.82884169e+00, -3.99207377e+00,\n",
              "         -2.21441007e+00, -2.64774346e+00, -1.09230947e+00,\n",
              "         -2.49110365e+00, -1.12398636e+00, -2.06303477e-01,\n",
              "         -1.37850738e+00, -2.54241538e+00, -7.38233745e-01,\n",
              "         -1.53004444e+00,  5.91765642e-01, -1.01611070e-01,\n",
              "         -3.77498293e+00,  2.18108773e+00, -1.95241109e-01,\n",
              "          2.08104706e+00, -2.19521523e-02,  4.19119120e-01,\n",
              "         -2.99142599e+00, -6.67373896e-01, -1.07475102e+00,\n",
              "         -1.71495104e+00, -3.29254055e+00, -2.83344698e+00,\n",
              "         -3.74109983e-01, -1.85028207e+00,  9.46296155e-02,\n",
              "         -1.09476686e+00, -1.96184301e+00,  1.19816899e-01,\n",
              "         -5.88284671e-01, -7.42551565e-01, -3.79057795e-01,\n",
              "         -6.37556672e-01,  5.81299543e-01, -1.60732925e-01,\n",
              "         -2.25880694e+00, -3.26839304e+00, -3.49861550e+00,\n",
              "         -3.31744623e+00, -3.76089263e+00, -2.50153959e-01,\n",
              "          3.50766897e+00, -8.17837238e-01,  2.51978564e+00,\n",
              "          2.75116992e+00,  8.61626044e-02,  1.79089963e+00,\n",
              "          2.62808943e+00,  1.38891959e+00, -4.17879969e-01,\n",
              "          1.65489721e+00, -4.98615384e-01, -2.86778879e+00,\n",
              "          5.80900788e-01, -2.78106737e+00, -9.10643280e-01,\n",
              "          1.35120702e+00, -2.44662261e+00, -1.62054670e+00,\n",
              "         -4.42961121e+00,  2.06206942e+00,  1.33574891e+00,\n",
              "          1.54304075e+00,  4.95279026e+00, -1.25437713e+00,\n",
              "          1.22313178e+00, -1.46586788e+00,  6.19141638e-01,\n",
              "          3.45434308e+00,  4.21797466e+00,  2.23829722e+00,\n",
              "         -1.07271051e+00,  1.97567523e+00, -8.59240532e-01,\n",
              "         -3.65594649e+00, -2.85441017e+00, -1.50077844e+00,\n",
              "         -1.48426831e-01,  4.72716182e-01, -9.48376417e-01,\n",
              "          3.09118605e+00,  1.79598629e+00,  1.12801981e+00,\n",
              "         -4.95024055e-01,  4.64226604e-01, -3.88038754e-01,\n",
              "          1.67733938e-01, -2.13925171e+00,  1.91213465e+00,\n",
              "         -4.64640856e-01, -2.07097912e+00,  2.00762108e-01,\n",
              "          2.67624557e-01,  3.92631412e-01,  3.04117799e+00,\n",
              "         -3.12671095e-01, -1.56382763e+00,  6.37365103e+00,\n",
              "         -1.87014747e+00,  5.48096538e-01, -3.41517854e+00,\n",
              "         -4.44672394e+00,  4.90036637e-01, -2.00079530e-01,\n",
              "         -1.99236810e+00, -2.50791335e+00,  3.98632741e+00,\n",
              "         -1.55812693e+00, -5.92751324e-01,  3.29912864e-02,\n",
              "          1.32671013e-01, -2.54018486e-01,  3.16342622e-01,\n",
              "          2.86465573e+00,  2.69728112e+00,  1.50710130e+00,\n",
              "         -5.15110075e-01, -2.12948966e+00, -1.63772190e+00,\n",
              "          8.08665037e-01,  6.83662772e-01,  2.45935321e+00,\n",
              "         -1.85490024e+00, -1.31222534e+00, -1.13660610e+00,\n",
              "         -1.45961698e-02,  4.19660151e-01, -4.00392866e+00,\n",
              "         -8.83461833e-01,  1.12327456e+00,  3.32961470e-01,\n",
              "          3.75355506e+00,  3.38475436e-01, -6.51360810e-01,\n",
              "         -2.08477616e+00, -4.13268358e-01,  3.43948454e-01,\n",
              "         -1.35490429e+00,  9.89616513e-01,  6.30358076e+00,\n",
              "          6.24757576e+00,  5.66165113e+00, -2.11670399e-01,\n",
              "          3.07438314e-01, -1.72103822e+00,  7.23931253e-01,\n",
              "         -2.23338079e+00, -1.06501496e+00, -2.71045148e-01,\n",
              "          3.17233729e+00,  9.76070702e-01, -5.74181736e-01,\n",
              "          2.57447183e-01,  4.92701888e-01,  5.34695946e-02,\n",
              "          5.12229279e-02, -6.53204381e-01,  5.81415796e+00,\n",
              "          1.18371761e+00,  2.20203543e+00, -1.44992197e+00,\n",
              "         -1.91312981e+00, -2.45300126e+00,  6.04816496e-01,\n",
              "          2.22102746e-01, -1.09138048e+00,  5.90921819e-01,\n",
              "          1.47238576e+00,  2.20686960e+00, -9.01160166e-02,\n",
              "         -6.40390337e-01, -3.25568944e-01, -1.81338787e+00,\n",
              "          1.25392735e+00,  7.20738292e-01, -2.09646448e-02,\n",
              "         -1.18683636e+00, -1.22819328e+00, -1.18508823e-02,\n",
              "         -8.16608369e-01,  1.99820504e-01,  2.62402868e+00,\n",
              "         -3.70308876e-01, -2.60521841e+00,  8.78734469e-01,\n",
              "          1.93392634e+00, -3.26601076e+00, -1.69428623e+00,\n",
              "         -1.16691911e+00,  1.31809354e+00,  4.25655031e+00,\n",
              "         -2.21213743e-01,  6.19705200e-01,  1.41027582e+00,\n",
              "         -1.85357702e+00,  2.08378148e+00,  3.35137320e+00,\n",
              "         -8.68343234e-01, -3.44009542e+00, -2.30160642e+00,\n",
              "          2.74410129e+00, -3.56308341e+00,  8.18367302e-02,\n",
              "          2.02591276e+00,  1.53502655e+00, -5.97844422e-01,\n",
              "         -5.72482683e-02,  5.30681229e+00,  2.07694292e+00,\n",
              "          2.33453059e+00,  2.44738221e+00,  1.48722208e+00,\n",
              "         -1.82571793e+00,  3.05088329e+00,  2.92079282e+00,\n",
              "         -3.49090362e+00,  4.29428458e-01, -6.94763482e-01,\n",
              "          2.40705490e+00, -1.17376721e+00, -3.02573442e-01,\n",
              "          1.48011997e-01, -5.17489910e-01, -2.45780885e-01,\n",
              "         -1.45149589e+00,  2.59563065e+00, -1.74669838e+00,\n",
              "         -3.26636267e+00, -1.13080776e+00, -1.22661150e+00,\n",
              "         -1.54229963e+00, -6.09726548e-01,  2.11866283e+00,\n",
              "         -1.49070954e+00, -5.63997403e-02,  1.68955654e-01,\n",
              "         -6.63688108e-02, -2.74895287e+00,  2.32293427e-01,\n",
              "          3.26424837e+00,  7.01704919e-01, -1.75108993e+00,\n",
              "          3.03405976e+00, -4.07629579e-01, -9.49753821e-02,\n",
              "         -1.28022170e+00, -5.89881539e-01,  3.18483621e-01,\n",
              "         -1.28393531e+00, -6.19668141e-02,  3.82586789e+00,\n",
              "          4.21410942e+00,  6.06234312e-01,  1.56069505e+00,\n",
              "         -4.56091309e+00, -2.31222332e-01,  1.64269596e-01,\n",
              "         -3.26202452e-01,  1.34277952e+00,  2.36469340e+00,\n",
              "         -2.17474222e+00,  2.79240131e+00,  1.99362504e+00,\n",
              "         -3.27163363e+00,  1.26812625e+00, -6.37142479e-01,\n",
              "          9.84051764e-01,  5.31177425e+00,  1.27768123e+00,\n",
              "          1.06594428e-01,  3.55994797e+00,  4.68683720e+00,\n",
              "         -1.04982972e+00,  3.86248946e+00,  1.30347466e+00,\n",
              "         -2.83611894e+00, -2.43201280e+00,  3.45635629e+00,\n",
              "         -1.20177042e+00, -5.43619931e-01,  6.08263195e-01,\n",
              "         -2.74997681e-01,  4.75711852e-01,  4.65457535e+00,\n",
              "          6.72903121e-01, -3.30820107e+00,  5.05881667e-01,\n",
              "          8.40179808e-03,  7.12569773e-01, -1.78536147e-01,\n",
              "         -1.13954329e+00,  4.28814888e+00,  4.12544906e-01,\n",
              "         -2.40811133e+00,  3.42038751e-01,  5.31812906e+00,\n",
              "          4.52120513e-01,  1.67828429e+00,  1.11177683e+00,\n",
              "         -1.53246152e+00, -9.50584829e-01,  4.13550234e+00,\n",
              "          1.09905338e+00, -1.53297985e+00, -1.07787061e+00,\n",
              "         -3.21068835e+00,  1.20106745e+00, -1.13735759e+00,\n",
              "          2.04634476e+00, -9.07279372e-01,  1.47505128e+00,\n",
              "         -8.93803179e-01, -2.85411429e+00,  1.83260453e+00,\n",
              "         -2.31969786e+00,  2.24358606e+00, -8.39580476e-01,\n",
              "         -1.01168662e-01,  5.42155564e-01, -3.55162501e-01,\n",
              "          1.80808377e+00, -1.92599416e+00, -1.29638493e+00,\n",
              "          8.17813098e-01,  1.69665682e+00,  3.86946487e+00,\n",
              "         -2.59765506e+00, -2.50531483e+00,  3.09711385e+00,\n",
              "         -1.38375938e+00,  4.96280289e+00,  9.32914436e-01,\n",
              "          2.30833721e+00,  3.04948401e+00,  1.13057745e+00,\n",
              "         -4.47894484e-01,  1.28977478e+00, -9.77524102e-01,\n",
              "         -2.41756678e+00,  1.48480606e+00, -5.89149654e-01,\n",
              "         -4.76695967e+00, -3.01658839e-01, -5.79314232e-01,\n",
              "         -1.07108450e+00, -4.15837765e+00,  1.64235234e+00,\n",
              "          1.09072971e+00,  5.15444815e-01, -8.45879972e-01,\n",
              "         -3.17827702e-01,  2.93230677e+00,  3.54047322e+00,\n",
              "          2.42124528e-01,  8.07634354e-01,  2.52822661e+00,\n",
              "         -2.55774045e+00, -6.22503757e-01,  9.97671068e-01,\n",
              "         -7.97815561e-01,  2.16782045e+00,  6.61228836e-01,\n",
              "          1.67739117e+00,  4.48978758e+00, -1.27214420e+00,\n",
              "          1.96611893e+00, -1.87846124e+00,  6.33333206e-01,\n",
              "         -3.61732006e+00, -1.36956096e+00,  5.23540258e-01,\n",
              "          1.71952832e+00,  3.23648977e+00,  1.09872115e+00,\n",
              "          4.76401746e-01, -2.20899749e+00,  2.66618562e+00,\n",
              "         -3.44676518e+00,  1.98266578e+00,  1.71917427e+00,\n",
              "          1.00239597e-01, -1.65381479e+00,  1.96700644e+00,\n",
              "         -1.90967703e+00,  2.60076737e+00, -7.35059261e-01,\n",
              "          3.08583617e+00,  9.38667119e-01, -1.21781588e+00,\n",
              "          2.18031740e+00, -4.13606215e+00,  4.37205791e-01,\n",
              "          1.03984892e+00, -3.28490734e-01, -1.81579399e+00,\n",
              "          1.65742517e-01,  6.07245684e-01,  8.28099191e-01,\n",
              "         -8.69079769e-01,  8.56688246e-03,  2.19547248e+00,\n",
              "         -7.28320554e-02, -2.09345198e+00,  2.50285506e+00,\n",
              "         -8.51694226e-01, -1.49730995e-01,  7.00208604e-01,\n",
              "          2.03903198e+00, -2.24161005e+00, -3.64632440e+00,\n",
              "         -1.62546396e+00,  1.92064643e+00, -8.34399313e-02,\n",
              "         -2.42647386e+00, -1.07749045e+00, -8.31530541e-02,\n",
              "         -1.96515810e+00, -2.29233050e+00,  2.02285576e+00,\n",
              "          8.20312440e-01,  3.45798135e+00,  1.71173656e+00,\n",
              "          5.64474225e-01,  3.05512929e+00,  5.81395388e-01,\n",
              "          1.84594369e+00,  6.75660133e-01,  1.16273558e+00,\n",
              "          1.36184752e+00, -5.08325934e-01, -1.73145935e-01,\n",
              "         -6.67163491e-01,  3.34258020e-01,  1.86934221e+00,\n",
              "          3.43990803e+00,  1.72028923e+00,  1.78303289e+00,\n",
              "          2.28858426e-01, -7.23531023e-02, -8.27813685e-01,\n",
              "         -7.95415938e-01,  8.38735402e-01,  1.65684831e+00,\n",
              "          1.98659182e+00,  2.04541519e-01,  3.84272766e+00,\n",
              "         -5.78488708e-01, -1.22609234e+00, -6.34863138e-01,\n",
              "         -1.28073835e+00,  2.60911256e-01, -2.39703560e+00,\n",
              "          6.75059021e-01, -1.63102138e+00, -1.49006891e+00,\n",
              "          4.72218931e-01,  1.80185890e+00, -1.06270528e+00,\n",
              "          6.61606550e-01, -1.25973105e+00, -1.04731357e+00,\n",
              "         -2.09572721e+00,  2.53101873e+00,  1.88277495e+00,\n",
              "          1.26418793e+00, -1.01738960e-01,  4.16872406e+00,\n",
              "          1.58747435e-01, -3.49499393e+00,  4.18121910e+00,\n",
              "          1.80050075e+00, -2.44573522e+00, -2.59857798e+00,\n",
              "         -1.70222867e+00, -6.19371414e-01,  1.81741667e+00,\n",
              "         -1.60189033e+00,  1.14419520e+00,  1.09727418e+00,\n",
              "          5.69644165e+00, -4.32452059e+00,  1.04916894e+00,\n",
              "         -2.92334580e+00, -1.38306439e+00, -3.69609386e-01,\n",
              "          8.77795279e-01,  4.88381982e-01, -6.49621189e-01,\n",
              "          1.15412259e+00,  9.76759970e-01, -1.42388308e+00,\n",
              "          3.36859989e+00,  1.32441878e+00,  5.58664560e-01,\n",
              "          4.87541944e-01,  1.65860367e+00,  3.40517282e+00,\n",
              "          1.81355166e+00, -2.37716746e+00, -3.33530098e-01,\n",
              "          4.31475699e-01, -9.65953767e-02,  6.23543739e-01,\n",
              "          5.14977026e+00, -1.65157974e+00,  1.29425550e+00,\n",
              "          1.51577818e+00, -2.59843659e+00, -2.53345895e+00,\n",
              "          1.19936347e+00,  8.52549434e-01, -3.04804564e+00,\n",
              "          1.56160331e+00,  2.67666197e+00,  4.22503054e-01,\n",
              "         -2.47161961e+00, -3.81188989e+00, -1.18744445e+00,\n",
              "         -9.98354733e-01,  3.53784871e+00, -3.93317938e-01,\n",
              "         -7.75829479e-02, -3.05234909e-01, -2.92007327e-01,\n",
              "         -1.01657283e+00, -4.74380159e+00, -5.27145676e-02,\n",
              "         -3.30081023e-02, -6.39584005e-01, -1.59901607e+00,\n",
              "          1.80235136e+00,  1.74121654e+00, -1.04810393e+00,\n",
              "          2.99938703e+00,  9.49408293e-01, -6.23933434e-01,\n",
              "          3.95891398e-01,  3.63675505e-01, -1.87323749e+00,\n",
              "         -1.20508432e+00, -1.47401631e+00,  1.62017196e-01,\n",
              "         -1.10186136e+00,  2.98313737e+00,  1.25840807e+00,\n",
              "          4.17443097e-01,  6.25786960e-01,  3.70849013e-01,\n",
              "          1.73797238e+00,  1.58598840e+00, -3.33538264e-01,\n",
              "          6.79937840e-01, -3.52078891e+00,  2.23992085e+00,\n",
              "          9.26160455e-01,  4.91618490e+00,  7.60728538e-01,\n",
              "          1.64739326e-01,  9.41012025e-01,  3.96996403e+00,\n",
              "          8.41133356e-01,  1.72890997e+00,  2.19261825e-01,\n",
              "          5.36401808e-01,  3.71357650e-01, -3.64197969e+00,\n",
              "         -6.79464400e-01, -6.91820979e-02, -1.31827974e+00,\n",
              "          1.98353678e-01,  1.58280647e+00,  3.51076555e+00,\n",
              "          5.45115888e-01, -4.14229244e-01, -2.13116884e+00,\n",
              "         -1.39964533e+00, -1.32545400e+00, -3.59884930e+00,\n",
              "         -8.91807199e-01, -1.17991626e-01,  1.42156005e+00,\n",
              "         -1.66604424e+00, -9.15472984e-01,  3.10889053e+00,\n",
              "         -1.07288790e+00, -7.16817081e-01, -6.24636233e-01,\n",
              "         -3.17325163e+00,  1.43639588e+00, -1.82394099e+00,\n",
              "         -2.85926986e+00, -1.98090768e+00, -2.64713192e+00,\n",
              "         -2.38089204e+00, -8.54557157e-01, -2.99650812e+00,\n",
              "         -7.66794860e-01, -2.41005588e+00, -4.85189468e-01,\n",
              "          3.66644764e+00, -3.12685102e-01,  1.92977095e+00,\n",
              "          2.33860445e+00, -3.80025327e-01,  7.41037726e-01,\n",
              "          1.46086955e+00,  6.88088462e-02, -2.07070279e+00,\n",
              "          3.88074577e-01, -5.28727286e-02, -1.08081400e+00,\n",
              "         -7.64890611e-01, -4.95797783e-01, -1.51625752e+00,\n",
              "         -8.33735108e-01, -1.05949450e+00, -3.43583584e+00,\n",
              "         -4.42935288e-01, -3.75541866e-01,  1.53321362e+00,\n",
              "         -6.14492476e-01, -1.60057652e+00,  6.00851250e+00,\n",
              "         -2.04914880e+00,  4.39316845e+00,  8.81187797e-01,\n",
              "          1.45797670e+00, -3.16238403e-01,  2.38894796e+00,\n",
              "          5.74887395e-01, -2.18790317e+00,  2.73814726e+00,\n",
              "          1.35996842e+00, -2.15756273e+00,  3.36449432e+00,\n",
              "          2.06103659e+00,  2.75740194e+00,  5.36715925e-01,\n",
              "          2.56388164e+00,  9.44221139e-01, -2.50321627e-01,\n",
              "          9.80841160e-01,  2.70668030e-01, -7.77398884e-01,\n",
              "         -2.16186953e+00, -1.78435433e+00, -1.13122535e+00,\n",
              "         -1.44058931e+00, -1.21478188e+00,  1.95147991e+00,\n",
              "          1.08181667e+00]], dtype=float32)]"
            ]
          },
          "execution_count": 17,
          "metadata": {},
          "output_type": "execute_result"
        }
      ],
      "source": [
        "import onnx\n",
        "import onnxruntime as ort\n",
        "from typing import Dict, List\n",
        "\n",
        "\n",
        "def get_input_names(onnx_model: str):\n",
        "    model = onnx.load(onnx_model)\n",
        "    input_all = [node.name for node in model.graph.input]\n",
        "    return input_all\n",
        "\n",
        "\n",
        "def get_output_names(onnx_model: str):\n",
        "    model = onnx.load(onnx_model)\n",
        "    output_all = [node.name for node in model.graph.output]\n",
        "    return output_all\n",
        "\n",
        "\n",
        "def run_onnx_model(\n",
        "    onnx_model: str, session: ort.InferenceSession, input_tensors: List[np.ndarray], inputs: Dict, output_names: str\n",
        ") -> List[np.ndarray]:\n",
        "    \n",
        "    res = session.run(\n",
        "        output_names=output_names, input_feed=inputs\n",
        "    )\n",
        "    return list(res)\n",
        "\n",
        "\n",
        "session = ort.InferenceSession(\n",
        "    model,\n",
        "    providers=[\"CUDAExecutionProvider\", \"CPUExecutionProvider\"] # Change to [\"CPUExecutionProvider\"] if run on cpu\n",
        ")\n",
        "\n",
        "inputs = {\n",
        "    name: array\n",
        "    for name, array in zip(get_input_names(model), [x])\n",
        "}\n",
        "\n",
        "res_original = run_onnx_model(model, session, [x], inputs, get_output_names(model))\n",
        "res_original"
      ]
    },
    {
      "cell_type": "markdown",
      "metadata": {
        "id": "iU3dPwSTfWr_"
      },
      "source": [
        "Then, let's print the optimized model result that we computed before"
      ]
    },
    {
      "cell_type": "code",
      "execution_count": 12,
      "metadata": {
        "colab": {
          "base_uri": "https://localhost:8080/"
        },
        "id": "S1EKoJ75fVAh",
        "outputId": "73e7b127-e7d3-44a9-bd78-65961bd051df"
      },
      "outputs": [
        {
          "data": {
            "text/plain": [
              "(array([[-1.23858564e-01,  1.52006924e+00,  2.68544936e+00,\n",
              "          1.53301418e+00,  4.11650896e+00,  2.58380795e+00,\n",
              "          2.01530290e+00,  1.90706745e-01,  3.83481830e-01,\n",
              "         -1.19363511e+00,  2.57466960e+00,  5.56852245e+00,\n",
              "          3.07378340e+00,  3.44522715e+00,  4.03184414e+00,\n",
              "          1.84742033e+00,  5.27928233e-01,  2.39386749e+00,\n",
              "          3.24960661e+00,  1.89303052e+00, -1.29659903e+00,\n",
              "          6.64232790e-01,  1.55464351e+00,  1.46186268e+00,\n",
              "          4.39888835e-02,  3.32886986e-02,  2.25575760e-01,\n",
              "         -1.59408674e-01,  3.84590447e-01,  3.39019418e-01,\n",
              "         -1.81147909e+00,  2.41021562e+00, -1.24096644e+00,\n",
              "          2.06052923e+00,  2.38865662e+00, -1.79495740e+00,\n",
              "         -2.58589476e-01, -4.36356395e-01,  1.87948370e+00,\n",
              "          3.85341287e-01,  1.98818219e+00,  5.35688102e-01,\n",
              "          6.02469325e-01,  5.65172434e-02,  9.72971261e-01,\n",
              "          4.10859019e-01,  2.69671512e+00, -6.94178581e-01,\n",
              "         -1.04691458e+00, -4.93430793e-01,  5.46486795e-01,\n",
              "         -3.51904273e+00,  9.50540483e-01,  1.20523143e+00,\n",
              "          1.05434799e+00,  2.73271775e+00,  4.61586893e-01,\n",
              "          2.96081334e-01,  1.49207187e+00,  3.39138198e+00,\n",
              "          4.10267115e+00, -5.99968433e-02,  9.94250476e-01,\n",
              "          2.00917959e-01,  1.25217569e+00,  3.89021468e+00,\n",
              "          1.70728004e+00,  9.85094383e-02,  8.05999458e-01,\n",
              "          1.01636028e+00, -1.14618886e+00,  3.16508913e+00,\n",
              "          5.36450386e-01,  1.90668833e+00,  1.44178748e+00,\n",
              "          1.82593977e+00,  1.98197496e+00,  2.61696172e+00,\n",
              "          4.46157360e+00,  5.50892544e+00, -9.63086307e-01,\n",
              "          3.75400752e-01,  1.09068286e+00, -9.25104976e-01,\n",
              "          1.44869435e+00,  2.60957813e+00,  1.23306453e+00,\n",
              "          6.13928139e-01,  3.19391370e-01,  2.28890133e+00,\n",
              "         -5.21707118e-01, -6.54926777e-01,  1.91212904e+00,\n",
              "          9.02902007e-01,  2.72531271e+00, -3.08837700e+00,\n",
              "          3.13916278e+00, -8.06710899e-01, -2.78564119e+00,\n",
              "          1.34499121e+00, -1.39640117e+00, -3.01991582e+00,\n",
              "         -3.73325557e-01, -7.45726943e-01, -1.03756332e+00,\n",
              "         -3.20732355e+00, -1.95078623e+00,  8.38932896e+00,\n",
              "          2.50794864e+00,  4.02495575e+00,  3.30190706e+00,\n",
              "          8.25263691e+00,  5.93482196e-01,  1.58333957e+00,\n",
              "          2.22545147e+00,  4.79968166e+00,  9.35789466e-01,\n",
              "          1.05570161e+00,  2.08269668e+00,  1.04516149e-01,\n",
              "          8.90967786e-01,  9.02233839e-01, -4.17645693e-01,\n",
              "         -3.19587946e-01,  3.16916674e-01,  1.91661823e+00,\n",
              "          4.75959635e+00,  7.74083316e-01, -4.23549861e-01,\n",
              "         -2.53162956e+00, -8.05434763e-01, -8.38567734e-01,\n",
              "          2.50341249e+00,  6.57604575e-01, -8.97206459e-03,\n",
              "         -1.32675397e+00, -1.20862007e+00, -5.25975525e-01,\n",
              "          3.98368299e-01, -4.99564290e-01, -1.82020199e+00,\n",
              "         -1.68980932e+00, -2.94923925e+00,  9.35599267e-01,\n",
              "         -9.44427311e-01,  6.05703413e-01,  3.62606719e-04,\n",
              "         -6.98446095e-01, -1.46050262e+00,  1.41343534e+00,\n",
              "         -7.03510463e-01,  6.97195470e-01, -2.90919828e+00,\n",
              "         -5.39080501e-01, -2.50589824e+00, -1.42376554e+00,\n",
              "         -9.48328018e-01, -1.48658955e+00, -1.39774966e+00,\n",
              "         -1.52507830e+00, -3.43897414e+00, -1.03647232e-01,\n",
              "          3.60919356e-01,  7.05361664e-01, -9.99103785e-01,\n",
              "         -2.33231187e+00, -7.70578325e-01, -2.90714359e+00,\n",
              "         -1.15504885e+00, -6.09849691e-01, -1.57976115e+00,\n",
              "          1.28170621e+00, -2.28679299e+00, -2.35777035e-01,\n",
              "         -3.34512258e+00, -2.72274995e+00, -2.48869133e+00,\n",
              "         -2.60904860e+00, -3.20847958e-01, -2.68774462e+00,\n",
              "         -1.76298952e+00, -1.65617371e+00, -1.33305144e+00,\n",
              "         -1.76676595e+00, -1.85199952e+00, -2.99229932e+00,\n",
              "         -3.14197421e+00, -1.48294258e+00, -3.36594462e+00,\n",
              "         -2.54704642e+00, -3.18988609e+00, -8.58597040e-01,\n",
              "         -2.26085973e+00, -1.01787484e+00, -4.75516033e+00,\n",
              "         -5.00593185e-01, -2.61906314e+00, -3.97536469e+00,\n",
              "         -3.29389358e+00, -1.31750751e+00, -2.44954848e+00,\n",
              "         -1.29383767e+00, -1.16008890e+00, -7.64342010e-01,\n",
              "         -2.78319210e-01, -3.01144648e+00, -4.10132456e+00,\n",
              "         -4.53465968e-01, -1.48206878e+00, -9.04911935e-01,\n",
              "         -3.83949399e+00, -3.65504551e+00, -2.21337989e-01,\n",
              "          1.59099877e-01, -2.14662313e+00, -1.21529892e-01,\n",
              "         -3.21302557e+00, -6.00427866e-01, -2.50368500e+00,\n",
              "         -3.49356025e-01, -2.43513274e+00, -1.99612176e+00,\n",
              "         -2.42355776e+00, -5.34504175e-01, -2.29529333e+00,\n",
              "         -1.35351896e+00, -2.52366543e+00, -2.03602290e+00,\n",
              "         -1.71983612e+00, -1.73691392e+00,  5.86378515e-01,\n",
              "         -1.15910566e+00, -1.71794474e+00, -4.46998167e+00,\n",
              "         -1.81478131e+00, -1.04381132e+00, -1.00953496e+00,\n",
              "          4.25688565e-01,  1.04498827e+00, -2.41632032e+00,\n",
              "         -1.54786313e+00, -2.01328063e+00, -1.24331307e+00,\n",
              "         -3.24099135e+00, -4.16305494e+00, -1.55917645e+00,\n",
              "         -1.58033943e+00, -3.03775811e+00, -1.61604846e+00,\n",
              "         -1.71081114e+00, -6.26310349e-01,  4.78295721e-02,\n",
              "         -3.55684686e+00, -5.49996138e-01, -1.12106669e+00,\n",
              "         -3.45139265e+00, -3.13819385e+00, -1.56020296e+00,\n",
              "         -9.34335351e-01, -4.97491211e-01, -2.10649061e+00,\n",
              "         -2.27850866e+00, -5.12161541e+00, -1.57653943e-01,\n",
              "         -7.52890229e-01, -6.76931798e-01, -1.02155125e+00,\n",
              "         -3.26064301e+00, -3.35492158e+00, -1.23916805e+00,\n",
              "         -3.61905694e-01, -1.57143652e+00, -1.14056684e-01,\n",
              "         -1.36068439e+00, -1.44455349e+00, -1.52110064e+00,\n",
              "         -1.86898696e+00, -9.67596531e-01, -1.08181989e+00,\n",
              "         -3.57207626e-01, -2.89184321e-02, -8.31834197e-01,\n",
              "          7.13632852e-02, -4.46566552e-01, -1.26113582e+00,\n",
              "         -6.89063430e-01, -2.18677521e+00, -3.41620564e+00,\n",
              "         -1.75809431e+00, -2.85653639e+00, -3.82745242e+00,\n",
              "         -2.17580414e+00, -2.88464975e+00, -6.98794067e-01,\n",
              "         -3.61393476e+00, -8.94852579e-01, -1.40758586e+00,\n",
              "         -3.09122372e+00,  2.01705426e-01,  1.83969080e-01,\n",
              "         -1.69239748e+00,  5.19974041e+00, -4.75000769e-01,\n",
              "          1.66924250e+00,  1.60627103e+00, -2.82700956e-01,\n",
              "          1.34506321e+00,  2.98112631e+00,  3.20223713e+00,\n",
              "          1.38139832e+00,  5.32850409e+00,  2.76981258e+00,\n",
              "          1.15159237e+00,  3.33972335e+00,  2.32545137e+00,\n",
              "          2.72827697e+00,  1.62603700e+00,  4.55900908e+00,\n",
              "          4.10272360e+00,  3.51349378e+00,  2.64507961e+00,\n",
              "         -1.15441993e-01, -1.15707374e+00,  1.00250256e+00,\n",
              "          3.81369174e-01,  1.02761590e+00,  1.24387372e+00,\n",
              "          2.74224782e+00,  6.13688648e-01,  3.51218015e-01,\n",
              "          1.57014072e+00,  1.98248434e+00, -5.71878791e-01,\n",
              "          2.53569221e+00,  3.70245904e-01,  1.04168642e+00,\n",
              "         -9.36290324e-02, -1.33486819e+00, -1.68450761e+00,\n",
              "         -1.64247811e+00, -1.86943078e+00, -2.53069663e+00,\n",
              "         -2.84860754e+00, -3.53622150e+00, -3.13300538e+00,\n",
              "         -3.71981907e+00, -3.82884169e+00, -3.99207425e+00,\n",
              "         -2.21440983e+00, -2.64774299e+00, -1.09230983e+00,\n",
              "         -2.49110389e+00, -1.12398660e+00, -2.06303626e-01,\n",
              "         -1.37850809e+00, -2.54241610e+00, -7.38234103e-01,\n",
              "         -1.53004420e+00,  5.91765642e-01, -1.01610757e-01,\n",
              "         -3.77498341e+00,  2.18108773e+00, -1.95241690e-01,\n",
              "          2.08104777e+00, -2.19520926e-02,  4.19117957e-01,\n",
              "         -2.99142599e+00, -6.67373717e-01, -1.07475066e+00,\n",
              "         -1.71495080e+00, -3.29254150e+00, -2.83344793e+00,\n",
              "         -3.74109864e-01, -1.85028112e+00,  9.46290195e-02,\n",
              "         -1.09476745e+00, -1.96184337e+00,  1.19816899e-01,\n",
              "         -5.88284671e-01, -7.42552102e-01, -3.79057735e-01,\n",
              "         -6.37558103e-01,  5.81298888e-01, -1.60732538e-01,\n",
              "         -2.25880790e+00, -3.26839352e+00, -3.49861598e+00,\n",
              "         -3.31744671e+00, -3.76089239e+00, -2.50154555e-01,\n",
              "          3.50766850e+00, -8.17838192e-01,  2.51978493e+00,\n",
              "          2.75116897e+00,  8.61611143e-02,  1.79089987e+00,\n",
              "          2.62808847e+00,  1.38891876e+00, -4.17879194e-01,\n",
              "          1.65489793e+00, -4.98614728e-01, -2.86778998e+00,\n",
              "          5.80901980e-01, -2.78106785e+00, -9.10642207e-01,\n",
              "          1.35120749e+00, -2.44662213e+00, -1.62054634e+00,\n",
              "         -4.42961121e+00,  2.06206894e+00,  1.33574796e+00,\n",
              "          1.54304171e+00,  4.95279169e+00, -1.25437737e+00,\n",
              "          1.22313023e+00, -1.46586859e+00,  6.19143069e-01,\n",
              "          3.45434284e+00,  4.21797657e+00,  2.23829770e+00,\n",
              "         -1.07271075e+00,  1.97567475e+00, -8.59240711e-01,\n",
              "         -3.65594602e+00, -2.85441065e+00, -1.50077915e+00,\n",
              "         -1.48427069e-01,  4.72715795e-01, -9.48377013e-01,\n",
              "          3.09118533e+00,  1.79598582e+00,  1.12801933e+00,\n",
              "         -4.95024174e-01,  4.64226246e-01, -3.88039649e-01,\n",
              "          1.67734385e-01, -2.13925052e+00,  1.91213560e+00,\n",
              "         -4.64641094e-01, -2.07097816e+00,  2.00761601e-01,\n",
              "          2.67624438e-01,  3.92633229e-01,  3.04117775e+00,\n",
              "         -3.12671810e-01, -1.56382763e+00,  6.37365103e+00,\n",
              "         -1.87014711e+00,  5.48097849e-01, -3.41517901e+00,\n",
              "         -4.44672346e+00,  4.90036815e-01, -2.00080663e-01,\n",
              "         -1.99236786e+00, -2.50791407e+00,  3.98632741e+00,\n",
              "         -1.55812585e+00, -5.92751741e-01,  3.29928808e-02,\n",
              "          1.32670045e-01, -2.54018933e-01,  3.16342980e-01,\n",
              "          2.86465669e+00,  2.69728041e+00,  1.50710320e+00,\n",
              "         -5.15110314e-01, -2.12948871e+00, -1.63772237e+00,\n",
              "          8.08665872e-01,  6.83662713e-01,  2.45935321e+00,\n",
              "         -1.85489833e+00, -1.31222534e+00, -1.13660443e+00,\n",
              "         -1.45970639e-02,  4.19659942e-01, -4.00392914e+00,\n",
              "         -8.83461595e-01,  1.12327528e+00,  3.32962126e-01,\n",
              "          3.75355649e+00,  3.38476062e-01, -6.51360571e-01,\n",
              "         -2.08477569e+00, -4.13268417e-01,  3.43949318e-01,\n",
              "         -1.35490477e+00,  9.89616692e-01,  6.30358028e+00,\n",
              "          6.24757433e+00,  5.66165113e+00, -2.11670220e-01,\n",
              "          3.07438493e-01, -1.72103822e+00,  7.23930895e-01,\n",
              "         -2.23338103e+00, -1.06501484e+00, -2.71044791e-01,\n",
              "          3.17233729e+00,  9.76071596e-01, -5.74182153e-01,\n",
              "          2.57447958e-01,  4.92703050e-01,  5.34700565e-02,\n",
              "          5.12227193e-02, -6.53204620e-01,  5.81415796e+00,\n",
              "          1.18371820e+00,  2.20203614e+00, -1.44992149e+00,\n",
              "         -1.91312957e+00, -2.45300031e+00,  6.04817331e-01,\n",
              "          2.22103581e-01, -1.09138215e+00,  5.90921700e-01,\n",
              "          1.47238541e+00,  2.20687056e+00, -9.01160464e-02,\n",
              "         -6.40389740e-01, -3.25568914e-01, -1.81338775e+00,\n",
              "          1.25392842e+00,  7.20739007e-01, -2.09640786e-02,\n",
              "         -1.18683708e+00, -1.22819293e+00, -1.18500106e-02,\n",
              "         -8.16607118e-01,  1.99819520e-01,  2.62402892e+00,\n",
              "         -3.70308787e-01, -2.60521793e+00,  8.78734708e-01,\n",
              "          1.93392813e+00, -3.26601076e+00, -1.69428587e+00,\n",
              "         -1.16691983e+00,  1.31809449e+00,  4.25655079e+00,\n",
              "         -2.21213922e-01,  6.19703770e-01,  1.41027522e+00,\n",
              "         -1.85357726e+00,  2.08378124e+00,  3.35137415e+00,\n",
              "         -8.68342698e-01, -3.44009519e+00, -2.30160666e+00,\n",
              "          2.74410248e+00, -3.56308270e+00,  8.18365812e-02,\n",
              "          2.02591300e+00,  1.53502834e+00, -5.97845018e-01,\n",
              "         -5.72476871e-02,  5.30681086e+00,  2.07694459e+00,\n",
              "          2.33453131e+00,  2.44738245e+00,  1.48722279e+00,\n",
              "         -1.82571840e+00,  3.05088401e+00,  2.92079496e+00,\n",
              "         -3.49090385e+00,  4.29427832e-01, -6.94762528e-01,\n",
              "          2.40705514e+00, -1.17376745e+00, -3.02574605e-01,\n",
              "          1.48011997e-01, -5.17490268e-01, -2.45780855e-01,\n",
              "         -1.45149636e+00,  2.59563065e+00, -1.74669862e+00,\n",
              "         -3.26636267e+00, -1.13080895e+00, -1.22661126e+00,\n",
              "         -1.54229951e+00, -6.09728217e-01,  2.11866403e+00,\n",
              "         -1.49071002e+00, -5.63997403e-02,  1.68955937e-01,\n",
              "         -6.63689300e-02, -2.74895263e+00,  2.32294440e-01,\n",
              "          3.26424909e+00,  7.01705456e-01, -1.75108993e+00,\n",
              "          3.03405833e+00, -4.07629043e-01, -9.49753821e-02,\n",
              "         -1.28022194e+00, -5.89882791e-01,  3.18485141e-01,\n",
              "         -1.28393579e+00, -6.19660392e-02,  3.82586694e+00,\n",
              "          4.21410990e+00,  6.06235385e-01,  1.56069624e+00,\n",
              "         -4.56091452e+00, -2.31222361e-01,  1.64271027e-01,\n",
              "         -3.26201141e-01,  1.34278011e+00,  2.36469316e+00,\n",
              "         -2.17474222e+00,  2.79240274e+00,  1.99362552e+00,\n",
              "         -3.27163363e+00,  1.26812804e+00, -6.37142539e-01,\n",
              "          9.84051287e-01,  5.31177330e+00,  1.27768123e+00,\n",
              "          1.06593788e-01,  3.55994940e+00,  4.68683910e+00,\n",
              "         -1.04983091e+00,  3.86248970e+00,  1.30347729e+00,\n",
              "         -2.83611822e+00, -2.43201351e+00,  3.45635605e+00,\n",
              "         -1.20176899e+00, -5.43620288e-01,  6.08264148e-01,\n",
              "         -2.74997234e-01,  4.75711942e-01,  4.65457726e+00,\n",
              "          6.72902703e-01, -3.30820203e+00,  5.05883098e-01,\n",
              "          8.40129144e-03,  7.12570369e-01, -1.78536326e-01,\n",
              "         -1.13954365e+00,  4.28814888e+00,  4.12544549e-01,\n",
              "         -2.40811300e+00,  3.42039406e-01,  5.31813002e+00,\n",
              "          4.52120543e-01,  1.67828453e+00,  1.11177695e+00,\n",
              "         -1.53246212e+00, -9.50584829e-01,  4.13550329e+00,\n",
              "          1.09905398e+00, -1.53297889e+00, -1.07787001e+00,\n",
              "         -3.21068931e+00,  1.20106816e+00, -1.13735712e+00,\n",
              "          2.04634571e+00, -9.07280684e-01,  1.47505248e+00,\n",
              "         -8.93803835e-01, -2.85411477e+00,  1.83260643e+00,\n",
              "         -2.31969738e+00,  2.24358726e+00, -8.39580894e-01,\n",
              "         -1.01168782e-01,  5.42156518e-01, -3.55162203e-01,\n",
              "          1.80808270e+00, -1.92599475e+00, -1.29638517e+00,\n",
              "          8.17812979e-01,  1.69665802e+00,  3.86946607e+00,\n",
              "         -2.59765506e+00, -2.50531435e+00,  3.09711456e+00,\n",
              "         -1.38375962e+00,  4.96280336e+00,  9.32915509e-01,\n",
              "          2.30834031e+00,  3.04948592e+00,  1.13057792e+00,\n",
              "         -4.47894543e-01,  1.28977454e+00, -9.77524638e-01,\n",
              "         -2.41756558e+00,  1.48480582e+00, -5.89149773e-01,\n",
              "         -4.76695967e+00, -3.01658243e-01, -5.79314709e-01,\n",
              "         -1.07108366e+00, -4.15837812e+00,  1.64235222e+00,\n",
              "          1.09073007e+00,  5.15444994e-01, -8.45879793e-01,\n",
              "         -3.17828059e-01,  2.93230677e+00,  3.54047275e+00,\n",
              "          2.42124110e-01,  8.07633996e-01,  2.52822685e+00,\n",
              "         -2.55774117e+00, -6.22503281e-01,  9.97671068e-01,\n",
              "         -7.97813594e-01,  2.16782141e+00,  6.61229074e-01,\n",
              "          1.67739213e+00,  4.48978758e+00, -1.27214253e+00,\n",
              "          1.96611869e+00, -1.87846065e+00,  6.33332729e-01,\n",
              "         -3.61731958e+00, -1.36956120e+00,  5.23540974e-01,\n",
              "          1.71952772e+00,  3.23649001e+00,  1.09872174e+00,\n",
              "          4.76403534e-01, -2.20899701e+00,  2.66618633e+00,\n",
              "         -3.44676399e+00,  1.98266649e+00,  1.71917450e+00,\n",
              "          1.00240372e-01, -1.65381479e+00,  1.96700799e+00,\n",
              "         -1.90967607e+00,  2.60076904e+00, -7.35059559e-01,\n",
              "          3.08583546e+00,  9.38667834e-01, -1.21781588e+00,\n",
              "          2.18031693e+00, -4.13606262e+00,  4.37205911e-01,\n",
              "          1.03984857e+00, -3.28489184e-01, -1.81579506e+00,\n",
              "          1.65743828e-01,  6.07247293e-01,  8.28099489e-01,\n",
              "         -8.69080484e-01,  8.56625661e-03,  2.19547248e+00,\n",
              "         -7.28311613e-02, -2.09345150e+00,  2.50285459e+00,\n",
              "         -8.51694405e-01, -1.49730280e-01,  7.00208127e-01,\n",
              "          2.03903270e+00, -2.24161005e+00, -3.64632392e+00,\n",
              "         -1.62546384e+00,  1.92064857e+00, -8.34382921e-02,\n",
              "         -2.42647362e+00, -1.07748926e+00, -8.31523836e-02,\n",
              "         -1.96515846e+00, -2.29233122e+00,  2.02285719e+00,\n",
              "          8.20312560e-01,  3.45798326e+00,  1.71173704e+00,\n",
              "          5.64475477e-01,  3.05512929e+00,  5.81395805e-01,\n",
              "          1.84594333e+00,  6.75659537e-01,  1.16273510e+00,\n",
              "          1.36184919e+00, -5.08325636e-01, -1.73145995e-01,\n",
              "         -6.67163134e-01,  3.34257931e-01,  1.86934388e+00,\n",
              "          3.43990850e+00,  1.72028995e+00,  1.78303325e+00,\n",
              "          2.28858486e-01, -7.23523274e-02, -8.27813983e-01,\n",
              "         -7.95416057e-01,  8.38735163e-01,  1.65684783e+00,\n",
              "          1.98659205e+00,  2.04541028e-01,  3.84272814e+00,\n",
              "         -5.78488588e-01, -1.22609198e+00, -6.34863913e-01,\n",
              "         -1.28073716e+00,  2.60912389e-01, -2.39703512e+00,\n",
              "          6.75059140e-01, -1.63102138e+00, -1.49006927e+00,\n",
              "          4.72218812e-01,  1.80185950e+00, -1.06270456e+00,\n",
              "          6.61606491e-01, -1.25973141e+00, -1.04731297e+00,\n",
              "         -2.09572625e+00,  2.53101969e+00,  1.88277483e+00,\n",
              "          1.26418900e+00, -1.01738602e-01,  4.16872311e+00,\n",
              "          1.58747911e-01, -3.49499273e+00,  4.18122005e+00,\n",
              "          1.80049992e+00, -2.44573641e+00, -2.59857845e+00,\n",
              "         -1.70222890e+00, -6.19372129e-01,  1.81741679e+00,\n",
              "         -1.60189152e+00,  1.14419460e+00,  1.09727538e+00,\n",
              "          5.69644117e+00, -4.32452059e+00,  1.04916859e+00,\n",
              "         -2.92334557e+00, -1.38306415e+00, -3.69609356e-01,\n",
              "          8.77795160e-01,  4.88382727e-01, -6.49621665e-01,\n",
              "          1.15412211e+00,  9.76760387e-01, -1.42388308e+00,\n",
              "          3.36860108e+00,  1.32441902e+00,  5.58664441e-01,\n",
              "          4.87539917e-01,  1.65860426e+00,  3.40517426e+00,\n",
              "          1.81355321e+00, -2.37716675e+00, -3.33530098e-01,\n",
              "          4.31476057e-01, -9.65951085e-02,  6.23544216e-01,\n",
              "          5.14976835e+00, -1.65157998e+00,  1.29425585e+00,\n",
              "          1.51577771e+00, -2.59843755e+00, -2.53345919e+00,\n",
              "          1.19936335e+00,  8.52549672e-01, -3.04804492e+00,\n",
              "          1.56160402e+00,  2.67666316e+00,  4.22504574e-01,\n",
              "         -2.47162032e+00, -3.81188989e+00, -1.18744600e+00,\n",
              "         -9.98355210e-01,  3.53784895e+00, -3.93316716e-01,\n",
              "         -7.75834993e-02, -3.05234849e-01, -2.92006284e-01,\n",
              "         -1.01657259e+00, -4.74380255e+00, -5.27138226e-02,\n",
              "         -3.30078043e-02, -6.39582574e-01, -1.59901595e+00,\n",
              "          1.80235195e+00,  1.74121678e+00, -1.04810405e+00,\n",
              "          2.99938822e+00,  9.49409127e-01, -6.23933673e-01,\n",
              "          3.95891577e-01,  3.63675743e-01, -1.87323773e+00,\n",
              "         -1.20508373e+00, -1.47401607e+00,  1.62017316e-01,\n",
              "         -1.10186088e+00,  2.98313832e+00,  1.25840700e+00,\n",
              "          4.17443275e-01,  6.25787437e-01,  3.70849073e-01,\n",
              "          1.73797536e+00,  1.58598948e+00, -3.33537787e-01,\n",
              "          6.79937482e-01, -3.52078843e+00,  2.23992085e+00,\n",
              "          9.26159501e-01,  4.91618538e+00,  7.60728776e-01,\n",
              "          1.64738998e-01,  9.41011906e-01,  3.96996546e+00,\n",
              "          8.41134250e-01,  1.72891021e+00,  2.19260991e-01,\n",
              "          5.36401331e-01,  3.71355742e-01, -3.64198017e+00,\n",
              "         -6.79465890e-01, -6.91812038e-02, -1.31827927e+00,\n",
              "          1.98354363e-01,  1.58280838e+00,  3.51076746e+00,\n",
              "          5.45116723e-01, -4.14227813e-01, -2.13116932e+00,\n",
              "         -1.39964557e+00, -1.32545400e+00, -3.59884977e+00,\n",
              "         -8.91807556e-01, -1.17992520e-01,  1.42155933e+00,\n",
              "         -1.66604483e+00, -9.15473998e-01,  3.10889077e+00,\n",
              "         -1.07288790e+00, -7.16817319e-01, -6.24636710e-01,\n",
              "         -3.17325330e+00,  1.43639553e+00, -1.82394099e+00,\n",
              "         -2.85927033e+00, -1.98090875e+00, -2.64713240e+00,\n",
              "         -2.38089228e+00, -8.54558468e-01, -2.99650908e+00,\n",
              "         -7.66794920e-01, -2.41005564e+00, -4.85190183e-01,\n",
              "          3.66644669e+00, -3.12686354e-01,  1.92977071e+00,\n",
              "          2.33860326e+00, -3.80026042e-01,  7.41036832e-01,\n",
              "          1.46086931e+00,  6.88074157e-02, -2.07070422e+00,\n",
              "          3.88074279e-01, -5.28733544e-02, -1.08081388e+00,\n",
              "         -7.64890969e-01, -4.95797366e-01, -1.51625800e+00,\n",
              "         -8.33735347e-01, -1.05949450e+00, -3.43583679e+00,\n",
              "         -4.42934990e-01, -3.75542074e-01,  1.53321385e+00,\n",
              "         -6.14492476e-01, -1.60057688e+00,  6.00851107e+00,\n",
              "         -2.04914999e+00,  4.39316654e+00,  8.81187022e-01,\n",
              "          1.45797658e+00, -3.16238165e-01,  2.38894701e+00,\n",
              "          5.74887574e-01, -2.18790436e+00,  2.73814678e+00,\n",
              "          1.35996890e+00, -2.15756321e+00,  3.36449289e+00,\n",
              "          2.06103563e+00,  2.75740147e+00,  5.36715150e-01,\n",
              "          2.56387997e+00,  9.44219351e-01, -2.50322938e-01,\n",
              "          9.80839252e-01,  2.70666838e-01, -7.77399719e-01,\n",
              "         -2.16187048e+00, -1.78435493e+00, -1.13122654e+00,\n",
              "         -1.44059014e+00, -1.21478212e+00,  1.95147920e+00,\n",
              "          1.08181691e+00]], dtype=float32),)"
            ]
          },
          "execution_count": 12,
          "metadata": {},
          "output_type": "execute_result"
        }
      ],
      "source": [
        "res_optimized"
      ]
    },
    {
      "cell_type": "markdown",
      "metadata": {
        "id": "Lj4crPMmf_LX"
      },
      "source": [
        "Then, let's compute the average latency of the baseline model:\n",
        "\n"
      ]
    },
    {
      "cell_type": "code",
      "execution_count": 18,
      "metadata": {
        "id": "rGNKr_ShgBbu"
      },
      "outputs": [],
      "source": [
        "import time"
      ]
    },
    {
      "cell_type": "code",
      "execution_count": 20,
      "metadata": {
        "colab": {
          "base_uri": "https://localhost:8080/"
        },
        "id": "I2G4OzhCgG_D",
        "outputId": "a23eb4ea-fa0f-4221-a177-20876e452b53"
      },
      "outputs": [
        {
          "name": "stdout",
          "output_type": "stream",
          "text": [
            "Average latency original model: 0.0715 seconds\n"
          ]
        }
      ],
      "source": [
        "num_iters = 100\n",
        "\n",
        "# Warmup\n",
        "for i in range(10):\n",
        "  run_onnx_model(model, session, [x], inputs, get_output_names(model))\n",
        "\n",
        "start = time.time()\n",
        "for i in range(num_iters):\n",
        "  run_onnx_model(model, session, [x], inputs, get_output_names(model))\n",
        "stop = time.time()\n",
        "\n",
        "print(\"Average latency original model: {:.4f} seconds\".format((stop - start) / num_iters))"
      ]
    },
    {
      "cell_type": "markdown",
      "metadata": {
        "id": "f-jmRjJvgW5V"
      },
      "source": [
        "Finally we compute the average latency for the optimized model:"
      ]
    },
    {
      "cell_type": "code",
      "execution_count": 21,
      "metadata": {
        "colab": {
          "base_uri": "https://localhost:8080/"
        },
        "id": "51c3uaMcgaR-",
        "outputId": "1319a7bc-df1d-4f19-9426-3940ab4a7c5e"
      },
      "outputs": [
        {
          "name": "stdout",
          "output_type": "stream",
          "text": [
            "Average latency optimized model: 0.0051 seconds\n"
          ]
        }
      ],
      "source": [
        "# Warmup\n",
        "for i in range(10):\n",
        "  optimized_model(x)\n",
        "\n",
        "start = time.time()\n",
        "for i in range(num_iters):\n",
        "  optimized_model(x)\n",
        "stop = time.time()\n",
        "\n",
        "print(\"Average latency optimized model: {:.4f} seconds\".format((stop - start) / num_iters))"
      ]
    },
    {
      "cell_type": "markdown",
      "metadata": {
        "id": "tBeRKNTI3iyK"
      },
      "source": [
        "## Scenario 2 - Accuracy drop"
      ]
    },
    {
      "cell_type": "markdown",
      "metadata": {
        "id": "w3wutIzfAMe_"
      },
      "source": [
        "In this scenario, we set a max threshold for the accuracy drop to 2%"
      ]
    },
    {
      "cell_type": "code",
      "execution_count": null,
      "metadata": {
        "id": "fO1nGqpj3p7z"
      },
      "outputs": [],
      "source": [
        "import numpy as np\n",
        "from nebullvm.api.functions import optimize_model\n",
        "\n",
        "# Load a resnet as example\n",
        "model = \"resnet50-v1-12.onnx\"\n",
        "\n",
        "# Provide an input data for the model\n",
        "# Note that in this case we should provide the model at least 100 data samples\n",
        "input_data = [((np.random.randn(1, 3, 224, 224).astype(np.float32), ), 0) for i in range(100)]\n",
        "\n",
        "# Run nebullvm optimization\n",
        "optimized_model = optimize_model(\n",
        "  model, input_data=input_data, optimization_time=\"unconstrained\", metric = \"accuracy\", metric_drop_ths = 0.02\n",
        ")\n",
        "\n",
        "# Try the optimized model\n",
        "x = np.random.randn(1, 3, 224, 224).astype(np.float32)\n",
        "res_optimized = optimized_model(x)"
      ]
    },
    {
      "cell_type": "markdown",
      "metadata": {
        "id": "4UFtwZbEiLv3"
      },
      "source": [
        "Here we compute the average throughput for the baseline model:"
      ]
    },
    {
      "cell_type": "code",
      "execution_count": 23,
      "metadata": {
        "colab": {
          "base_uri": "https://localhost:8080/"
        },
        "id": "qFKHaHM6-GKm",
        "outputId": "73b95996-4d1f-4aa7-a96d-a40070bf36bd"
      },
      "outputs": [
        {
          "name": "stdout",
          "output_type": "stream",
          "text": [
            "Average latency original model: 0.0763 seconds\n"
          ]
        }
      ],
      "source": [
        "num_iters = 100\n",
        "\n",
        "# Warmup\n",
        "for i in range(10):\n",
        "  run_onnx_model(model, session, [x], inputs, get_output_names(model))\n",
        "\n",
        "start = time.time()\n",
        "for i in range(num_iters):\n",
        "  run_onnx_model(model, session, [x], inputs, get_output_names(model))\n",
        "stop = time.time()\n",
        "\n",
        "print(\"Average latency original model: {:.4f} seconds\".format((stop - start) / num_iters))"
      ]
    },
    {
      "cell_type": "markdown",
      "metadata": {
        "id": "J8g0aJRJiXA5"
      },
      "source": [
        "Here we compute the average throughput for the optimized model:"
      ]
    },
    {
      "cell_type": "code",
      "execution_count": 24,
      "metadata": {
        "colab": {
          "base_uri": "https://localhost:8080/"
        },
        "id": "_IbAW0KA4Fm5",
        "outputId": "67f44401-9568-4f38-802a-d81e3139af5a"
      },
      "outputs": [
        {
          "name": "stdout",
          "output_type": "stream",
          "text": [
            "Average latency optimized model: 0.0048 seconds\n"
          ]
        }
      ],
      "source": [
        "# Warmup\n",
        "for i in range(10):\n",
        "  optimized_model(x)\n",
        "\n",
        "start = time.time()\n",
        "for i in range(num_iters):\n",
        "  optimized_model(x)\n",
        "stop = time.time()\n",
        "\n",
        "print(\"Average latency optimized model: {:.4f} seconds\".format((stop - start) / num_iters))"
      ]
    },
    {
      "cell_type": "markdown",
      "metadata": {
        "id": "xLBCDOTS10L6"
      },
      "source": [
        "<center> \n",
        "    <a href=\"https://discord.com/invite/RbeQMu886J\" target=\"_blank\" style=\"text-decoration: none;\"> Join the community </a> |\n",
        "    <a href=\"https://nebuly.gitbook.io/nebuly/welcome/questions-and-contributions\" target=\"_blank\" style=\"text-decoration: none;\"> Contribute to the library </a>\n",
        "</center>\n",
        "\n",
        "<center> \n",
        "    <a href=\"https://github.com/nebuly-ai/nebullvm#how-it-works\" target=\"_blank\" style=\"text-decoration: none;\"> How nebullvm works </a> •\n",
        "    <a href=\"https://github.com/nebuly-ai/nebullvm#documentation\" target=\"_blank\" style=\"text-decoration: none;\"> Documentation </a> •\n",
        "    <a href=\"https://github.com/nebuly-ai/nebullvm#api-quick-view\" target=\"_blank\" style=\"text-decoration: none;\"> API quick view </a> \n",
        "</center>"
      ]
    }
  ],
  "metadata": {
    "accelerator": "GPU",
    "colab": {
      "collapsed_sections": [],
      "provenance": []
    },
    "gpuClass": "standard",
    "kernelspec": {
      "display_name": "Python 3.9.13 ('pytorch')",
      "language": "python",
      "name": "python3"
    },
    "language_info": {
      "codemirror_mode": {
        "name": "ipython",
        "version": 3
      },
      "file_extension": ".py",
      "mimetype": "text/x-python",
      "name": "python",
      "nbconvert_exporter": "python",
      "pygments_lexer": "ipython3",
      "version": "3.9.13"
    },
    "vscode": {
      "interpreter": {
        "hash": "292946fc3537f9d97fe8e6b71322c45e676689a1ee6a93c259ec370faae75bb1"
      }
    }
  },
  "nbformat": 4,
  "nbformat_minor": 0
}
