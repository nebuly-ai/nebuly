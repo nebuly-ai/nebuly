{
  "cells": [
    {
      "cell_type": "markdown",
      "metadata": {
        "id": "p5b0PzpW1xJq"
      },
      "source": [
        "![nebullvm nebuly logo.png](data:image/png;base64,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)"
      ]
    },
    {
      "cell_type": "markdown",
      "metadata": {
        "id": "T9xuwZEHzN2K"
      },
      "source": [
        "#Accelerate PyTorch ResNet50 with nebullvm\n",
        "Hi and welcome 👋\n",
        "\n",
        "In this notebook we will discover how in just a few steps you can speed up the response time of deep learning model inference using the open-source library `nebullvm`.\n",
        "\n",
        "We will\n",
        "1. Install nebullvm and the deep learning compilers used by the library.\n",
        "2. Speed up a PyTorch ResNet50 without any loss of accuracy.\n",
        "3. Achieve faster acceleration on the same model by applying more aggressive optimization techniques (e.g. pruning, quantization) under the constraint of sacrificing up to 2% accuracy.\n",
        "\n",
        "Let's jump to the code."
      ]
    },
    {
      "cell_type": "code",
      "execution_count": 1,
      "metadata": {
        "colab": {
          "base_uri": "https://localhost:8080/"
        },
        "id": "_0ZRCXCR9693",
        "outputId": "19096862-5c5c-4f9f-b2ad-3ce084ccf213"
      },
      "outputs": [
        {
          "output_type": "stream",
          "name": "stdout",
          "text": [
            "env: CUDA_VISIBLE_DEVICES=0\n"
          ]
        }
      ],
      "source": [
        "%env CUDA_VISIBLE_DEVICES=0"
      ]
    },
    {
      "cell_type": "markdown",
      "metadata": {
        "id": "HbFy2Aykz2Qo"
      },
      "source": [
        "#Installation"
      ]
    },
    {
      "cell_type": "code",
      "execution_count": null,
      "metadata": {
        "id": "ZPJHVZ74d8r2"
      },
      "outputs": [],
      "source": [
        "%pip install git+https://github.com/valeriosofi/nebullvm.git@dev"
      ]
    },
    {
      "cell_type": "markdown",
      "metadata": {
        "id": "wHvrcTYLz-dn"
      },
      "source": [
        "This is an optional step. Run it if you want to contribute to continuous improvement of `nebullvm` and share the performance achieved with it. You can find full details in the [docs](https://nebuly.gitbook.io/nebuly/nebullvm/how-nebullvm-works/fostering-continuous-improvement#sharing-feedback-to-improve-nebullvm)."
      ]
    },
    {
      "cell_type": "code",
      "execution_count": 1,
      "metadata": {
        "id": "UMjbl67gynsS"
      },
      "outputs": [],
      "source": [
        "json_feedback = {\n",
        "    \"allow_feedback_collection\": True\n",
        "}\n",
        "import json\n",
        "from pathlib import Path\n",
        "\n",
        "(Path.home() / \".nebullvm\").mkdir(exist_ok=True)\n",
        "with open(Path.home() / \".nebullvm/collect.json\", \"w\") as f:\n",
        "  json.dump(json_feedback, f)"
      ]
    },
    {
      "cell_type": "markdown",
      "metadata": {
        "id": "b0CLgQqxyrQi"
      },
      "source": [
        "Let's now import nebullvm. During the import we will install the deep learning compilers used by nebullvm that are not yet installed on the hardware.\n",
        "\n",
        "The installation of the compilers may take a few minutes."
      ]
    },
    {
      "cell_type": "code",
      "execution_count": null,
      "metadata": {
        "id": "GvK9mZSjeLU5"
      },
      "outputs": [],
      "source": [
        "import nebullvm"
      ]
    },
    {
      "cell_type": "markdown",
      "metadata": {
        "id": "N5RXHoZl0p3p"
      },
      "source": [
        "# Optimization example with Pytorch"
      ]
    },
    {
      "cell_type": "markdown",
      "metadata": {
        "id": "-Ju-VcRH01Mw"
      },
      "source": [
        "In the following example we will try to optimize a standard resnet50 loaded directly from torchvision.\n",
        "\n",
        "Nebullvm can accelerate neural networks without loss of a user-defined precision metric, e.g. accuracy, or can achieve faster acceleration by applying more aggressive optimization techniques, such as pruning and quantization, that may have a negative impact on the selectic metric. The maximum threshold value for accuracy loss is determined by the metric_drop_ths parameter. Read more in the [docs](https://nebuly.gitbook.io/nebuly/nebullvm/get-started).\n",
        "\n",
        "Let first test the optimization without accuracy loss (metric_drop_ths=0, default value), and then apply further accelerate it under the constrained of losing up to 2% of accuracy (metric = \"accuracy\", metric_drop_ths = 0.02)."
      ]
    },
    {
      "cell_type": "markdown",
      "metadata": {
        "id": "skxEuemn171G"
      },
      "source": [
        "## Scenario 1 - No accuracy drop"
      ]
    },
    {
      "cell_type": "code",
      "source": [
        "device = torch.device(\"cuda\" if torch.cuda.is_available() else \"cpu\")"
      ],
      "metadata": {
        "id": "_jEkCeZU_pq2"
      },
      "execution_count": 3,
      "outputs": []
    },
    {
      "cell_type": "markdown",
      "metadata": {
        "id": "wVRLXrDi2VaG"
      },
      "source": [
        "First we load the model and optimize it using the nebullvm API:"
      ]
    },
    {
      "cell_type": "code",
      "execution_count": null,
      "metadata": {
        "id": "2RbgGruAeQcf"
      },
      "outputs": [],
      "source": [
        "import torch\n",
        "import torchvision.models as models\n",
        "from nebullvm.api.functions import optimize_model\n",
        "\n",
        "# Load a resnet as example\n",
        "model = models.resnet50().to(device)\n",
        "\n",
        "# Provide an input data for the model    \n",
        "input_data = [((torch.randn(1, 3, 256, 256), ), 0)]\n",
        "\n",
        "# Run nebullvm optimization\n",
        "optimized_model = optimize_model(\n",
        "  model, input_data=input_data, optimization_time=\"unconstrained\"\n",
        ")\n",
        "\n",
        "# Try the optimized model\n",
        "x = torch.randn(1, 3, 256, 256).to(device)\n",
        "model.eval()\n",
        "res_optimized = optimized_model(x)\n",
        "res_original = model(x)"
      ]
    },
    {
      "cell_type": "markdown",
      "metadata": {
        "id": "JMiuufyu2gD3"
      },
      "source": [
        "We can print the type of the optimized model to see which compiler was faster:"
      ]
    },
    {
      "cell_type": "code",
      "execution_count": 5,
      "metadata": {
        "colab": {
          "base_uri": "https://localhost:8080/"
        },
        "id": "ifuLyQsM9697",
        "outputId": "c1534e0d-e5bb-4d44-91e9-652593751d52"
      },
      "outputs": [
        {
          "output_type": "execute_result",
          "data": {
            "text/plain": [
              "PytorchTensorRTInferenceLearner(network_parameters=ModelParams(batch_size=1, input_infos=[<nebullvm.base.InputInfo object at 0x7f0d6cbac2d0>], output_sizes=[(1000,)], dynamic_info=None), input_tfms=<nebullvm.transformations.base.MultiStageTransformation object at 0x7f0dc9159c10>)"
            ]
          },
          "metadata": {},
          "execution_count": 5
        }
      ],
      "source": [
        "optimized_model"
      ]
    },
    {
      "cell_type": "markdown",
      "metadata": {
        "id": "4WxcxrUC9698"
      },
      "source": [
        "In our case, the optimized model type was PytorchTensorRTInferenceLearner, so this means that Pytorch-TensorRT was the faster compiler."
      ]
    },
    {
      "cell_type": "markdown",
      "metadata": {
        "id": "iwHKfT349698"
      },
      "source": [
        "After the optimization step, we can compare the optimized model with the baseline one in order to verify that the output is the same and to measure the speed improvement"
      ]
    },
    {
      "cell_type": "markdown",
      "metadata": {
        "id": "-IMJpfcb9698"
      },
      "source": [
        "First of all, let's print the results"
      ]
    },
    {
      "cell_type": "code",
      "execution_count": 6,
      "metadata": {
        "colab": {
          "base_uri": "https://localhost:8080/"
        },
        "id": "uI8Kd1Z49698",
        "outputId": "832d3053-d6c8-4cc2-9b48-a59dfaa45d33"
      },
      "outputs": [
        {
          "output_type": "execute_result",
          "data": {
            "text/plain": [
              "tensor([[ 1.6054e-01, -1.0299e-01, -8.5112e-02,  2.2978e-02, -5.1592e-02,\n",
              "          5.2242e-02,  1.2729e-01,  3.8520e-02,  3.9125e-03, -4.5272e-03,\n",
              "         -1.3420e-01,  8.7198e-02,  1.7493e-01,  4.3973e-03, -8.5138e-02,\n",
              "          2.2080e-01,  2.1938e-01, -4.8877e-03, -1.9030e-02,  1.0701e-01,\n",
              "         -2.1043e-01,  6.9520e-03, -9.8220e-02,  1.4016e-01,  3.9717e-02,\n",
              "         -3.4341e-02,  8.4626e-02, -2.8476e-02, -1.1008e-02, -8.4720e-02,\n",
              "          3.8207e-02,  6.6484e-02, -9.2579e-02,  5.0701e-02,  1.0514e-01,\n",
              "         -7.8249e-02, -7.4568e-02,  4.1364e-02, -1.9585e-01, -4.4685e-03,\n",
              "          1.5876e-02,  4.4886e-02, -5.1274e-02, -1.5865e-01, -1.3904e-01,\n",
              "          1.8403e-01, -1.8930e-02, -7.5558e-02, -9.1162e-02, -1.1517e-01,\n",
              "          2.5992e-03, -2.6654e-01, -9.2096e-02,  1.2845e-01,  1.3258e-01,\n",
              "         -3.1372e-02,  2.1874e-02,  1.9672e-01, -1.0432e-01,  1.1466e-02,\n",
              "          1.1640e-02,  1.7761e-01, -4.8163e-02,  2.6937e-02, -4.1934e-02,\n",
              "          1.3517e-01, -1.3401e-01,  1.3782e-01, -3.2360e-02, -1.2944e-01,\n",
              "         -9.1005e-02, -1.0724e-01, -3.5188e-02, -3.6184e-03,  9.8496e-03,\n",
              "          3.7946e-02, -1.2025e-01,  1.5173e-02, -2.7468e-02,  1.1055e-01,\n",
              "         -1.1795e-01,  4.3945e-02, -2.4741e-01,  1.8174e-01, -1.1426e-01,\n",
              "         -1.4945e-01, -2.3857e-02,  4.8655e-02,  9.5650e-02, -1.6559e-01,\n",
              "          3.7565e-02, -7.7118e-03,  1.9268e-01, -1.0846e-01, -1.1282e-01,\n",
              "          5.3865e-02,  8.2767e-02,  5.8965e-02,  1.0728e-01, -1.8196e-02,\n",
              "         -6.9810e-02, -2.5433e-01,  2.7441e-01,  7.7026e-02,  1.3503e-01,\n",
              "         -1.7383e-01, -3.3739e-02, -3.9051e-02,  1.1325e-01, -1.7842e-01,\n",
              "         -2.7268e-01, -4.1147e-02, -9.9288e-02, -7.5742e-02,  2.4288e-02,\n",
              "         -2.0544e-02, -3.9983e-02, -6.3792e-02,  2.0726e-01, -3.0290e-01,\n",
              "         -6.9452e-02, -1.0843e-01,  1.1287e-01,  1.1081e-01,  2.3226e-02,\n",
              "         -6.1342e-03, -8.9777e-02, -7.3237e-02,  1.7289e-01, -6.4135e-02,\n",
              "         -1.1845e-01, -8.6531e-02, -3.7063e-02,  1.0651e-01,  4.6141e-02,\n",
              "          6.1595e-02,  1.8482e-02, -9.9760e-03, -4.6187e-02,  9.7436e-02,\n",
              "         -5.9341e-02, -5.0764e-02,  6.8135e-04,  5.9542e-02, -2.6393e-02,\n",
              "          1.6497e-01, -7.2742e-02,  1.7268e-02, -7.6044e-02, -2.1666e-01,\n",
              "          2.4220e-01,  1.7774e-01,  4.0632e-02,  1.7622e-02, -1.7880e-01,\n",
              "          1.3617e-02,  6.8001e-02, -1.4357e-01, -1.3776e-01, -3.0128e-02,\n",
              "         -3.6489e-02, -1.3172e-01, -2.1807e-01,  5.7636e-02,  2.4312e-02,\n",
              "          1.3557e-01,  5.2188e-02, -4.9936e-02,  1.5519e-01, -6.4185e-02,\n",
              "         -1.6931e-01,  1.7031e-01,  2.6032e-02,  7.0620e-02, -1.6147e-01,\n",
              "         -2.5681e-01,  3.3762e-02, -9.4079e-02,  2.7850e-02,  1.5982e-01,\n",
              "          6.6733e-03,  5.7246e-02,  6.7245e-02,  5.2150e-02,  4.6439e-02,\n",
              "          5.0462e-02, -7.7530e-02,  6.7848e-02,  1.0011e-01, -8.4547e-02,\n",
              "          9.8192e-02,  7.2115e-02,  1.5547e-01, -5.9003e-02, -9.6436e-03,\n",
              "         -1.5215e-02,  1.8526e-01,  1.2769e-01,  2.6761e-02,  2.4931e-01,\n",
              "          7.2243e-02,  5.2776e-02,  2.7663e-02, -2.7711e-03,  5.7289e-02,\n",
              "         -6.9542e-02, -1.2622e-01, -7.3079e-03, -1.1815e-01,  1.2885e-01,\n",
              "          1.9563e-02,  3.8523e-02,  1.1994e-01, -1.4399e-01, -5.0051e-02,\n",
              "          9.2263e-02,  5.0539e-02, -4.7616e-02, -1.7503e-01,  9.9694e-02,\n",
              "         -3.3116e-01,  9.4194e-02, -9.2800e-02, -1.4387e-01, -2.3994e-01,\n",
              "          3.4246e-02, -6.1228e-02,  2.5371e-01,  2.3128e-02, -3.6638e-02,\n",
              "          1.3939e-01,  4.8106e-02,  1.0089e-01,  6.4463e-02,  1.8929e-01,\n",
              "         -5.3314e-02, -6.4347e-02, -8.3678e-02, -1.8236e-01, -4.9620e-03,\n",
              "          2.9223e-02, -5.1561e-02, -2.5504e-01,  3.1973e-02,  2.5843e-01,\n",
              "         -8.9722e-04, -7.7960e-02, -2.0315e-01,  6.2273e-02,  1.2159e-01,\n",
              "          1.8336e-01, -4.1092e-02,  4.1922e-02, -1.0231e-01, -2.6363e-02,\n",
              "         -1.1700e-01,  6.6620e-03,  5.5213e-02, -1.8512e-01, -3.8756e-02,\n",
              "          2.0019e-01,  1.7121e-02,  4.1947e-02, -7.8531e-02,  3.5742e-02,\n",
              "          1.2423e-01, -1.2196e-01, -2.8044e-02,  2.4384e-01,  3.9013e-02,\n",
              "          2.3578e-01, -2.8953e-02, -1.6538e-01,  1.8535e-01, -1.6347e-02,\n",
              "         -9.4428e-02, -1.9489e-02, -1.2998e-01, -1.8262e-01,  2.6039e-01,\n",
              "         -7.5973e-02, -1.2657e-01, -2.8000e-01,  3.9890e-01, -2.2496e-01,\n",
              "         -1.4061e-01,  9.1518e-02,  7.2361e-02, -2.5932e-01, -1.4514e-01,\n",
              "         -2.2369e-01, -2.0552e-01, -9.7565e-03, -8.8397e-03,  1.7793e-01,\n",
              "          1.1117e-04,  1.2690e-01, -2.7109e-02, -3.9783e-01, -1.0382e-01,\n",
              "         -6.3383e-02,  1.9713e-01, -6.1045e-03,  6.1002e-02,  2.3523e-01,\n",
              "         -3.0667e-02, -2.6529e-01, -1.0177e-01, -1.1245e-02, -7.9383e-02,\n",
              "          4.9637e-03,  7.0291e-02,  8.9706e-02, -1.0545e-01,  7.4286e-03,\n",
              "         -9.3711e-02,  1.6620e-02,  2.3073e-02, -2.0284e-02,  1.5653e-02,\n",
              "          2.9834e-02,  3.4952e-02, -5.5351e-03,  1.5597e-02, -1.6823e-01,\n",
              "         -5.5915e-02, -3.5069e-02, -4.1719e-02,  9.0196e-02,  1.2215e-01,\n",
              "          9.5646e-02, -1.4059e-02,  1.4576e-01,  6.2357e-02,  1.8162e-02,\n",
              "         -9.4792e-02, -6.4717e-02, -5.2987e-02, -3.6460e-02,  5.9146e-02,\n",
              "         -1.5506e-01,  1.3026e-01, -1.2149e-02,  6.7322e-03,  2.7318e-01,\n",
              "         -2.7408e-02, -5.6058e-02,  1.1421e-01,  1.6992e-01, -2.1055e-02,\n",
              "         -1.4325e-01,  9.3984e-02, -1.8097e-01, -3.2441e-02, -1.4910e-01,\n",
              "          2.2069e-02, -2.2276e-03, -4.6951e-03,  8.4699e-02,  7.1901e-02,\n",
              "          1.1333e-01,  3.8423e-02,  1.7357e-01,  6.6636e-02,  2.2387e-02,\n",
              "          1.8116e-01, -1.7233e-01, -7.4606e-02, -4.6318e-02,  9.9730e-02,\n",
              "         -2.7836e-01, -1.5266e-01,  1.8912e-02, -6.2251e-03,  1.1987e-02,\n",
              "         -1.7590e-01,  3.9155e-02, -1.8933e-02,  8.1855e-02,  1.3936e-01,\n",
              "          1.7831e-01,  5.3989e-02,  6.0189e-02, -2.7809e-02,  1.0524e-01,\n",
              "          1.2587e-01, -1.0373e-01,  5.6663e-02,  2.3292e-01, -5.4170e-02,\n",
              "         -2.0781e-01, -2.8132e-02,  1.8360e-01, -1.9213e-01,  3.7469e-02,\n",
              "         -6.4976e-02, -3.7874e-02, -2.0069e-01, -1.4145e-01, -2.4087e-02,\n",
              "         -3.4149e-02, -9.8957e-02,  2.0784e-02, -1.8410e-01, -1.5968e-01,\n",
              "          9.2791e-02, -3.4742e-02, -6.3124e-02,  9.5834e-02,  5.1598e-02,\n",
              "          1.3847e-01,  9.2034e-02,  1.6890e-01, -7.7394e-03,  1.5804e-01,\n",
              "         -1.3774e-01, -7.2456e-02,  8.9618e-02, -2.8277e-02,  1.4765e-01,\n",
              "         -1.0766e-01, -3.7989e-02, -5.3161e-02,  1.5949e-01, -2.5019e-02,\n",
              "         -2.3800e-02,  3.1871e-02, -4.2372e-01, -7.3213e-02,  7.3864e-02,\n",
              "          1.5646e-01, -1.0073e-02,  2.1680e-01, -7.9946e-02,  6.3818e-02,\n",
              "          1.0140e-01, -1.5910e-01,  1.4534e-01, -1.6204e-01,  2.9236e-01,\n",
              "          7.4341e-02, -2.0118e-03, -1.4283e-01,  6.0849e-02, -1.5347e-01,\n",
              "         -3.1211e-01, -3.1111e-02,  2.4354e-01, -1.0510e-01, -5.0439e-02,\n",
              "         -5.9180e-02, -5.3933e-02,  3.6964e-02,  8.0964e-02,  1.1541e-01,\n",
              "         -9.0301e-02, -7.0858e-02,  1.6198e-01, -1.0631e-01, -1.2778e-01,\n",
              "         -7.2469e-02,  9.4576e-02, -1.0173e-01, -3.6208e-02, -8.3022e-02,\n",
              "          1.1119e-01, -1.2193e-01,  5.6864e-02, -1.1432e-01,  4.2196e-02,\n",
              "          1.8901e-01,  2.3376e-01, -4.1897e-02,  3.9428e-02, -9.1316e-02,\n",
              "         -2.2255e-01,  3.0940e-02, -1.0597e-01, -2.3690e-01, -8.9226e-03,\n",
              "         -1.7615e-01,  7.5287e-02,  1.3277e-02,  1.1518e-02,  8.7794e-03,\n",
              "         -1.2353e-01,  3.4694e-02,  1.0693e-01,  3.0991e-02, -1.7606e-01,\n",
              "          1.8178e-01,  6.8714e-02,  1.1295e-01,  4.3257e-02,  1.0772e-01,\n",
              "          1.1579e-01, -3.7149e-02, -1.6529e-01,  9.5816e-02, -1.4252e-01,\n",
              "          1.3551e-01,  7.7490e-02, -1.0626e-01, -3.2611e-02,  4.3739e-02,\n",
              "         -2.5166e-02,  2.6550e-02, -2.4510e-01,  6.2243e-02,  9.7862e-02,\n",
              "          2.2851e-02,  4.2486e-03,  4.6032e-02, -9.3063e-02,  1.2190e-01,\n",
              "          1.2928e-01, -9.7237e-02, -2.0145e-01,  1.5287e-02, -1.1431e-01,\n",
              "          9.9818e-02,  6.1598e-02, -5.0380e-03,  5.1804e-03, -1.0764e-01,\n",
              "          1.0025e-02, -9.4408e-03, -1.2328e-01,  6.0935e-02,  1.4213e-02,\n",
              "          1.3766e-01,  3.2573e-02, -2.9441e-02,  1.8566e-01,  3.4669e-02,\n",
              "          9.1611e-03,  1.3840e-01, -3.3242e-01, -7.7628e-02, -1.1530e-01,\n",
              "         -7.5637e-02, -6.1740e-02,  4.3500e-02, -1.7988e-02, -4.7288e-02,\n",
              "         -7.8019e-02, -9.3502e-02,  1.0617e-01, -7.0687e-02,  1.4938e-01,\n",
              "         -1.0286e-01,  1.6728e-01, -9.0651e-02,  1.3820e-01, -9.2697e-02,\n",
              "          3.5837e-02,  4.5289e-02, -4.4274e-02, -1.0806e-02, -1.3346e-01,\n",
              "         -9.4047e-02,  6.4175e-02,  4.0440e-02, -1.4949e-01,  7.4343e-02,\n",
              "          3.7628e-02,  5.6303e-05,  8.0084e-02, -1.0033e-01, -2.8197e-01,\n",
              "          2.9783e-02, -1.4858e-01, -1.8227e-01,  7.3250e-02, -2.5856e-01,\n",
              "          4.8721e-02, -1.8951e-01,  2.7260e-02,  7.7485e-02,  3.3899e-02,\n",
              "         -1.3419e-01,  1.2941e-01,  5.6676e-02,  2.2184e-01, -2.2795e-01,\n",
              "         -9.4533e-02,  1.8134e-01, -1.1647e-03, -2.1306e-01, -9.9889e-02,\n",
              "         -1.4723e-01, -1.5182e-02, -4.3862e-03,  2.4030e-01, -5.7745e-02,\n",
              "          7.7786e-02, -9.4208e-02,  8.3251e-02, -1.9202e-01,  2.7705e-03,\n",
              "         -8.2574e-02,  2.6106e-02, -1.3613e-03,  4.6210e-02, -1.0599e-01,\n",
              "         -1.0068e-01,  6.2122e-02,  7.3960e-02,  1.0303e-01,  1.6223e-02,\n",
              "         -4.2050e-02, -3.3646e-02,  4.1455e-03,  3.6707e-02, -1.5111e-01,\n",
              "         -2.8523e-02,  7.7143e-02, -4.1818e-02, -3.1541e-02, -1.0758e-01,\n",
              "         -8.7376e-02, -6.2755e-02,  1.2918e-01, -6.0286e-02,  2.8547e-02,\n",
              "         -7.3372e-02, -2.0931e-01, -2.6771e-01,  8.3905e-02, -2.2567e-01,\n",
              "         -1.8176e-02,  2.1356e-02, -1.3046e-01,  4.2013e-02,  3.9453e-02,\n",
              "          6.7886e-02,  1.2499e-01, -7.3479e-02,  7.1672e-02,  4.4512e-02,\n",
              "         -6.9155e-03, -1.4343e-01,  8.7633e-02,  2.2352e-01, -6.0348e-02,\n",
              "         -6.2180e-02, -7.4124e-02,  3.3956e-02,  7.7780e-03, -2.8850e-03,\n",
              "          1.0995e-01,  3.9095e-02,  1.1476e-01,  6.9839e-03,  5.7322e-02,\n",
              "          7.4123e-02,  1.8540e-01,  1.3034e-01,  4.1941e-02,  3.8918e-02,\n",
              "          1.6139e-02, -2.4677e-01, -4.0251e-02,  1.6298e-01,  4.3308e-02,\n",
              "         -2.4111e-02, -2.6644e-02, -2.4530e-01,  7.1631e-02, -8.4544e-02,\n",
              "          6.8041e-03,  4.0172e-02, -1.3222e-01, -2.8501e-01, -2.1393e-01,\n",
              "         -7.0380e-02,  1.1844e-01,  2.4733e-01,  5.0423e-02, -1.1942e-01,\n",
              "          1.4925e-01,  2.9996e-01, -9.5584e-02,  1.7191e-01, -1.2104e-01,\n",
              "          9.6982e-02, -2.2035e-02, -9.3567e-02, -1.4841e-01, -2.7104e-01,\n",
              "         -1.2031e-01, -7.1650e-02, -1.2294e-01,  1.4499e-01, -5.5109e-02,\n",
              "         -1.4163e-02,  8.6009e-02, -9.6894e-04, -1.8481e-01, -1.1315e-02,\n",
              "         -1.9793e-02,  9.5385e-02, -1.1145e-01, -3.1335e-01, -5.5576e-02,\n",
              "         -1.2271e-01, -2.6844e-04, -6.3630e-02, -1.3335e-01, -4.3987e-02,\n",
              "         -4.3929e-02,  2.1848e-02, -7.8836e-02, -1.4739e-01,  2.9756e-02,\n",
              "          7.2932e-02, -6.0599e-02, -5.6451e-02, -1.6397e-01,  9.1963e-02,\n",
              "         -3.0398e-02,  2.3295e-01, -2.7395e-01, -9.7280e-03,  5.7745e-02,\n",
              "         -1.8292e-02,  4.0487e-02,  2.9318e-01, -2.6019e-02, -1.1992e-02,\n",
              "         -5.8799e-02, -4.7845e-02, -1.4599e-01, -7.8814e-02,  1.2486e-02,\n",
              "          3.0613e-02, -8.9375e-02, -9.7453e-02, -4.4072e-02,  1.2080e-01,\n",
              "          1.1490e-02, -3.8366e-02, -7.1256e-02, -5.6447e-02, -1.3108e-01,\n",
              "         -9.5144e-02, -4.6171e-02,  1.4954e-02, -6.0474e-02,  7.1506e-02,\n",
              "          1.0263e-01,  4.6641e-02, -1.3134e-01, -1.2345e-01,  7.9186e-02,\n",
              "         -2.6944e-03,  1.2834e-01, -1.4887e-01,  1.8215e-01,  8.9079e-02,\n",
              "         -6.3137e-02,  3.5951e-02,  8.4804e-02, -4.5845e-03,  6.2437e-02,\n",
              "          6.1629e-02,  1.5404e-01, -1.7989e-02,  7.6217e-02,  3.5844e-02,\n",
              "          1.8659e-01, -1.9097e-02,  6.9754e-02,  1.7651e-03, -5.6384e-02,\n",
              "          7.0730e-02,  1.9620e-02, -1.1209e-01, -7.1990e-02, -2.4329e-01,\n",
              "          2.7535e-02, -8.0456e-02,  2.4275e-02,  6.2729e-02, -1.2626e-02,\n",
              "         -1.1904e-01, -8.1171e-02,  1.2135e-01, -1.5329e-01, -3.0948e-01,\n",
              "         -6.4280e-02, -1.0480e-01, -4.0312e-02, -4.0971e-02, -4.4615e-02,\n",
              "          4.2615e-03, -4.9008e-03,  6.3957e-02, -9.0247e-02, -1.5372e-01,\n",
              "          9.1804e-02, -2.1456e-01,  4.5067e-02,  6.4588e-02,  4.7941e-02,\n",
              "          6.2725e-02, -1.0952e-01, -7.3461e-03, -6.3033e-02, -8.8120e-02,\n",
              "          1.0371e-01,  3.9685e-02,  5.1394e-02, -5.8458e-02, -1.8000e-01,\n",
              "          2.1628e-01, -2.4167e-02, -1.0448e-01,  5.8457e-02,  1.2979e-01,\n",
              "         -3.0203e-02, -4.0776e-02, -6.3222e-02, -1.9388e-03,  3.2100e-02,\n",
              "          6.2131e-03, -1.5098e-01, -2.4531e-01,  7.8128e-02, -4.3797e-02,\n",
              "          5.2662e-02,  1.8301e-01, -1.6580e-01, -1.6191e-01, -1.3937e-01,\n",
              "          5.6784e-02, -1.3946e-01,  1.4531e-01,  2.9264e-01,  9.8460e-02,\n",
              "         -2.3545e-02, -8.2203e-02,  1.0209e-01,  1.5345e-01, -2.9411e-02,\n",
              "          6.1433e-02,  1.9094e-02,  1.7328e-01, -1.1641e-01,  2.3693e-01,\n",
              "          7.9169e-03, -2.9880e-02, -1.3056e-01,  1.2884e-01,  1.5361e-02,\n",
              "          1.6893e-01,  2.4148e-02,  1.4720e-01, -6.3241e-02, -7.3065e-02,\n",
              "         -1.0166e-01,  2.2999e-01,  1.8908e-01, -1.2971e-01,  2.6626e-02,\n",
              "         -1.8432e-01, -2.4321e-02, -4.2270e-02, -1.5197e-01,  2.4718e-01,\n",
              "         -1.6970e-01,  7.2870e-02,  8.7749e-02, -4.4471e-02, -2.7639e-02,\n",
              "          5.1192e-02, -1.5958e-01, -1.2882e-02,  5.4253e-02, -1.2816e-01,\n",
              "          4.1918e-02,  5.8872e-02, -1.9295e-01,  1.7745e-01, -1.4018e-01,\n",
              "          3.3982e-01,  1.5474e-01,  3.9165e-02,  1.0543e-01, -6.3337e-02,\n",
              "         -1.1849e-02,  6.3566e-03,  1.3773e-01, -1.7209e-01, -8.9808e-02,\n",
              "          1.5369e-01,  9.6893e-02,  2.4114e-02,  2.9613e-02,  1.2342e-01,\n",
              "         -1.1854e-01,  1.0707e-02, -1.0619e-01,  2.1605e-01, -2.4502e-02,\n",
              "          1.0719e-01, -4.9549e-02,  7.7617e-02, -2.0967e-01, -5.4468e-02,\n",
              "         -1.1362e-01,  4.2755e-02,  7.8366e-03, -1.2693e-01, -8.8278e-03,\n",
              "         -5.8396e-02,  1.6689e-01,  1.0347e-01, -1.1422e-01, -2.1979e-01,\n",
              "         -2.3766e-01, -5.2673e-02,  5.4835e-03, -1.1638e-03, -4.2645e-02,\n",
              "         -1.0572e-01,  6.5028e-02,  1.5834e-01,  9.6354e-02,  1.3387e-01,\n",
              "         -2.5564e-01,  2.1538e-03,  1.1760e-01,  8.6802e-02, -6.7108e-02,\n",
              "         -8.0259e-02, -6.5823e-02,  3.1937e-02,  9.4521e-02,  2.3710e-02,\n",
              "         -2.9000e-02,  2.1690e-01,  3.0950e-01, -1.1809e-01, -2.1461e-01,\n",
              "         -1.0264e-01, -9.9283e-02, -1.5587e-01,  8.0069e-02, -1.0653e-02,\n",
              "         -2.1541e-01,  1.8033e-01, -6.0638e-02, -1.8186e-01,  1.5694e-01,\n",
              "         -6.8799e-03, -1.0275e-02,  9.9723e-02,  1.7434e-01, -1.0012e-01,\n",
              "          1.7484e-01,  1.8504e-01,  1.6043e-01,  1.0325e-03,  3.2685e-02,\n",
              "          1.7680e-01, -4.1735e-02,  1.7705e-01,  3.1132e-01, -2.1333e-01,\n",
              "          7.4283e-02,  4.8197e-02, -9.8527e-02,  5.8622e-02, -2.1100e-02,\n",
              "         -1.4896e-01, -8.3347e-04, -2.0053e-01,  3.3032e-01, -1.2395e-01,\n",
              "          2.5313e-02, -2.5373e-02, -7.5684e-02, -9.8965e-02,  7.6016e-02,\n",
              "          1.0374e-01,  1.8104e-01,  1.2987e-01, -2.7329e-01,  1.6345e-01,\n",
              "         -1.8875e-01, -4.8934e-02,  1.4096e-01,  2.2661e-02, -3.9233e-02,\n",
              "         -5.1564e-02, -1.1170e-01,  1.9865e-01, -1.3039e-01, -8.8110e-02]],\n",
              "       device='cuda:0', grad_fn=<AddmmBackward0>)"
            ]
          },
          "metadata": {},
          "execution_count": 6
        }
      ],
      "source": [
        "res_original"
      ]
    },
    {
      "cell_type": "code",
      "execution_count": 7,
      "metadata": {
        "colab": {
          "base_uri": "https://localhost:8080/"
        },
        "id": "0I_zSpv29698",
        "outputId": "a0ba566d-6730-4954-8dd0-eb47b549cbf1"
      },
      "outputs": [
        {
          "output_type": "execute_result",
          "data": {
            "text/plain": [
              "(tensor([[ 1.6054e-01, -1.0299e-01, -8.5112e-02,  2.2978e-02, -5.1592e-02,\n",
              "           5.2242e-02,  1.2729e-01,  3.8520e-02,  3.9125e-03, -4.5269e-03,\n",
              "          -1.3420e-01,  8.7198e-02,  1.7493e-01,  4.3974e-03, -8.5139e-02,\n",
              "           2.2080e-01,  2.1938e-01, -4.8877e-03, -1.9030e-02,  1.0701e-01,\n",
              "          -2.1043e-01,  6.9520e-03, -9.8219e-02,  1.4016e-01,  3.9717e-02,\n",
              "          -3.4341e-02,  8.4626e-02, -2.8476e-02, -1.1009e-02, -8.4720e-02,\n",
              "           3.8207e-02,  6.6484e-02, -9.2579e-02,  5.0701e-02,  1.0514e-01,\n",
              "          -7.8249e-02, -7.4569e-02,  4.1364e-02, -1.9585e-01, -4.4687e-03,\n",
              "           1.5876e-02,  4.4886e-02, -5.1274e-02, -1.5865e-01, -1.3904e-01,\n",
              "           1.8403e-01, -1.8930e-02, -7.5558e-02, -9.1162e-02, -1.1517e-01,\n",
              "           2.5993e-03, -2.6654e-01, -9.2096e-02,  1.2845e-01,  1.3258e-01,\n",
              "          -3.1372e-02,  2.1874e-02,  1.9672e-01, -1.0432e-01,  1.1467e-02,\n",
              "           1.1640e-02,  1.7761e-01, -4.8162e-02,  2.6937e-02, -4.1934e-02,\n",
              "           1.3517e-01, -1.3401e-01,  1.3782e-01, -3.2361e-02, -1.2944e-01,\n",
              "          -9.1005e-02, -1.0724e-01, -3.5188e-02, -3.6184e-03,  9.8497e-03,\n",
              "           3.7946e-02, -1.2025e-01,  1.5173e-02, -2.7468e-02,  1.1055e-01,\n",
              "          -1.1795e-01,  4.3945e-02, -2.4741e-01,  1.8174e-01, -1.1426e-01,\n",
              "          -1.4945e-01, -2.3858e-02,  4.8655e-02,  9.5650e-02, -1.6559e-01,\n",
              "           3.7564e-02, -7.7120e-03,  1.9268e-01, -1.0846e-01, -1.1282e-01,\n",
              "           5.3865e-02,  8.2767e-02,  5.8965e-02,  1.0728e-01, -1.8196e-02,\n",
              "          -6.9810e-02, -2.5434e-01,  2.7441e-01,  7.7026e-02,  1.3503e-01,\n",
              "          -1.7383e-01, -3.3739e-02, -3.9051e-02,  1.1325e-01, -1.7842e-01,\n",
              "          -2.7268e-01, -4.1147e-02, -9.9288e-02, -7.5742e-02,  2.4288e-02,\n",
              "          -2.0544e-02, -3.9984e-02, -6.3792e-02,  2.0726e-01, -3.0290e-01,\n",
              "          -6.9452e-02, -1.0843e-01,  1.1287e-01,  1.1081e-01,  2.3226e-02,\n",
              "          -6.1342e-03, -8.9777e-02, -7.3237e-02,  1.7289e-01, -6.4135e-02,\n",
              "          -1.1845e-01, -8.6532e-02, -3.7063e-02,  1.0651e-01,  4.6141e-02,\n",
              "           6.1595e-02,  1.8482e-02, -9.9761e-03, -4.6187e-02,  9.7436e-02,\n",
              "          -5.9341e-02, -5.0764e-02,  6.8120e-04,  5.9542e-02, -2.6393e-02,\n",
              "           1.6497e-01, -7.2742e-02,  1.7269e-02, -7.6044e-02, -2.1666e-01,\n",
              "           2.4220e-01,  1.7774e-01,  4.0632e-02,  1.7622e-02, -1.7880e-01,\n",
              "           1.3618e-02,  6.8001e-02, -1.4357e-01, -1.3776e-01, -3.0128e-02,\n",
              "          -3.6488e-02, -1.3172e-01, -2.1807e-01,  5.7636e-02,  2.4312e-02,\n",
              "           1.3557e-01,  5.2188e-02, -4.9936e-02,  1.5519e-01, -6.4185e-02,\n",
              "          -1.6931e-01,  1.7031e-01,  2.6032e-02,  7.0620e-02, -1.6147e-01,\n",
              "          -2.5681e-01,  3.3762e-02, -9.4079e-02,  2.7850e-02,  1.5982e-01,\n",
              "           6.6734e-03,  5.7245e-02,  6.7245e-02,  5.2150e-02,  4.6439e-02,\n",
              "           5.0462e-02, -7.7530e-02,  6.7848e-02,  1.0011e-01, -8.4547e-02,\n",
              "           9.8192e-02,  7.2115e-02,  1.5547e-01, -5.9003e-02, -9.6437e-03,\n",
              "          -1.5215e-02,  1.8526e-01,  1.2769e-01,  2.6761e-02,  2.4931e-01,\n",
              "           7.2243e-02,  5.2776e-02,  2.7663e-02, -2.7711e-03,  5.7289e-02,\n",
              "          -6.9542e-02, -1.2622e-01, -7.3079e-03, -1.1815e-01,  1.2885e-01,\n",
              "           1.9563e-02,  3.8523e-02,  1.1994e-01, -1.4399e-01, -5.0051e-02,\n",
              "           9.2263e-02,  5.0539e-02, -4.7616e-02, -1.7503e-01,  9.9694e-02,\n",
              "          -3.3116e-01,  9.4194e-02, -9.2800e-02, -1.4387e-01, -2.3994e-01,\n",
              "           3.4245e-02, -6.1228e-02,  2.5371e-01,  2.3127e-02, -3.6638e-02,\n",
              "           1.3939e-01,  4.8106e-02,  1.0089e-01,  6.4463e-02,  1.8929e-01,\n",
              "          -5.3313e-02, -6.4347e-02, -8.3678e-02, -1.8236e-01, -4.9622e-03,\n",
              "           2.9223e-02, -5.1561e-02, -2.5504e-01,  3.1973e-02,  2.5843e-01,\n",
              "          -8.9714e-04, -7.7960e-02, -2.0315e-01,  6.2272e-02,  1.2159e-01,\n",
              "           1.8336e-01, -4.1092e-02,  4.1923e-02, -1.0231e-01, -2.6363e-02,\n",
              "          -1.1700e-01,  6.6618e-03,  5.5213e-02, -1.8512e-01, -3.8756e-02,\n",
              "           2.0019e-01,  1.7121e-02,  4.1947e-02, -7.8531e-02,  3.5742e-02,\n",
              "           1.2423e-01, -1.2196e-01, -2.8044e-02,  2.4384e-01,  3.9012e-02,\n",
              "           2.3578e-01, -2.8953e-02, -1.6538e-01,  1.8535e-01, -1.6347e-02,\n",
              "          -9.4428e-02, -1.9489e-02, -1.2998e-01, -1.8262e-01,  2.6039e-01,\n",
              "          -7.5973e-02, -1.2657e-01, -2.8000e-01,  3.9890e-01, -2.2496e-01,\n",
              "          -1.4061e-01,  9.1518e-02,  7.2361e-02, -2.5932e-01, -1.4514e-01,\n",
              "          -2.2369e-01, -2.0552e-01, -9.7564e-03, -8.8397e-03,  1.7793e-01,\n",
              "           1.1121e-04,  1.2690e-01, -2.7109e-02, -3.9783e-01, -1.0382e-01,\n",
              "          -6.3383e-02,  1.9713e-01, -6.1045e-03,  6.1001e-02,  2.3523e-01,\n",
              "          -3.0667e-02, -2.6529e-01, -1.0177e-01, -1.1245e-02, -7.9383e-02,\n",
              "           4.9639e-03,  7.0291e-02,  8.9706e-02, -1.0545e-01,  7.4287e-03,\n",
              "          -9.3711e-02,  1.6619e-02,  2.3073e-02, -2.0284e-02,  1.5653e-02,\n",
              "           2.9834e-02,  3.4952e-02, -5.5352e-03,  1.5597e-02, -1.6823e-01,\n",
              "          -5.5915e-02, -3.5069e-02, -4.1719e-02,  9.0196e-02,  1.2215e-01,\n",
              "           9.5646e-02, -1.4059e-02,  1.4576e-01,  6.2357e-02,  1.8162e-02,\n",
              "          -9.4792e-02, -6.4717e-02, -5.2987e-02, -3.6460e-02,  5.9146e-02,\n",
              "          -1.5506e-01,  1.3026e-01, -1.2149e-02,  6.7323e-03,  2.7318e-01,\n",
              "          -2.7408e-02, -5.6058e-02,  1.1421e-01,  1.6992e-01, -2.1055e-02,\n",
              "          -1.4325e-01,  9.3984e-02, -1.8097e-01, -3.2441e-02, -1.4910e-01,\n",
              "           2.2069e-02, -2.2274e-03, -4.6950e-03,  8.4699e-02,  7.1901e-02,\n",
              "           1.1333e-01,  3.8423e-02,  1.7357e-01,  6.6636e-02,  2.2387e-02,\n",
              "           1.8116e-01, -1.7233e-01, -7.4606e-02, -4.6318e-02,  9.9730e-02,\n",
              "          -2.7836e-01, -1.5266e-01,  1.8912e-02, -6.2252e-03,  1.1987e-02,\n",
              "          -1.7590e-01,  3.9155e-02, -1.8933e-02,  8.1855e-02,  1.3936e-01,\n",
              "           1.7831e-01,  5.3989e-02,  6.0189e-02, -2.7810e-02,  1.0524e-01,\n",
              "           1.2587e-01, -1.0373e-01,  5.6663e-02,  2.3292e-01, -5.4169e-02,\n",
              "          -2.0781e-01, -2.8132e-02,  1.8360e-01, -1.9213e-01,  3.7469e-02,\n",
              "          -6.4976e-02, -3.7874e-02, -2.0069e-01, -1.4145e-01, -2.4087e-02,\n",
              "          -3.4149e-02, -9.8957e-02,  2.0784e-02, -1.8410e-01, -1.5968e-01,\n",
              "           9.2791e-02, -3.4742e-02, -6.3124e-02,  9.5834e-02,  5.1598e-02,\n",
              "           1.3847e-01,  9.2034e-02,  1.6890e-01, -7.7394e-03,  1.5804e-01,\n",
              "          -1.3774e-01, -7.2456e-02,  8.9618e-02, -2.8277e-02,  1.4765e-01,\n",
              "          -1.0766e-01, -3.7989e-02, -5.3161e-02,  1.5949e-01, -2.5019e-02,\n",
              "          -2.3800e-02,  3.1871e-02, -4.2372e-01, -7.3213e-02,  7.3864e-02,\n",
              "           1.5646e-01, -1.0073e-02,  2.1680e-01, -7.9946e-02,  6.3818e-02,\n",
              "           1.0140e-01, -1.5910e-01,  1.4534e-01, -1.6204e-01,  2.9236e-01,\n",
              "           7.4341e-02, -2.0121e-03, -1.4283e-01,  6.0849e-02, -1.5347e-01,\n",
              "          -3.1211e-01, -3.1111e-02,  2.4354e-01, -1.0510e-01, -5.0439e-02,\n",
              "          -5.9180e-02, -5.3932e-02,  3.6964e-02,  8.0964e-02,  1.1541e-01,\n",
              "          -9.0301e-02, -7.0858e-02,  1.6198e-01, -1.0631e-01, -1.2778e-01,\n",
              "          -7.2469e-02,  9.4576e-02, -1.0173e-01, -3.6208e-02, -8.3022e-02,\n",
              "           1.1119e-01, -1.2193e-01,  5.6864e-02, -1.1432e-01,  4.2196e-02,\n",
              "           1.8901e-01,  2.3376e-01, -4.1897e-02,  3.9428e-02, -9.1316e-02,\n",
              "          -2.2255e-01,  3.0940e-02, -1.0597e-01, -2.3690e-01, -8.9226e-03,\n",
              "          -1.7615e-01,  7.5287e-02,  1.3277e-02,  1.1518e-02,  8.7794e-03,\n",
              "          -1.2353e-01,  3.4694e-02,  1.0693e-01,  3.0992e-02, -1.7606e-01,\n",
              "           1.8178e-01,  6.8714e-02,  1.1295e-01,  4.3257e-02,  1.0772e-01,\n",
              "           1.1579e-01, -3.7149e-02, -1.6529e-01,  9.5815e-02, -1.4251e-01,\n",
              "           1.3551e-01,  7.7490e-02, -1.0626e-01, -3.2611e-02,  4.3739e-02,\n",
              "          -2.5166e-02,  2.6550e-02, -2.4510e-01,  6.2243e-02,  9.7862e-02,\n",
              "           2.2851e-02,  4.2487e-03,  4.6031e-02, -9.3063e-02,  1.2190e-01,\n",
              "           1.2928e-01, -9.7237e-02, -2.0145e-01,  1.5287e-02, -1.1431e-01,\n",
              "           9.9818e-02,  6.1598e-02, -5.0381e-03,  5.1805e-03, -1.0764e-01,\n",
              "           1.0025e-02, -9.4408e-03, -1.2328e-01,  6.0935e-02,  1.4213e-02,\n",
              "           1.3766e-01,  3.2573e-02, -2.9441e-02,  1.8566e-01,  3.4669e-02,\n",
              "           9.1610e-03,  1.3840e-01, -3.3242e-01, -7.7628e-02, -1.1530e-01,\n",
              "          -7.5637e-02, -6.1741e-02,  4.3500e-02, -1.7988e-02, -4.7288e-02,\n",
              "          -7.8019e-02, -9.3502e-02,  1.0617e-01, -7.0687e-02,  1.4938e-01,\n",
              "          -1.0286e-01,  1.6728e-01, -9.0651e-02,  1.3820e-01, -9.2697e-02,\n",
              "           3.5837e-02,  4.5289e-02, -4.4274e-02, -1.0806e-02, -1.3346e-01,\n",
              "          -9.4047e-02,  6.4175e-02,  4.0440e-02, -1.4949e-01,  7.4343e-02,\n",
              "           3.7628e-02,  5.6411e-05,  8.0084e-02, -1.0033e-01, -2.8197e-01,\n",
              "           2.9783e-02, -1.4858e-01, -1.8227e-01,  7.3250e-02, -2.5856e-01,\n",
              "           4.8721e-02, -1.8951e-01,  2.7260e-02,  7.7485e-02,  3.3899e-02,\n",
              "          -1.3419e-01,  1.2941e-01,  5.6675e-02,  2.2184e-01, -2.2795e-01,\n",
              "          -9.4533e-02,  1.8134e-01, -1.1648e-03, -2.1306e-01, -9.9889e-02,\n",
              "          -1.4723e-01, -1.5182e-02, -4.3863e-03,  2.4030e-01, -5.7745e-02,\n",
              "           7.7786e-02, -9.4208e-02,  8.3251e-02, -1.9202e-01,  2.7706e-03,\n",
              "          -8.2574e-02,  2.6106e-02, -1.3612e-03,  4.6210e-02, -1.0599e-01,\n",
              "          -1.0068e-01,  6.2122e-02,  7.3960e-02,  1.0303e-01,  1.6223e-02,\n",
              "          -4.2050e-02, -3.3646e-02,  4.1454e-03,  3.6707e-02, -1.5111e-01,\n",
              "          -2.8523e-02,  7.7143e-02, -4.1818e-02, -3.1541e-02, -1.0758e-01,\n",
              "          -8.7376e-02, -6.2755e-02,  1.2918e-01, -6.0286e-02,  2.8547e-02,\n",
              "          -7.3372e-02, -2.0931e-01, -2.6771e-01,  8.3905e-02, -2.2567e-01,\n",
              "          -1.8175e-02,  2.1356e-02, -1.3046e-01,  4.2013e-02,  3.9453e-02,\n",
              "           6.7886e-02,  1.2499e-01, -7.3479e-02,  7.1672e-02,  4.4512e-02,\n",
              "          -6.9153e-03, -1.4343e-01,  8.7633e-02,  2.2352e-01, -6.0347e-02,\n",
              "          -6.2180e-02, -7.4124e-02,  3.3956e-02,  7.7779e-03, -2.8849e-03,\n",
              "           1.0995e-01,  3.9095e-02,  1.1476e-01,  6.9839e-03,  5.7322e-02,\n",
              "           7.4123e-02,  1.8540e-01,  1.3034e-01,  4.1941e-02,  3.8918e-02,\n",
              "           1.6139e-02, -2.4677e-01, -4.0251e-02,  1.6298e-01,  4.3308e-02,\n",
              "          -2.4111e-02, -2.6644e-02, -2.4530e-01,  7.1631e-02, -8.4544e-02,\n",
              "           6.8040e-03,  4.0172e-02, -1.3222e-01, -2.8501e-01, -2.1393e-01,\n",
              "          -7.0380e-02,  1.1844e-01,  2.4733e-01,  5.0423e-02, -1.1942e-01,\n",
              "           1.4925e-01,  2.9996e-01, -9.5584e-02,  1.7191e-01, -1.2104e-01,\n",
              "           9.6982e-02, -2.2035e-02, -9.3567e-02, -1.4841e-01, -2.7104e-01,\n",
              "          -1.2031e-01, -7.1651e-02, -1.2294e-01,  1.4499e-01, -5.5109e-02,\n",
              "          -1.4163e-02,  8.6009e-02, -9.6889e-04, -1.8481e-01, -1.1316e-02,\n",
              "          -1.9793e-02,  9.5385e-02, -1.1145e-01, -3.1335e-01, -5.5576e-02,\n",
              "          -1.2271e-01, -2.6827e-04, -6.3630e-02, -1.3335e-01, -4.3987e-02,\n",
              "          -4.3929e-02,  2.1848e-02, -7.8836e-02, -1.4739e-01,  2.9756e-02,\n",
              "           7.2932e-02, -6.0600e-02, -5.6451e-02, -1.6397e-01,  9.1963e-02,\n",
              "          -3.0398e-02,  2.3295e-01, -2.7395e-01, -9.7279e-03,  5.7745e-02,\n",
              "          -1.8292e-02,  4.0487e-02,  2.9318e-01, -2.6019e-02, -1.1992e-02,\n",
              "          -5.8799e-02, -4.7845e-02, -1.4599e-01, -7.8814e-02,  1.2486e-02,\n",
              "           3.0613e-02, -8.9375e-02, -9.7453e-02, -4.4072e-02,  1.2080e-01,\n",
              "           1.1490e-02, -3.8366e-02, -7.1256e-02, -5.6447e-02, -1.3108e-01,\n",
              "          -9.5144e-02, -4.6171e-02,  1.4954e-02, -6.0474e-02,  7.1506e-02,\n",
              "           1.0263e-01,  4.6641e-02, -1.3134e-01, -1.2345e-01,  7.9186e-02,\n",
              "          -2.6942e-03,  1.2834e-01, -1.4887e-01,  1.8215e-01,  8.9079e-02,\n",
              "          -6.3137e-02,  3.5951e-02,  8.4804e-02, -4.5847e-03,  6.2437e-02,\n",
              "           6.1629e-02,  1.5404e-01, -1.7989e-02,  7.6218e-02,  3.5844e-02,\n",
              "           1.8659e-01, -1.9097e-02,  6.9754e-02,  1.7650e-03, -5.6384e-02,\n",
              "           7.0729e-02,  1.9620e-02, -1.1209e-01, -7.1989e-02, -2.4329e-01,\n",
              "           2.7535e-02, -8.0456e-02,  2.4275e-02,  6.2729e-02, -1.2626e-02,\n",
              "          -1.1904e-01, -8.1171e-02,  1.2135e-01, -1.5329e-01, -3.0948e-01,\n",
              "          -6.4280e-02, -1.0480e-01, -4.0312e-02, -4.0971e-02, -4.4615e-02,\n",
              "           4.2616e-03, -4.9008e-03,  6.3957e-02, -9.0247e-02, -1.5372e-01,\n",
              "           9.1804e-02, -2.1456e-01,  4.5067e-02,  6.4588e-02,  4.7941e-02,\n",
              "           6.2725e-02, -1.0952e-01, -7.3464e-03, -6.3034e-02, -8.8119e-02,\n",
              "           1.0371e-01,  3.9685e-02,  5.1394e-02, -5.8458e-02, -1.8000e-01,\n",
              "           2.1628e-01, -2.4167e-02, -1.0448e-01,  5.8457e-02,  1.2979e-01,\n",
              "          -3.0203e-02, -4.0776e-02, -6.3222e-02, -1.9389e-03,  3.2100e-02,\n",
              "           6.2131e-03, -1.5098e-01, -2.4531e-01,  7.8128e-02, -4.3797e-02,\n",
              "           5.2662e-02,  1.8301e-01, -1.6580e-01, -1.6191e-01, -1.3937e-01,\n",
              "           5.6784e-02, -1.3946e-01,  1.4531e-01,  2.9264e-01,  9.8460e-02,\n",
              "          -2.3545e-02, -8.2203e-02,  1.0209e-01,  1.5345e-01, -2.9411e-02,\n",
              "           6.1433e-02,  1.9094e-02,  1.7328e-01, -1.1641e-01,  2.3693e-01,\n",
              "           7.9167e-03, -2.9879e-02, -1.3056e-01,  1.2884e-01,  1.5361e-02,\n",
              "           1.6893e-01,  2.4148e-02,  1.4720e-01, -6.3241e-02, -7.3065e-02,\n",
              "          -1.0166e-01,  2.2999e-01,  1.8908e-01, -1.2971e-01,  2.6626e-02,\n",
              "          -1.8432e-01, -2.4321e-02, -4.2270e-02, -1.5197e-01,  2.4718e-01,\n",
              "          -1.6970e-01,  7.2870e-02,  8.7749e-02, -4.4470e-02, -2.7639e-02,\n",
              "           5.1192e-02, -1.5958e-01, -1.2882e-02,  5.4253e-02, -1.2816e-01,\n",
              "           4.1918e-02,  5.8872e-02, -1.9295e-01,  1.7746e-01, -1.4018e-01,\n",
              "           3.3982e-01,  1.5474e-01,  3.9165e-02,  1.0543e-01, -6.3337e-02,\n",
              "          -1.1849e-02,  6.3568e-03,  1.3773e-01, -1.7209e-01, -8.9808e-02,\n",
              "           1.5370e-01,  9.6893e-02,  2.4114e-02,  2.9613e-02,  1.2342e-01,\n",
              "          -1.1854e-01,  1.0707e-02, -1.0619e-01,  2.1605e-01, -2.4502e-02,\n",
              "           1.0719e-01, -4.9549e-02,  7.7618e-02, -2.0967e-01, -5.4468e-02,\n",
              "          -1.1362e-01,  4.2754e-02,  7.8363e-03, -1.2693e-01, -8.8278e-03,\n",
              "          -5.8396e-02,  1.6689e-01,  1.0347e-01, -1.1422e-01, -2.1979e-01,\n",
              "          -2.3766e-01, -5.2673e-02,  5.4834e-03, -1.1640e-03, -4.2645e-02,\n",
              "          -1.0572e-01,  6.5028e-02,  1.5834e-01,  9.6354e-02,  1.3387e-01,\n",
              "          -2.5563e-01,  2.1537e-03,  1.1760e-01,  8.6802e-02, -6.7108e-02,\n",
              "          -8.0258e-02, -6.5823e-02,  3.1937e-02,  9.4521e-02,  2.3710e-02,\n",
              "          -2.9000e-02,  2.1690e-01,  3.0950e-01, -1.1809e-01, -2.1461e-01,\n",
              "          -1.0264e-01, -9.9283e-02, -1.5587e-01,  8.0069e-02, -1.0653e-02,\n",
              "          -2.1541e-01,  1.8033e-01, -6.0638e-02, -1.8186e-01,  1.5694e-01,\n",
              "          -6.8801e-03, -1.0275e-02,  9.9723e-02,  1.7434e-01, -1.0012e-01,\n",
              "           1.7484e-01,  1.8504e-01,  1.6043e-01,  1.0327e-03,  3.2685e-02,\n",
              "           1.7680e-01, -4.1734e-02,  1.7705e-01,  3.1132e-01, -2.1333e-01,\n",
              "           7.4282e-02,  4.8197e-02, -9.8527e-02,  5.8622e-02, -2.1100e-02,\n",
              "          -1.4896e-01, -8.3351e-04, -2.0053e-01,  3.3032e-01, -1.2395e-01,\n",
              "           2.5313e-02, -2.5373e-02, -7.5684e-02, -9.8965e-02,  7.6016e-02,\n",
              "           1.0374e-01,  1.8104e-01,  1.2987e-01, -2.7329e-01,  1.6345e-01,\n",
              "          -1.8875e-01, -4.8934e-02,  1.4096e-01,  2.2661e-02, -3.9233e-02,\n",
              "          -5.1564e-02, -1.1170e-01,  1.9865e-01, -1.3039e-01, -8.8110e-02]],\n",
              "        device='cuda:0'),)"
            ]
          },
          "metadata": {},
          "execution_count": 7
        }
      ],
      "source": [
        "res_optimized"
      ]
    },
    {
      "cell_type": "markdown",
      "metadata": {
        "id": "hBEtrYOd9699"
      },
      "source": [
        "Then, let's compare the performances:"
      ]
    },
    {
      "cell_type": "code",
      "execution_count": 8,
      "metadata": {
        "id": "GqxiCAbpfcwV"
      },
      "outputs": [],
      "source": [
        "from nebullvm.utils.benchmark import benchmark"
      ]
    },
    {
      "cell_type": "code",
      "execution_count": null,
      "metadata": {
        "id": "_0b0Bzwq-czD"
      },
      "outputs": [],
      "source": [
        "# Set the model to eval mode and move it to the available device\n",
        "\n",
        "device = torch.device(\"cuda\" if torch.cuda.is_available() else \"cpu\")\n",
        "\n",
        "model.eval()\n",
        "model.to(device)"
      ]
    },
    {
      "cell_type": "markdown",
      "metadata": {
        "id": "UqxzStjD2v0r"
      },
      "source": [
        "Here we compute the average throughput for the baseline model:"
      ]
    },
    {
      "cell_type": "code",
      "execution_count": 10,
      "metadata": {
        "id": "dkt67_Orwlv4",
        "colab": {
          "base_uri": "https://localhost:8080/"
        },
        "outputId": "fc10c03c-c3ad-44d4-9fd6-c9b6dc0256c7"
      },
      "outputs": [
        {
          "output_type": "stream",
          "name": "stderr",
          "text": [
            "Performing warm up on 50 iterations: 100%|██████████| 50/50 [00:00<00:00, 109.34it/s]\n",
            "Performing benchmark on 1000 iterations: 100%|██████████| 1000/1000 [00:09<00:00, 102.48it/s]"
          ]
        },
        {
          "output_type": "stream",
          "name": "stdout",
          "text": [
            "Input shapes: [torch.Size([1, 3, 256, 256])]\n",
            "Output features shapes: [torch.Size([1000])]\n",
            "Batch size: 1\n",
            "Average Throughput: 104.05 data/second\n",
            "Average Latency: 0.0096 seconds/data\n"
          ]
        },
        {
          "output_type": "stream",
          "name": "stderr",
          "text": [
            "\n"
          ]
        }
      ],
      "source": [
        "benchmark(model, input_data)"
      ]
    },
    {
      "cell_type": "markdown",
      "metadata": {
        "id": "AgOv-GqQ3KIC"
      },
      "source": [
        "Here we compute the average throughput for the optimized model:\n",
        "\n"
      ]
    },
    {
      "cell_type": "code",
      "execution_count": 11,
      "metadata": {
        "id": "4PodpaDVfwzT",
        "colab": {
          "base_uri": "https://localhost:8080/"
        },
        "outputId": "27a42560-93a2-4c19-e68d-360093fe914c"
      },
      "outputs": [
        {
          "output_type": "stream",
          "name": "stderr",
          "text": [
            "Performing warm up on 50 iterations: 100%|██████████| 50/50 [00:00<00:00, 430.22it/s]\n",
            "Performing benchmark on 1000 iterations: 100%|██████████| 1000/1000 [00:03<00:00, 269.16it/s]"
          ]
        },
        {
          "output_type": "stream",
          "name": "stdout",
          "text": [
            "Input shapes: [torch.Size([1, 3, 256, 256])]\n",
            "Output features shapes: [torch.Size([1000])]\n",
            "Batch size: 1\n",
            "Average Throughput: 274.01 data/second\n",
            "Average Latency: 0.0036 seconds/data\n"
          ]
        },
        {
          "output_type": "stream",
          "name": "stderr",
          "text": [
            "\n"
          ]
        }
      ],
      "source": [
        "benchmark(optimized_model, input_data)"
      ]
    },
    {
      "cell_type": "markdown",
      "metadata": {
        "id": "tBeRKNTI3iyK"
      },
      "source": [
        "## Scenario 2 - Accuracy drop"
      ]
    },
    {
      "cell_type": "markdown",
      "metadata": {
        "id": "w3wutIzfAMe_"
      },
      "source": [
        "In this scenario, we set a max threshold for the accuracy drop to 2%"
      ]
    },
    {
      "cell_type": "code",
      "execution_count": null,
      "metadata": {
        "id": "fO1nGqpj3p7z"
      },
      "outputs": [],
      "source": [
        "import torch\n",
        "import torchvision.models as models\n",
        "from nebullvm.api.functions import optimize_model\n",
        "\n",
        "# Load a resnet as example\n",
        "model = models.resnet50().to(device)\n",
        "\n",
        "# Provide 100 random input data for the model  \n",
        "input_data = [((torch.randn(1, 3, 256, 256), ), 0) for _ in range(100)]\n",
        "\n",
        "# Run nebullvm optimization\n",
        "optimized_model = optimize_model(\n",
        "  model, input_data=input_data, optimization_time=\"unconstrained\", metric=\"accuracy\", metric_drop_ths=0.02\n",
        ")\n",
        "\n",
        "# Try the optimized model\n",
        "x = torch.randn(1, 3, 256, 256).to(device)\n",
        "res = optimized_model(x)"
      ]
    },
    {
      "cell_type": "code",
      "execution_count": null,
      "metadata": {
        "id": "qFKHaHM6-GKm"
      },
      "outputs": [],
      "source": [
        "# Set the model to eval mode and move it to the available device\n",
        "\n",
        "model.eval()\n",
        "model.to(device)"
      ]
    },
    {
      "cell_type": "markdown",
      "metadata": {
        "id": "yfW9kmHX-pGi"
      },
      "source": [
        "Here we compute the average throughput for the baseline model:"
      ]
    },
    {
      "cell_type": "code",
      "execution_count": 17,
      "metadata": {
        "id": "0MMrL3959hli",
        "colab": {
          "base_uri": "https://localhost:8080/"
        },
        "outputId": "2e8d27ec-a9f3-4f70-8c75-a0df974f2653"
      },
      "outputs": [
        {
          "output_type": "stream",
          "name": "stderr",
          "text": [
            "Performing warm up on 50 iterations: 100%|██████████| 50/50 [00:00<00:00, 103.87it/s]\n",
            "Performing benchmark on 1000 iterations: 100%|██████████| 1000/1000 [00:09<00:00, 102.56it/s]"
          ]
        },
        {
          "output_type": "stream",
          "name": "stdout",
          "text": [
            "Input shapes: [torch.Size([1, 3, 256, 256])]\n",
            "Output features shapes: [torch.Size([1000])]\n",
            "Batch size: 1\n",
            "Average Throughput: 104.03 data/second\n",
            "Average Latency: 0.0096 seconds/data\n"
          ]
        },
        {
          "output_type": "stream",
          "name": "stderr",
          "text": [
            "\n"
          ]
        }
      ],
      "source": [
        "benchmark(model, input_data)"
      ]
    },
    {
      "cell_type": "markdown",
      "metadata": {
        "id": "i3GqasOM-u8f"
      },
      "source": [
        "Here we compute the average throughput for the optimized model:"
      ]
    },
    {
      "cell_type": "code",
      "execution_count": 18,
      "metadata": {
        "id": "_IbAW0KA4Fm5",
        "colab": {
          "base_uri": "https://localhost:8080/"
        },
        "outputId": "48d83c89-5687-42aa-a3b8-6989bcb66aa6"
      },
      "outputs": [
        {
          "output_type": "stream",
          "name": "stderr",
          "text": [
            "Performing warm up on 50 iterations: 100%|██████████| 50/50 [00:00<00:00, 1823.33it/s]\n",
            "Performing benchmark on 1000 iterations: 100%|██████████| 1000/1000 [00:01<00:00, 937.67it/s]"
          ]
        },
        {
          "output_type": "stream",
          "name": "stdout",
          "text": [
            "Input shapes: [torch.Size([1, 3, 256, 256])]\n",
            "Output features shapes: [torch.Size([1000])]\n",
            "Batch size: 1\n",
            "Average Throughput: 960.64 data/second\n",
            "Average Latency: 0.0010 seconds/data\n"
          ]
        },
        {
          "output_type": "stream",
          "name": "stderr",
          "text": [
            "\n"
          ]
        }
      ],
      "source": [
        "benchmark(optimized_model, input_data)"
      ]
    },
    {
      "cell_type": "markdown",
      "metadata": {
        "id": "xLBCDOTS10L6"
      },
      "source": [
        "<center> \n",
        "    <a href=\"https://discord.com/invite/RbeQMu886J\" target=\"_blank\" style=\"text-decoration: none;\"> Join the community </a> |\n",
        "    <a href=\"https://nebuly.gitbook.io/nebuly/welcome/questions-and-contributions\" target=\"_blank\" style=\"text-decoration: none;\"> Contribute to the library </a>\n",
        "</center>\n",
        "\n",
        "<center> \n",
        "    <a href=\"https://github.com/nebuly-ai/nebullvm#how-it-works\" target=\"_blank\" style=\"text-decoration: none;\"> How nebullvm works </a> •\n",
        "    <a href=\"https://github.com/nebuly-ai/nebullvm#documentation\" target=\"_blank\" style=\"text-decoration: none;\"> Documentation </a> •\n",
        "    <a href=\"https://github.com/nebuly-ai/nebullvm#api-quick-view\" target=\"_blank\" style=\"text-decoration: none;\"> API quick view </a> \n",
        "</center>"
      ]
    }
  ],
  "metadata": {
    "accelerator": "GPU",
    "colab": {
      "collapsed_sections": [],
      "provenance": []
    },
    "gpuClass": "standard",
    "kernelspec": {
      "display_name": "Python 3.9.13 ('pytorch')",
      "language": "python",
      "name": "python3"
    },
    "language_info": {
      "codemirror_mode": {
        "name": "ipython",
        "version": 3
      },
      "file_extension": ".py",
      "mimetype": "text/x-python",
      "name": "python",
      "nbconvert_exporter": "python",
      "pygments_lexer": "ipython3",
      "version": "3.9.13"
    },
    "vscode": {
      "interpreter": {
        "hash": "292946fc3537f9d97fe8e6b71322c45e676689a1ee6a93c259ec370faae75bb1"
      }
    }
  },
  "nbformat": 4,
  "nbformat_minor": 0
}