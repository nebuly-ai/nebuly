{
  "cells": [
    {
      "cell_type": "markdown",
      "metadata": {
        "id": "p5b0PzpW1xJq"
      },
      "source": [
        "![nebullvm nebuly logo.png](data:image/png;base64,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)"
      ]
    },
    {
      "cell_type": "markdown",
      "metadata": {
        "id": "T9xuwZEHzN2K"
      },
      "source": [
        "#Accelerate Tensorflow ResNet50 with nebullvm\n",
        "Hi and welcome 👋\n",
        "\n",
        "In this notebook we will discover how in just a few steps you can speed up the response time of deep learning model inference using the open-source library `nebullvm`.\n",
        "\n",
        "We will\n",
        "1. Install nebullvm and the deep learning compilers used by the library.\n",
        "2. Speed up a PyTorch ResNet50 without any loss of accuracy.\n",
        "3. Achieve faster acceleration on the same model by applying more aggressive optimization techniques (e.g. pruning, quantization) under the constraint of sacrificing up to 2% accuracy.\n",
        "\n",
        "Let's jump to the code."
      ]
    },
    {
      "cell_type": "code",
      "execution_count": null,
      "metadata": {
        "id": "KIeIvBPVLQuq"
      },
      "outputs": [],
      "source": [
        "%env CUDA_VISIBLE_DEVICES=0"
      ]
    },
    {
      "cell_type": "markdown",
      "metadata": {
        "id": "HbFy2Aykz2Qo"
      },
      "source": [
        "#Installation"
      ]
    },
    {
      "cell_type": "code",
      "execution_count": null,
      "metadata": {
        "id": "ZPJHVZ74d8r2"
      },
      "outputs": [],
      "source": [
        "%pip install nebullvm"
      ]
    },
    {
      "cell_type": "markdown",
      "metadata": {
        "id": "XpY_HhrAL22K"
      },
      "source": [
        "Note that tensorflow is not listed in nebullvm requirements.txt, so it will not be installed by default. If you want to use nebullvm with a tensorflow model you have to install it separately."
      ]
    },
    {
      "cell_type": "code",
      "execution_count": 4,
      "metadata": {
        "colab": {
          "base_uri": "https://localhost:8080/"
        },
        "id": "95KfIS64Lsfz",
        "outputId": "41d6e649-37bd-4198-9d6b-ea4a9a641f47"
      },
      "outputs": [
        {
          "name": "stdout",
          "output_type": "stream",
          "text": [
            "Looking in indexes: https://pypi.org/simple, https://us-python.pkg.dev/colab-wheels/public/simple/\n",
            "Requirement already satisfied: tensorflow<=2.10 in /usr/local/lib/python3.7/dist-packages (2.8.2+zzzcolab20220929150707)\n",
            "Requirement already satisfied: typing-extensions>=3.6.6 in /usr/local/lib/python3.7/dist-packages (from tensorflow<=2.10) (4.1.1)\n",
            "Requirement already satisfied: grpcio<2.0,>=1.24.3 in /usr/local/lib/python3.7/dist-packages (from tensorflow<=2.10) (1.49.1)\n",
            "Requirement already satisfied: tensorflow-io-gcs-filesystem>=0.23.1 in /usr/local/lib/python3.7/dist-packages (from tensorflow<=2.10) (0.27.0)\n",
            "Requirement already satisfied: astunparse>=1.6.0 in /usr/local/lib/python3.7/dist-packages (from tensorflow<=2.10) (1.6.3)\n",
            "Requirement already satisfied: h5py>=2.9.0 in /usr/local/lib/python3.7/dist-packages (from tensorflow<=2.10) (3.1.0)\n",
            "Requirement already satisfied: wrapt>=1.11.0 in /usr/local/lib/python3.7/dist-packages (from tensorflow<=2.10) (1.14.1)\n",
            "Requirement already satisfied: tensorboard<2.9,>=2.8 in /usr/local/lib/python3.7/dist-packages (from tensorflow<=2.10) (2.8.0)\n",
            "Requirement already satisfied: six>=1.12.0 in /usr/local/lib/python3.7/dist-packages (from tensorflow<=2.10) (1.15.0)\n",
            "Requirement already satisfied: flatbuffers>=1.12 in /usr/local/lib/python3.7/dist-packages (from tensorflow<=2.10) (22.9.24)\n",
            "Requirement already satisfied: google-pasta>=0.1.1 in /usr/local/lib/python3.7/dist-packages (from tensorflow<=2.10) (0.2.0)\n",
            "Requirement already satisfied: opt-einsum>=2.3.2 in /usr/local/lib/python3.7/dist-packages (from tensorflow<=2.10) (3.3.0)\n",
            "Requirement already satisfied: keras-preprocessing>=1.1.1 in /usr/local/lib/python3.7/dist-packages (from tensorflow<=2.10) (1.1.2)\n",
            "Requirement already satisfied: libclang>=9.0.1 in /usr/local/lib/python3.7/dist-packages (from tensorflow<=2.10) (14.0.6)\n",
            "Requirement already satisfied: numpy>=1.20 in /usr/local/lib/python3.7/dist-packages (from tensorflow<=2.10) (1.21.6)\n",
            "Requirement already satisfied: setuptools in /usr/local/lib/python3.7/dist-packages (from tensorflow<=2.10) (57.4.0)\n",
            "Requirement already satisfied: gast>=0.2.1 in /usr/local/lib/python3.7/dist-packages (from tensorflow<=2.10) (0.5.3)\n",
            "Requirement already satisfied: termcolor>=1.1.0 in /usr/local/lib/python3.7/dist-packages (from tensorflow<=2.10) (2.0.1)\n",
            "Requirement already satisfied: keras<2.9,>=2.8.0rc0 in /usr/local/lib/python3.7/dist-packages (from tensorflow<=2.10) (2.8.0)\n",
            "Requirement already satisfied: absl-py>=0.4.0 in /usr/local/lib/python3.7/dist-packages (from tensorflow<=2.10) (1.2.0)\n",
            "Requirement already satisfied: tensorflow-estimator<2.9,>=2.8 in /usr/local/lib/python3.7/dist-packages (from tensorflow<=2.10) (2.8.0)\n",
            "Requirement already satisfied: protobuf<3.20,>=3.9.2 in /usr/local/lib/python3.7/dist-packages (from tensorflow<=2.10) (3.17.3)\n",
            "Requirement already satisfied: wheel<1.0,>=0.23.0 in /usr/local/lib/python3.7/dist-packages (from astunparse>=1.6.0->tensorflow<=2.10) (0.37.1)\n",
            "Requirement already satisfied: cached-property in /usr/local/lib/python3.7/dist-packages (from h5py>=2.9.0->tensorflow<=2.10) (1.5.2)\n",
            "Requirement already satisfied: google-auth-oauthlib<0.5,>=0.4.1 in /usr/local/lib/python3.7/dist-packages (from tensorboard<2.9,>=2.8->tensorflow<=2.10) (0.4.6)\n",
            "Requirement already satisfied: requests<3,>=2.21.0 in /usr/local/lib/python3.7/dist-packages (from tensorboard<2.9,>=2.8->tensorflow<=2.10) (2.28.1)\n",
            "Requirement already satisfied: tensorboard-data-server<0.7.0,>=0.6.0 in /usr/local/lib/python3.7/dist-packages (from tensorboard<2.9,>=2.8->tensorflow<=2.10) (0.6.1)\n",
            "Requirement already satisfied: werkzeug>=0.11.15 in /usr/local/lib/python3.7/dist-packages (from tensorboard<2.9,>=2.8->tensorflow<=2.10) (1.0.1)\n",
            "Requirement already satisfied: markdown>=2.6.8 in /usr/local/lib/python3.7/dist-packages (from tensorboard<2.9,>=2.8->tensorflow<=2.10) (3.4.1)\n",
            "Requirement already satisfied: tensorboard-plugin-wit>=1.6.0 in /usr/local/lib/python3.7/dist-packages (from tensorboard<2.9,>=2.8->tensorflow<=2.10) (1.8.1)\n",
            "Requirement already satisfied: google-auth<3,>=1.6.3 in /usr/local/lib/python3.7/dist-packages (from tensorboard<2.9,>=2.8->tensorflow<=2.10) (1.35.0)\n",
            "Requirement already satisfied: rsa<5,>=3.1.4 in /usr/local/lib/python3.7/dist-packages (from google-auth<3,>=1.6.3->tensorboard<2.9,>=2.8->tensorflow<=2.10) (4.9)\n",
            "Requirement already satisfied: cachetools<5.0,>=2.0.0 in /usr/local/lib/python3.7/dist-packages (from google-auth<3,>=1.6.3->tensorboard<2.9,>=2.8->tensorflow<=2.10) (4.2.4)\n",
            "Requirement already satisfied: pyasn1-modules>=0.2.1 in /usr/local/lib/python3.7/dist-packages (from google-auth<3,>=1.6.3->tensorboard<2.9,>=2.8->tensorflow<=2.10) (0.2.8)\n",
            "Requirement already satisfied: requests-oauthlib>=0.7.0 in /usr/local/lib/python3.7/dist-packages (from google-auth-oauthlib<0.5,>=0.4.1->tensorboard<2.9,>=2.8->tensorflow<=2.10) (1.3.1)\n",
            "Requirement already satisfied: importlib-metadata>=4.4 in /usr/local/lib/python3.7/dist-packages (from markdown>=2.6.8->tensorboard<2.9,>=2.8->tensorflow<=2.10) (5.0.0)\n",
            "Requirement already satisfied: zipp>=0.5 in /usr/local/lib/python3.7/dist-packages (from importlib-metadata>=4.4->markdown>=2.6.8->tensorboard<2.9,>=2.8->tensorflow<=2.10) (3.8.1)\n",
            "Requirement already satisfied: pyasn1<0.5.0,>=0.4.6 in /usr/local/lib/python3.7/dist-packages (from pyasn1-modules>=0.2.1->google-auth<3,>=1.6.3->tensorboard<2.9,>=2.8->tensorflow<=2.10) (0.4.8)\n",
            "Requirement already satisfied: urllib3<1.27,>=1.21.1 in /usr/local/lib/python3.7/dist-packages (from requests<3,>=2.21.0->tensorboard<2.9,>=2.8->tensorflow<=2.10) (1.24.3)\n",
            "Requirement already satisfied: certifi>=2017.4.17 in /usr/local/lib/python3.7/dist-packages (from requests<3,>=2.21.0->tensorboard<2.9,>=2.8->tensorflow<=2.10) (2022.9.24)\n",
            "Requirement already satisfied: idna<4,>=2.5 in /usr/local/lib/python3.7/dist-packages (from requests<3,>=2.21.0->tensorboard<2.9,>=2.8->tensorflow<=2.10) (2.10)\n",
            "Requirement already satisfied: charset-normalizer<3,>=2 in /usr/local/lib/python3.7/dist-packages (from requests<3,>=2.21.0->tensorboard<2.9,>=2.8->tensorflow<=2.10) (2.1.1)\n",
            "Requirement already satisfied: oauthlib>=3.0.0 in /usr/local/lib/python3.7/dist-packages (from requests-oauthlib>=0.7.0->google-auth-oauthlib<0.5,>=0.4.1->tensorboard<2.9,>=2.8->tensorflow<=2.10) (3.2.1)\n"
          ]
        }
      ],
      "source": [
        "!pip install \"tensorflow<=2.10\""
      ]
    },
    {
      "cell_type": "markdown",
      "metadata": {
        "id": "wHvrcTYLz-dn"
      },
      "source": [
        "This is an optional step. Run it if you want to contribute to continuous improvement of `nebullvm` and share the performance achieved with it. You can find full details in the [docs](https://nebuly.gitbook.io/nebuly/nebullvm/how-nebullvm-works/fostering-continuous-improvement#sharing-feedback-to-improve-nebullvm)."
      ]
    },
    {
      "cell_type": "code",
      "execution_count": 2,
      "metadata": {
        "id": "UMjbl67gynsS"
      },
      "outputs": [],
      "source": [
        "json_feedback = {\n",
        "    \"allow_feedback_collection\": True\n",
        "}\n",
        "import json\n",
        "from pathlib import Path\n",
        "\n",
        "(Path.home() / \".nebullvm\").mkdir(exist_ok=True)\n",
        "with open(Path.home() / \".nebullvm/collect.json\", \"w\") as f:\n",
        "  json.dump(json_feedback, f)"
      ]
    },
    {
      "cell_type": "markdown",
      "metadata": {
        "id": "b0CLgQqxyrQi"
      },
      "source": [
        "Let's now import nebullvm. During the import we will install the deep learning compilers used by nebullvm that are not yet installed on the hardware.\n",
        "\n",
        "The installation of the compilers may take a few minutes."
      ]
    },
    {
      "cell_type": "code",
      "execution_count": null,
      "metadata": {
        "id": "GvK9mZSjeLU5"
      },
      "outputs": [],
      "source": [
        "import nebullvm"
      ]
    },
    {
      "cell_type": "markdown",
      "metadata": {
        "id": "N5RXHoZl0p3p"
      },
      "source": [
        "# Optimization example with Tensorflow"
      ]
    },
    {
      "cell_type": "markdown",
      "metadata": {
        "id": "-Ju-VcRH01Mw"
      },
      "source": [
        "In the following example we will try to optimize a standard resnet50 loaded directly from keras.\n",
        "\n",
        "Nebullvm can accelerate neural networks without loss of a user-defined precision metric, e.g. accuracy, or can achieve faster acceleration by applying more aggressive optimization techniques, such as pruning and quantization, that may have a negative impact on the selectic metric. The maximum threshold value for accuracy loss is determined by the metric_drop_ths parameter. Read more in the [docs](https://nebuly.gitbook.io/nebuly/nebullvm/get-started).\n",
        "\n",
        "Let first test the optimization without accuracy loss (metric_drop_ths=0, default value), and then apply further accelerate it under the constrained of losing up to 2% of accuracy (metric = \"accuracy\", metric_drop_ths = 0.02)."
      ]
    },
    {
      "cell_type": "markdown",
      "metadata": {
        "id": "skxEuemn171G"
      },
      "source": [
        "## Scenario 1 - No accuracy drop"
      ]
    },
    {
      "cell_type": "markdown",
      "metadata": {
        "id": "wVRLXrDi2VaG"
      },
      "source": [
        "First we load the model and optimize it using the nebullvm API:"
      ]
    },
    {
      "cell_type": "code",
      "execution_count": null,
      "metadata": {
        "colab": {
          "base_uri": "https://localhost:8080/"
        },
        "id": "2RbgGruAeQcf",
        "outputId": "9059699e-8177-4238-feec-7b6985338f7a"
      },
      "outputs": [],
      "source": [
        "import tensorflow as tf\n",
        "from tensorflow.keras.applications.resnet50 import ResNet50\n",
        "from nebullvm.api.functions import optimize_model\n",
        "\n",
        "# Load a resnet as example\n",
        "model = ResNet50()\n",
        "\n",
        "# Provide an input data for the model    \n",
        "input_data = [((tf.random.normal([1, 224, 224, 3]),), 0)]\n",
        "\n",
        "# Run nebullvm optimization\n",
        "optimized_model = optimize_model(\n",
        "  model, input_data=input_data, optimization_time=\"unconstrained\"\n",
        ")\n",
        "\n",
        "# Try the optimized model\n",
        "x = tf.random.normal([1, 224, 224, 3])\n",
        "res_original = model.predict(x)\n",
        "res_optimized = optimized_model.predict(x)[0]"
      ]
    },
    {
      "cell_type": "markdown",
      "metadata": {
        "id": "NGrk6_jwRubP"
      },
      "source": [
        "We can print the type of the optimized model to see which compiler was faster:"
      ]
    },
    {
      "cell_type": "code",
      "execution_count": 4,
      "metadata": {
        "colab": {
          "base_uri": "https://localhost:8080/"
        },
        "id": "cVMn6erJLQuu",
        "outputId": "74c2b018-9e5a-4436-86df-19f82a5aa1fe"
      },
      "outputs": [
        {
          "data": {
            "text/plain": [
              "TensorflowNvidiaInferenceLearner(network_parameters=ModelParams(batch_size=1, input_infos=[<nebullvm.base.InputInfo object at 0x7fa5ba06e990>], output_sizes=[(1, 1000)], dynamic_info=DynamicAxisInfo(inputs=[{}], outputs=[{0: 'batch_size'}])), input_tfms=<nebullvm.transformations.base.MultiStageTransformation object at 0x7fa58723f810>)"
            ]
          },
          "execution_count": 4,
          "metadata": {},
          "output_type": "execute_result"
        }
      ],
      "source": [
        "optimized_model"
      ]
    },
    {
      "cell_type": "markdown",
      "metadata": {
        "id": "aT0BhdIKR7gY"
      },
      "source": [
        "In our case, the optimized model type was TensorflowNvidiaInferenceLearner, so this means that Tensor RT was the faster compiler."
      ]
    },
    {
      "cell_type": "markdown",
      "metadata": {
        "id": "JMiuufyu2gD3"
      },
      "source": [
        "After the optimization step, we can compare the optimized model with the baseline one in order to verify that the output is the same and to measure the speed improvement"
      ]
    },
    {
      "cell_type": "markdown",
      "metadata": {
        "id": "Swpr-Wi5Si9a"
      },
      "source": [
        "First of all, let's print the results"
      ]
    },
    {
      "cell_type": "code",
      "execution_count": 5,
      "metadata": {
        "colab": {
          "base_uri": "https://localhost:8080/"
        },
        "id": "MjGtKkeZSOc7",
        "outputId": "03a683b7-d9cf-4551-bf2c-c3fc8fa7f552"
      },
      "outputs": [
        {
          "data": {
            "text/plain": [
              "array([[9.26722259e-06, 1.33789072e-04, 3.61283921e-04, 2.19809182e-04,\n",
              "        1.69060091e-04, 3.88379012e-05, 3.10233918e-05, 2.72357953e-04,\n",
              "        1.64093908e-05, 7.10838882e-04, 7.03686266e-04, 9.58472257e-04,\n",
              "        3.32407944e-04, 5.10656508e-04, 5.57371786e-05, 2.04775555e-04,\n",
              "        8.98001483e-04, 8.84678084e-05, 3.73550283e-04, 1.81539828e-04,\n",
              "        7.58755777e-04, 3.25233676e-02, 9.71166138e-03, 4.38538939e-03,\n",
              "        5.20195928e-04, 3.38206264e-05, 3.48448266e-05, 1.72038839e-04,\n",
              "        9.76080701e-05, 2.92182485e-05, 4.05534738e-05, 3.01719381e-04,\n",
              "        1.08031772e-05, 1.29137450e-04, 5.87158080e-04, 8.08788809e-06,\n",
              "        1.19281693e-04, 7.05352022e-06, 3.60567443e-04, 2.16077970e-05,\n",
              "        1.47103012e-04, 3.91198373e-05, 1.07235205e-03, 6.31312796e-05,\n",
              "        1.53019748e-04, 3.63935542e-05, 1.69833977e-04, 1.97041096e-04,\n",
              "        2.62060476e-05, 1.36958522e-04, 7.82130868e-04, 5.66586896e-05,\n",
              "        2.78079038e-04, 7.50912528e-04, 1.09943212e-03, 7.05848652e-05,\n",
              "        1.38875446e-04, 2.45147621e-05, 6.35394419e-04, 2.49553146e-03,\n",
              "        4.35753551e-04, 5.51012272e-05, 7.07843064e-05, 1.11193098e-04,\n",
              "        1.51362282e-03, 2.19282796e-04, 1.12209462e-04, 6.56311531e-05,\n",
              "        8.42051886e-05, 9.18774604e-05, 1.08219290e-04, 1.63383037e-03,\n",
              "        3.24302127e-05, 4.92448511e-04, 2.00627619e-05, 1.24450470e-03,\n",
              "        4.97175606e-05, 1.31001347e-03, 9.43726022e-03, 1.40744052e-03,\n",
              "        2.14440469e-03, 3.76698910e-03, 4.89797269e-04, 4.95376124e-04,\n",
              "        2.01042218e-04, 2.65904935e-04, 4.10492939e-04, 5.37108164e-04,\n",
              "        1.54065114e-04, 8.84203298e-04, 1.03358696e-04, 4.54771362e-04,\n",
              "        4.17176448e-03, 7.80672475e-04, 1.07540074e-03, 3.86819847e-05,\n",
              "        5.44034468e-04, 1.35931914e-04, 1.89119007e-03, 1.18994399e-03,\n",
              "        2.85621453e-03, 3.64214357e-05, 2.43866652e-05, 2.73208076e-04,\n",
              "        1.73450346e-04, 2.40540498e-06, 1.57396062e-05, 1.03773818e-04,\n",
              "        9.30707938e-06, 1.88489194e-05, 1.37864772e-04, 7.09789200e-03,\n",
              "        3.07039038e-04, 2.32978971e-04, 1.63615754e-04, 6.12958456e-06,\n",
              "        1.69927698e-05, 9.31047034e-05, 1.47070250e-05, 2.98743071e-05,\n",
              "        7.79995607e-05, 3.37447705e-06, 8.35953688e-06, 8.33285594e-06,\n",
              "        3.02640219e-05, 2.60289293e-04, 4.92616848e-04, 6.76735956e-03,\n",
              "        8.98173731e-03, 6.47680601e-03, 3.08474991e-04, 2.70970573e-04,\n",
              "        6.25457847e-03, 6.62259466e-04, 9.57292039e-04, 7.07489788e-04,\n",
              "        3.46217188e-04, 8.93883582e-04, 9.85011575e-04, 1.30233646e-03,\n",
              "        1.81172299e-03, 6.37315493e-03, 3.75430274e-04, 2.57241819e-03,\n",
              "        4.54040663e-03, 2.49165605e-04, 1.63742900e-02, 1.22495869e-03,\n",
              "        1.13110116e-03, 3.75065974e-05, 8.81487504e-05, 1.43998899e-04,\n",
              "        4.44868674e-05, 4.07810119e-04, 1.45178947e-05, 2.84715952e-05,\n",
              "        7.64545985e-05, 9.72274793e-05, 4.50717307e-05, 2.21480204e-05,\n",
              "        2.09988139e-05, 1.87935748e-05, 1.29777414e-04, 1.43000769e-04,\n",
              "        1.67623148e-05, 4.40353215e-05, 6.66561755e-05, 5.70614202e-06,\n",
              "        1.92157240e-05, 7.43660057e-05, 1.00477300e-04, 1.35106005e-04,\n",
              "        3.67840490e-04, 9.07394860e-05, 7.73163920e-05, 4.07885136e-06,\n",
              "        1.57681225e-05, 1.85548452e-05, 2.67235009e-04, 6.68014254e-05,\n",
              "        9.07328285e-06, 3.25906367e-05, 6.52347762e-06, 3.65642481e-05,\n",
              "        6.04883498e-05, 2.46457173e-04, 1.25220249e-05, 9.10588133e-05,\n",
              "        9.42606948e-06, 1.13512015e-05, 8.23813243e-05, 4.92038889e-05,\n",
              "        2.73351156e-06, 2.62756548e-05, 2.97904216e-06, 6.91554043e-04,\n",
              "        1.69562973e-05, 1.72404839e-06, 1.23770824e-05, 1.14797385e-05,\n",
              "        5.46930969e-05, 7.80650043e-06, 2.38272896e-05, 1.94746797e-04,\n",
              "        1.51176471e-04, 7.09915412e-06, 4.07504376e-05, 1.64346075e-05,\n",
              "        2.99996136e-05, 1.50464068e-04, 9.28362260e-06, 5.48251664e-05,\n",
              "        6.13100783e-05, 2.72471316e-05, 1.12665830e-05, 5.64778566e-05,\n",
              "        2.72766538e-05, 6.44625688e-05, 7.66478752e-06, 1.03631792e-05,\n",
              "        6.37613630e-06, 2.05494998e-05, 5.65676892e-05, 1.52984823e-04,\n",
              "        3.34387987e-05, 3.71181668e-05, 2.27169130e-06, 3.75732052e-05,\n",
              "        1.86055222e-05, 5.58186439e-05, 1.10220190e-05, 1.71042211e-05,\n",
              "        1.74975838e-04, 1.73395929e-05, 2.33346418e-05, 3.25825713e-05,\n",
              "        6.04652196e-05, 5.20768263e-05, 1.52198045e-04, 6.65241532e-05,\n",
              "        1.97312347e-05, 5.91339813e-05, 4.23673264e-05, 5.00132592e-05,\n",
              "        2.75142452e-06, 1.92938038e-04, 1.58076436e-05, 1.73036951e-05,\n",
              "        7.98448164e-05, 7.14572016e-05, 2.11196166e-04, 2.53036793e-04,\n",
              "        8.20447258e-06, 5.80287888e-05, 1.34325906e-04, 2.62777962e-06,\n",
              "        3.32142554e-05, 9.20946695e-05, 2.48777884e-04, 3.58851830e-05,\n",
              "        1.92417374e-05, 2.08441325e-05, 8.57488776e-05, 5.42913913e-05,\n",
              "        8.97208374e-05, 8.80090665e-05, 3.42977546e-05, 1.73009394e-05,\n",
              "        6.55679651e-06, 1.62920678e-05, 2.51511345e-04, 8.23259506e-06,\n",
              "        3.04739428e-04, 1.53255329e-04, 2.60335601e-05, 1.34447007e-04,\n",
              "        2.80464301e-04, 1.97526504e-04, 1.04894780e-05, 1.11264962e-04,\n",
              "        9.30687092e-05, 5.11184189e-05, 1.11907939e-04, 1.26684463e-04,\n",
              "        7.10003151e-05, 2.81235552e-04, 2.66779589e-05, 2.06510995e-05,\n",
              "        5.13144041e-05, 4.03361046e-05, 1.20031700e-05, 8.21865906e-05,\n",
              "        2.12636205e-05, 2.22901086e-04, 4.36497612e-05, 1.64711964e-05,\n",
              "        9.21996398e-05, 2.30212408e-05, 1.40050368e-04, 3.62439605e-04,\n",
              "        4.63243850e-05, 3.56196705e-03, 1.59103845e-04, 3.39782448e-04,\n",
              "        1.97921763e-04, 5.14668245e-05, 7.11108034e-04, 6.91821857e-04,\n",
              "        4.13525989e-03, 6.18376580e-05, 1.91739434e-03, 2.80091423e-04,\n",
              "        8.01585440e-04, 3.58129619e-04, 1.04137452e-03, 9.06873262e-04,\n",
              "        2.71883036e-04, 1.31482244e-04, 5.53802762e-04, 7.27415609e-04,\n",
              "        4.89491154e-04, 2.60682791e-05, 1.52598022e-05, 7.20713724e-05,\n",
              "        9.05929701e-05, 4.83099793e-05, 2.74740509e-04, 2.77501618e-04,\n",
              "        7.92272258e-05, 9.17657690e-06, 4.57153801e-05, 1.44156700e-04,\n",
              "        1.16612855e-05, 2.34623330e-05, 6.97381165e-06, 1.47169167e-05,\n",
              "        1.13681606e-04, 1.25445194e-05, 1.38469313e-05, 1.49489169e-05,\n",
              "        6.71643866e-05, 3.49551419e-06, 6.12312851e-06, 1.01683218e-05,\n",
              "        7.84803779e-05, 5.82920875e-05, 1.24382714e-04, 4.38487186e-05,\n",
              "        1.31179782e-04, 7.85313314e-05, 7.45993573e-04, 1.75974899e-04,\n",
              "        1.13360569e-04, 1.05762418e-04, 1.09338539e-03, 1.46437242e-05,\n",
              "        5.46923955e-04, 1.87757047e-04, 1.12415371e-04, 8.44679453e-05,\n",
              "        1.19288401e-04, 7.19325690e-05, 2.58876862e-05, 3.21354273e-05,\n",
              "        5.40698238e-05, 2.79185351e-05, 1.12073540e-05, 9.93515132e-05,\n",
              "        1.02945232e-05, 9.99201984e-06, 1.52932080e-05, 4.12450245e-05,\n",
              "        3.46678935e-05, 7.72540807e-05, 2.85001996e-04, 1.47971505e-05,\n",
              "        7.43061682e-05, 4.79021146e-05, 2.47826301e-05, 4.38111783e-06,\n",
              "        8.39903296e-05, 2.43768627e-05, 4.52692148e-05, 4.84337761e-05,\n",
              "        7.06744249e-05, 8.16722022e-05, 5.53778700e-05, 6.98177064e-06,\n",
              "        5.09926986e-06, 6.47327688e-05, 4.10676766e-05, 1.80484567e-05,\n",
              "        2.28259396e-05, 1.10030314e-05, 7.27317774e-06, 5.90143500e-05,\n",
              "        3.03690631e-05, 1.41825629e-04, 6.23458764e-05, 5.02146827e-03,\n",
              "        6.37270787e-05, 3.08082177e-04, 1.02494517e-03, 5.13510488e-04,\n",
              "        2.21661408e-03, 1.72542371e-02, 1.96976944e-05, 4.11843175e-05,\n",
              "        2.62204976e-05, 8.91519361e-04, 8.62765228e-06, 3.20930740e-05,\n",
              "        7.71315827e-05, 3.37625737e-04, 1.40237564e-04, 3.24800772e-06,\n",
              "        2.34688589e-04, 7.20439292e-03, 3.68129164e-02, 9.09557508e-04,\n",
              "        8.03539806e-05, 4.16057126e-04, 1.15800194e-05, 3.50074697e-05,\n",
              "        2.58178898e-05, 4.28964471e-04, 2.79067579e-04, 4.18689160e-05,\n",
              "        6.64667896e-05, 1.96099235e-03, 2.75870116e-05, 1.13368451e-05,\n",
              "        2.37127789e-03, 2.81093700e-04, 1.05600702e-04, 6.72388633e-05,\n",
              "        5.42393245e-05, 4.49987547e-03, 2.30975405e-04, 3.55058110e-05,\n",
              "        1.31515367e-03, 4.88939055e-04, 1.23878685e-03, 1.50074833e-04,\n",
              "        4.22076446e-05, 1.70395229e-04, 1.24670460e-03, 4.41931770e-04,\n",
              "        8.37083790e-04, 1.73895198e-04, 9.11845927e-06, 3.12632212e-04,\n",
              "        5.56191153e-05, 1.54866109e-04, 3.90363175e-06, 2.52995128e-03,\n",
              "        2.13699735e-04, 1.56375312e-03, 1.62085234e-05, 1.93241212e-04,\n",
              "        6.33249641e-04, 1.12951842e-04, 3.71460948e-04, 1.56564740e-04,\n",
              "        2.83693458e-04, 1.65267571e-04, 1.44861973e-04, 1.13213191e-05,\n",
              "        4.57729438e-05, 1.22752434e-04, 2.24595540e-03, 1.35836075e-04,\n",
              "        2.46347539e-04, 1.03785726e-03, 1.26106781e-04, 1.01032063e-04,\n",
              "        1.70899384e-05, 1.09909297e-05, 2.54066050e-04, 1.61935357e-04,\n",
              "        3.47487876e-05, 4.42684512e-04, 2.11798324e-05, 3.80747406e-05,\n",
              "        2.47379136e-03, 4.20791737e-04, 2.60670873e-04, 1.48223829e-03,\n",
              "        7.41441827e-03, 6.94510381e-05, 2.83880472e-05, 9.31549366e-05,\n",
              "        4.99736634e-04, 1.51697459e-04, 1.40521326e-03, 3.62583305e-05,\n",
              "        7.65392178e-05, 3.09955765e-04, 6.90592424e-05, 2.28810031e-03,\n",
              "        4.52967688e-05, 9.96051007e-04, 1.09017106e-04, 4.32658417e-04,\n",
              "        6.06284826e-04, 5.18253655e-04, 4.04517283e-04, 1.85875490e-03,\n",
              "        1.48267500e-04, 6.46943408e-06, 2.96534109e-03, 3.23115346e-05,\n",
              "        7.22747156e-03, 3.90478643e-04, 1.14781571e-04, 1.76043570e-04,\n",
              "        9.40826503e-05, 7.51119200e-03, 3.83369879e-05, 9.22526742e-05,\n",
              "        3.89247958e-04, 1.16966206e-04, 9.03728869e-05, 8.08428042e-04,\n",
              "        4.44830675e-06, 2.85655624e-05, 4.89016675e-05, 4.47801867e-05,\n",
              "        7.72959029e-05, 1.47826227e-04, 3.21706175e-03, 3.08132893e-03,\n",
              "        3.24431639e-05, 1.08176369e-04, 5.66021213e-03, 1.23242216e-05,\n",
              "        6.48691857e-05, 2.10425875e-04, 6.19757688e-03, 6.74584880e-05,\n",
              "        3.49234231e-03, 1.29239168e-04, 9.84856626e-04, 4.02711274e-04,\n",
              "        1.28667916e-05, 2.01600231e-03, 3.15584330e-04, 1.11069212e-05,\n",
              "        7.79766833e-06, 4.82878881e-03, 4.12386580e-05, 3.17345024e-04,\n",
              "        1.16191019e-04, 1.40231408e-04, 3.62350984e-04, 2.96964026e-05,\n",
              "        4.45149606e-04, 1.20153343e-02, 9.46767512e-04, 6.77757256e-04,\n",
              "        8.24219896e-05, 1.23978525e-05, 2.83846923e-04, 2.22927937e-03,\n",
              "        1.11436202e-05, 2.27748205e-05, 6.09691015e-05, 3.75510688e-04,\n",
              "        1.53983681e-04, 9.32259791e-05, 4.90979291e-04, 7.03191381e-06,\n",
              "        3.42366431e-04, 2.72089601e-05, 4.14270302e-03, 3.16756777e-05,\n",
              "        7.93237414e-04, 7.53842905e-05, 3.96577263e-04, 2.21828275e-04,\n",
              "        1.11362628e-04, 2.34483305e-05, 1.12603957e-05, 1.33597630e-03,\n",
              "        9.31875897e-04, 1.27951300e-03, 3.80095071e-06, 1.39649131e-03,\n",
              "        7.14464986e-05, 1.36507995e-04, 2.19588110e-05, 1.23875405e-04,\n",
              "        1.84068951e-04, 1.27158628e-03, 5.59784385e-05, 4.93289117e-05,\n",
              "        5.33546438e-04, 4.77040048e-05, 1.12371061e-04, 1.40866003e-04,\n",
              "        1.26539590e-02, 9.84832222e-05, 3.97837954e-04, 2.25155400e-05,\n",
              "        1.45471124e-02, 1.83963054e-03, 7.74531101e-04, 6.71696849e-04,\n",
              "        2.98489496e-04, 1.50264808e-04, 3.18379170e-04, 5.63909416e-04,\n",
              "        8.87954684e-06, 1.01470493e-03, 1.01292200e-04, 1.68619867e-04,\n",
              "        3.30714323e-03, 7.15255082e-05, 9.45715234e-04, 1.31995352e-02,\n",
              "        5.60941116e-05, 3.99933233e-05, 5.98459411e-03, 4.68102051e-03,\n",
              "        7.57055022e-06, 5.88717987e-04, 9.68151540e-03, 6.39876380e-05,\n",
              "        2.79097306e-03, 1.78080262e-03, 2.70879245e-04, 1.43100671e-03,\n",
              "        7.42012344e-04, 6.17118611e-04, 2.59651620e-06, 5.46025170e-04,\n",
              "        6.55502736e-05, 1.26338680e-04, 1.01239566e-04, 2.98201521e-05,\n",
              "        6.38799611e-05, 4.57441900e-04, 1.29736567e-04, 5.99039777e-04,\n",
              "        4.06129993e-02, 1.19690543e-04, 1.37480398e-04, 5.94390185e-05,\n",
              "        1.58964845e-04, 2.30254678e-04, 4.89486940e-03, 5.09010861e-05,\n",
              "        1.13467104e-04, 6.13012235e-05, 5.03037081e-05, 2.27185265e-05,\n",
              "        2.37003442e-05, 1.35746831e-03, 5.78962572e-05, 1.11199719e-04,\n",
              "        1.80474060e-04, 5.56957048e-06, 8.45152128e-04, 8.03486109e-05,\n",
              "        8.87598319e-04, 2.98506257e-05, 3.96448915e-04, 8.78371720e-05,\n",
              "        3.76364856e-04, 4.01699981e-05, 5.05604694e-05, 4.46121157e-05,\n",
              "        4.49277199e-04, 1.64013205e-03, 1.95066945e-03, 6.53808274e-06,\n",
              "        3.74693263e-05, 1.95059720e-02, 8.52597514e-05, 5.85588685e-04,\n",
              "        2.74950842e-04, 7.70512619e-04, 2.01107655e-03, 3.68548324e-03,\n",
              "        2.17680194e-04, 1.07321284e-04, 1.77060952e-04, 2.00149279e-05,\n",
              "        3.45496992e-05, 1.24962453e-05, 9.11883217e-06, 7.35380090e-05,\n",
              "        5.92506141e-04, 7.99571339e-04, 9.19335143e-05, 6.39785139e-04,\n",
              "        7.50981318e-03, 2.05100769e-05, 5.13056220e-05, 1.71203865e-04,\n",
              "        2.91596254e-04, 2.24069934e-02, 6.41198858e-05, 2.06152385e-04,\n",
              "        2.93622026e-04, 1.36186100e-05, 7.80612118e-06, 4.27779742e-05,\n",
              "        4.35237074e-04, 2.15665495e-04, 2.03815103e-03, 7.86457118e-03,\n",
              "        6.73206087e-05, 6.53268871e-05, 1.41786679e-03, 1.94664171e-05,\n",
              "        1.52861443e-03, 1.64770572e-05, 5.79991902e-04, 1.28347916e-03,\n",
              "        6.16177777e-03, 1.39848707e-05, 1.46946928e-03, 1.04665698e-03,\n",
              "        2.16084789e-03, 1.85607583e-04, 2.98766154e-05, 2.19119102e-04,\n",
              "        2.89740652e-04, 5.58449210e-05, 9.70838228e-05, 9.87763051e-04,\n",
              "        1.18712451e-04, 4.47307108e-03, 7.50821846e-06, 9.22854961e-05,\n",
              "        1.33697496e-04, 1.52707321e-03, 1.16007550e-05, 1.76171707e-05,\n",
              "        2.84794980e-04, 3.84240993e-05, 1.80789910e-04, 8.28795528e-05,\n",
              "        5.59306587e-04, 7.44583376e-04, 2.19147114e-04, 5.61389374e-04,\n",
              "        1.03820545e-04, 3.21444497e-03, 2.96337123e-04, 8.78229694e-05,\n",
              "        4.86797362e-04, 1.11640466e-03, 5.96789701e-04, 8.57701118e-04,\n",
              "        3.18043385e-05, 4.10784833e-06, 9.50021727e-04, 4.81490715e-04,\n",
              "        3.02426843e-03, 3.38671310e-03, 6.05097193e-06, 9.87383071e-04,\n",
              "        7.22464873e-04, 2.03076124e-04, 1.09063849e-05, 6.09611534e-03,\n",
              "        2.99952371e-04, 9.84453689e-03, 2.98011757e-04, 1.70670552e-04,\n",
              "        1.70362159e-03, 2.18549999e-03, 1.84082382e-04, 1.27931089e-05,\n",
              "        1.17353618e-03, 1.41219149e-04, 7.17347502e-05, 1.12791931e-04,\n",
              "        3.47228022e-03, 9.57786542e-05, 2.01428804e-04, 5.61080277e-02,\n",
              "        1.64883286e-02, 8.19962661e-05, 6.77238422e-05, 2.52355276e-05,\n",
              "        1.09356934e-05, 3.72827111e-04, 2.68203057e-05, 1.65535021e-04,\n",
              "        1.08945962e-04, 5.22935188e-05, 1.30165077e-04, 8.84447887e-04,\n",
              "        1.29119057e-04, 2.99741459e-05, 2.62907444e-04, 3.21970001e-04,\n",
              "        1.56482165e-05, 6.23009109e-05, 2.94604746e-04, 5.77194260e-05,\n",
              "        2.71039689e-03, 6.23677915e-04, 7.28460378e-04, 6.58967256e-05,\n",
              "        2.78034480e-04, 7.12317124e-05, 4.73021319e-05, 2.24852309e-04,\n",
              "        4.57712226e-02, 1.24882848e-03, 1.51818211e-03, 1.38061529e-04,\n",
              "        5.88178664e-05, 6.84085671e-06, 1.77876651e-02, 4.32777480e-04,\n",
              "        8.52532412e-06, 1.93272368e-04, 1.89477123e-05, 2.54547573e-04,\n",
              "        1.00574898e-05, 9.59728914e-06, 4.88571823e-03, 6.03725675e-05,\n",
              "        4.32979577e-04, 2.09040445e-05, 2.55345167e-05, 3.79744597e-04,\n",
              "        8.73515790e-04, 5.16019529e-04, 5.67357230e-04, 3.15442885e-05,\n",
              "        2.67673866e-03, 8.17457621e-04, 2.67345778e-04, 2.61094945e-04,\n",
              "        1.52901586e-04, 8.74123652e-05, 1.30155138e-04, 9.59355675e-05,\n",
              "        6.02235179e-03, 1.42310942e-02, 6.69096923e-03, 2.08425445e-05,\n",
              "        9.23971602e-05, 2.79988337e-04, 2.66452233e-04, 8.75300320e-04,\n",
              "        6.89554960e-03, 1.32801924e-05, 2.07775680e-04, 2.14723172e-03,\n",
              "        5.38257518e-06, 2.51785914e-05, 3.69845860e-04, 4.50071268e-04,\n",
              "        1.71888278e-05, 1.28670537e-03, 4.48782649e-03, 9.33265139e-04,\n",
              "        2.16133612e-05, 5.66397239e-06, 3.44088658e-05, 1.44669393e-04,\n",
              "        2.52829577e-05, 3.10345320e-04, 7.05014900e-05, 3.68208654e-04,\n",
              "        2.19499832e-03, 1.94350869e-04, 1.13563385e-06, 3.13253404e-04,\n",
              "        8.09092089e-05, 5.13905616e-05, 1.56039732e-05, 1.29809568e-03,\n",
              "        4.06055799e-04, 4.69910628e-05, 2.25214346e-04, 9.76097013e-04,\n",
              "        4.96196226e-05, 2.61079374e-04, 2.44197345e-05, 3.11025578e-05,\n",
              "        9.99132972e-05, 2.00625538e-04, 8.11890932e-05, 1.21782241e-05,\n",
              "        1.21823372e-02, 5.84299210e-04, 1.05392093e-04, 4.50774655e-03,\n",
              "        2.87893170e-04, 3.10198229e-04, 5.84134739e-03, 1.06867077e-03,\n",
              "        2.51594745e-03, 1.00375160e-04, 3.64024448e-03, 1.25846374e-04,\n",
              "        9.57544471e-05, 9.62499937e-04, 5.43750211e-05, 1.13339245e-03,\n",
              "        1.39338914e-02, 4.08713022e-05, 2.89331714e-04, 7.35567664e-05,\n",
              "        2.06883360e-05, 1.62679353e-03, 1.05361032e-04, 9.43404229e-05,\n",
              "        8.49385688e-04, 2.03380878e-05, 1.20147939e-04, 1.08346622e-03,\n",
              "        2.72606034e-03, 3.06800328e-04, 7.34124042e-05, 4.00687786e-05,\n",
              "        3.36514604e-05, 4.95203058e-05, 3.95962252e-06, 2.74190552e-05,\n",
              "        2.39217679e-05, 1.34193702e-04, 4.98102199e-05, 3.23983149e-05,\n",
              "        1.29295629e-04, 1.39426829e-05, 2.95588579e-05, 9.75359490e-06,\n",
              "        2.05885444e-05, 4.94153610e-05, 5.90495911e-05, 5.26704707e-06,\n",
              "        1.27705580e-05, 5.16676437e-06, 8.72939854e-05, 6.41908628e-05,\n",
              "        2.26104312e-05, 4.95119661e-04, 1.94415377e-04, 2.62135836e-05,\n",
              "        1.02362456e-03, 2.01246978e-04, 2.77726888e-03, 1.60438148e-03,\n",
              "        3.05307680e-04, 1.22714453e-04, 7.29029183e-04, 3.80206029e-06,\n",
              "        8.00911803e-05, 3.32043914e-04, 4.00643854e-04, 4.55600020e-05,\n",
              "        3.49565125e-05, 9.35276403e-05, 1.47980954e-05, 1.99369188e-05,\n",
              "        9.05067554e-06, 6.72206224e-05, 1.14477670e-03, 3.67927511e-04,\n",
              "        1.37648860e-03, 2.48849334e-04, 9.94958755e-05, 2.68369424e-03,\n",
              "        8.71517841e-05, 3.14983095e-06, 2.01525647e-04, 2.07086181e-04,\n",
              "        4.63589240e-04, 1.13753031e-03, 8.58180225e-04, 8.51459845e-06,\n",
              "        4.17584175e-04, 1.76985835e-04, 1.13217411e-05, 2.98697472e-04,\n",
              "        5.22105256e-04, 6.47359760e-04, 1.53943365e-05, 8.95865523e-05,\n",
              "        3.60910781e-04, 2.99485167e-04, 2.22720919e-04, 1.14305349e-05,\n",
              "        1.04499986e-05, 5.40163774e-06, 1.90762621e-05, 5.26490749e-06,\n",
              "        1.94718200e-06, 4.59548119e-06, 6.30366776e-05, 3.28697078e-03]],\n",
              "      dtype=float32)"
            ]
          },
          "execution_count": 5,
          "metadata": {},
          "output_type": "execute_result"
        }
      ],
      "source": [
        "res_original"
      ]
    },
    {
      "cell_type": "code",
      "execution_count": 6,
      "metadata": {
        "colab": {
          "base_uri": "https://localhost:8080/"
        },
        "id": "dhe94Tk3SSfn",
        "outputId": "b6044c5f-4281-47aa-b823-59d6f72c3fc9"
      },
      "outputs": [
        {
          "data": {
            "text/plain": [
              "<tf.Tensor: shape=(1, 1, 1000), dtype=float32, numpy=\n",
              "array([[[9.26720168e-06, 1.33789057e-04, 3.61284357e-04, 2.19808135e-04,\n",
              "         1.69059844e-04, 3.88377994e-05, 3.10234464e-05, 2.72358797e-04,\n",
              "         1.64094654e-05, 7.10843888e-04, 7.03686790e-04, 9.58473480e-04,\n",
              "         3.32408410e-04, 5.10658370e-04, 5.57374660e-05, 2.04776356e-04,\n",
              "         8.98006954e-04, 8.84681358e-05, 3.73554329e-04, 1.81540148e-04,\n",
              "         7.58757524e-04, 3.25235650e-02, 9.71172377e-03, 4.38542012e-03,\n",
              "         5.20196103e-04, 3.38206228e-05, 3.48447320e-05, 1.72038242e-04,\n",
              "         9.76080992e-05, 2.92181467e-05, 4.05533829e-05, 3.01717984e-04,\n",
              "         1.08031309e-05, 1.29136475e-04, 5.87156625e-04, 8.08787445e-06,\n",
              "         1.19281547e-04, 7.05349703e-06, 3.60564300e-04, 2.16077460e-05,\n",
              "         1.47102619e-04, 3.91195827e-05, 1.07234856e-03, 6.31309886e-05,\n",
              "         1.53019573e-04, 3.63933614e-05, 1.69833744e-04, 1.97040586e-04,\n",
              "         2.62059366e-05, 1.36957096e-04, 7.82121671e-04, 5.66582494e-05,\n",
              "         2.78079126e-04, 7.50912470e-04, 1.09942770e-03, 7.05849161e-05,\n",
              "         1.38875243e-04, 2.45147949e-05, 6.35391800e-04, 2.49552145e-03,\n",
              "         4.35753231e-04, 5.51012890e-05, 7.07840154e-05, 1.11193644e-04,\n",
              "         1.51361688e-03, 2.19282432e-04, 1.12208771e-04, 6.56308766e-05,\n",
              "         8.42049631e-05, 9.18771620e-05, 1.08219203e-04, 1.63383083e-03,\n",
              "         3.24300563e-05, 4.92446823e-04, 2.00628328e-05, 1.24450075e-03,\n",
              "         4.97174515e-05, 1.31000753e-03, 9.43729281e-03, 1.40743400e-03,\n",
              "         2.14441284e-03, 3.76698934e-03, 4.89798782e-04, 4.95375134e-04,\n",
              "         2.01043076e-04, 2.65906565e-04, 4.10494016e-04, 5.37106360e-04,\n",
              "         1.54065201e-04, 8.84206034e-04, 1.03358987e-04, 4.54772817e-04,\n",
              "         4.17177239e-03, 7.80672999e-04, 1.07540342e-03, 3.86819956e-05,\n",
              "         5.44034818e-04, 1.35931143e-04, 1.89118320e-03, 1.18994818e-03,\n",
              "         2.85621360e-03, 3.64213738e-05, 2.43865597e-05, 2.73205660e-04,\n",
              "         1.73449502e-04, 2.40540135e-06, 1.57396134e-05, 1.03774466e-04,\n",
              "         9.30711121e-06, 1.88488884e-05, 1.37864248e-04, 7.09786173e-03,\n",
              "         3.07039474e-04, 2.32979743e-04, 1.63616336e-04, 6.12958638e-06,\n",
              "         1.69927625e-05, 9.31045288e-05, 1.47069559e-05, 2.98742088e-05,\n",
              "         7.79993497e-05, 3.37446522e-06, 8.35950050e-06, 8.33282502e-06,\n",
              "         3.02640892e-05, 2.60289147e-04, 4.92614461e-04, 6.76740007e-03,\n",
              "         8.98176897e-03, 6.47681532e-03, 3.08476156e-04, 2.70970660e-04,\n",
              "         6.25457615e-03, 6.62259699e-04, 9.57297976e-04, 7.07492989e-04,\n",
              "         3.46215646e-04, 8.93879624e-04, 9.85014020e-04, 1.30233774e-03,\n",
              "         1.81171752e-03, 6.37316145e-03, 3.75428441e-04, 2.57242098e-03,\n",
              "         4.54043783e-03, 2.49164936e-04, 1.63743570e-02, 1.22495636e-03,\n",
              "         1.13109581e-03, 3.75063319e-05, 8.81484157e-05, 1.43998754e-04,\n",
              "         4.44869620e-05, 4.07810207e-04, 1.45179247e-05, 2.84716389e-05,\n",
              "         7.64542201e-05, 9.72272537e-05, 4.50715052e-05, 2.21479495e-05,\n",
              "         2.09987447e-05, 1.87935602e-05, 1.29777356e-04, 1.43000565e-04,\n",
              "         1.67623693e-05, 4.40351578e-05, 6.66559063e-05, 5.70609564e-06,\n",
              "         1.92156767e-05, 7.43657947e-05, 1.00477286e-04, 1.35105904e-04,\n",
              "         3.67839035e-04, 9.07393623e-05, 7.73162901e-05, 4.07884681e-06,\n",
              "         1.57681261e-05, 1.85548124e-05, 2.67235009e-04, 6.68011126e-05,\n",
              "         9.07328285e-06, 3.25906331e-05, 6.52347217e-06, 3.65642300e-05,\n",
              "         6.04882953e-05, 2.46456504e-04, 1.25220495e-05, 9.10589079e-05,\n",
              "         9.42602037e-06, 1.13511442e-05, 8.23811715e-05, 4.92037798e-05,\n",
              "         2.73351498e-06, 2.62756166e-05, 2.97902830e-06, 6.91556255e-04,\n",
              "         1.69562063e-05, 1.72405294e-06, 1.23771106e-05, 1.14797413e-05,\n",
              "         5.46932497e-05, 7.80650134e-06, 2.38272314e-05, 1.94746783e-04,\n",
              "         1.51176559e-04, 7.09913638e-06, 4.07503285e-05, 1.64346075e-05,\n",
              "         2.99995736e-05, 1.50463908e-04, 9.28355257e-06, 5.48251155e-05,\n",
              "         6.13098018e-05, 2.72470916e-05, 1.12665430e-05, 5.64778275e-05,\n",
              "         2.72764864e-05, 6.44624743e-05, 7.66478297e-06, 1.03631555e-05,\n",
              "         6.37612175e-06, 2.05495180e-05, 5.65676128e-05, 1.52984983e-04,\n",
              "         3.34388424e-05, 3.71180395e-05, 2.27168789e-06, 3.75731361e-05,\n",
              "         1.86054640e-05, 5.58188403e-05, 1.10220344e-05, 1.71042993e-05,\n",
              "         1.74976420e-04, 1.73395511e-05, 2.33346254e-05, 3.25826841e-05,\n",
              "         6.04651141e-05, 5.20766371e-05, 1.52198714e-04, 6.65242405e-05,\n",
              "         1.97313148e-05, 5.91342359e-05, 4.23673409e-05, 5.00130627e-05,\n",
              "         2.75142793e-06, 1.92937237e-04, 1.58076073e-05, 1.73037024e-05,\n",
              "         7.98446272e-05, 7.14572379e-05, 2.11196471e-04, 2.53035687e-04,\n",
              "         8.20444529e-06, 5.80287997e-05, 1.34325717e-04, 2.62777530e-06,\n",
              "         3.32141353e-05, 9.20945386e-05, 2.48777040e-04, 3.58852885e-05,\n",
              "         1.92417610e-05, 2.08441015e-05, 8.57489867e-05, 5.42913585e-05,\n",
              "         8.97210411e-05, 8.80088555e-05, 3.42978783e-05, 1.73009903e-05,\n",
              "         6.55677877e-06, 1.62920860e-05, 2.51510734e-04, 8.23259234e-06,\n",
              "         3.04739078e-04, 1.53255125e-04, 2.60334837e-05, 1.34446542e-04,\n",
              "         2.80464272e-04, 1.97525849e-04, 1.04894252e-05, 1.11264591e-04,\n",
              "         9.30686510e-05, 5.11184080e-05, 1.11907146e-04, 1.26684419e-04,\n",
              "         7.09998567e-05, 2.81234999e-04, 2.66778588e-05, 2.06510776e-05,\n",
              "         5.13144296e-05, 4.03358936e-05, 1.20030909e-05, 8.21866124e-05,\n",
              "         2.12635423e-05, 2.22900722e-04, 4.36496775e-05, 1.64711073e-05,\n",
              "         9.21989413e-05, 2.30211226e-05, 1.40049815e-04, 3.62438499e-04,\n",
              "         4.63243050e-05, 3.56197031e-03, 1.59103321e-04, 3.39780439e-04,\n",
              "         1.97921996e-04, 5.14668282e-05, 7.11108267e-04, 6.91823487e-04,\n",
              "         4.13526502e-03, 6.18378690e-05, 1.91740703e-03, 2.80090928e-04,\n",
              "         8.01585207e-04, 3.58128687e-04, 1.04136893e-03, 9.06875182e-04,\n",
              "         2.71883764e-04, 1.31482157e-04, 5.53802412e-04, 7.27411883e-04,\n",
              "         4.89489699e-04, 2.60682682e-05, 1.52597750e-05, 7.20715179e-05,\n",
              "         9.05932393e-05, 4.83100957e-05, 2.74740014e-04, 2.77501618e-04,\n",
              "         7.92270730e-05, 9.17656052e-06, 4.57154092e-05, 1.44156380e-04,\n",
              "         1.16612755e-05, 2.34625404e-05, 6.97378618e-06, 1.47169048e-05,\n",
              "         1.13681286e-04, 1.25444440e-05, 1.38469613e-05, 1.49489188e-05,\n",
              "         6.71641028e-05, 3.49550123e-06, 6.12310669e-06, 1.01682936e-05,\n",
              "         7.84795629e-05, 5.82920038e-05, 1.24382466e-04, 4.38487041e-05,\n",
              "         1.31180044e-04, 7.85316151e-05, 7.45994388e-04, 1.75974797e-04,\n",
              "         1.13360402e-04, 1.05761639e-04, 1.09338050e-03, 1.46436769e-05,\n",
              "         5.46920171e-04, 1.87755795e-04, 1.12414935e-04, 8.44679817e-05,\n",
              "         1.19287615e-04, 7.19324889e-05, 2.58875480e-05, 3.21353109e-05,\n",
              "         5.40700566e-05, 2.79184624e-05, 1.12073349e-05, 9.93510621e-05,\n",
              "         1.02945569e-05, 9.99201166e-06, 1.52931807e-05, 4.12447807e-05,\n",
              "         3.46677116e-05, 7.72538624e-05, 2.85000977e-04, 1.47971286e-05,\n",
              "         7.43061391e-05, 4.79018854e-05, 2.47825792e-05, 4.38110692e-06,\n",
              "         8.39901477e-05, 2.43768409e-05, 4.52692038e-05, 4.84336488e-05,\n",
              "         7.06744686e-05, 8.16718893e-05, 5.53778118e-05, 6.98175154e-06,\n",
              "         5.09925258e-06, 6.47325141e-05, 4.10676148e-05, 1.80484440e-05,\n",
              "         2.28258141e-05, 1.10030351e-05, 7.27316592e-06, 5.90140771e-05,\n",
              "         3.03690376e-05, 1.41825236e-04, 6.23457599e-05, 5.02145290e-03,\n",
              "         6.37270423e-05, 3.08082643e-04, 1.02494389e-03, 5.13508858e-04,\n",
              "         2.21661315e-03, 1.72542669e-02, 1.96976271e-05, 4.11842448e-05,\n",
              "         2.62204230e-05, 8.91523552e-04, 8.62761226e-06, 3.20928739e-05,\n",
              "         7.71311461e-05, 3.37623205e-04, 1.40236487e-04, 3.24800908e-06,\n",
              "         2.34687221e-04, 7.20444275e-03, 3.68128568e-02, 9.09561175e-04,\n",
              "         8.03536241e-05, 4.16058290e-04, 1.15800267e-05, 3.50073860e-05,\n",
              "         2.58178570e-05, 4.28964937e-04, 2.79066327e-04, 4.18686250e-05,\n",
              "         6.64666659e-05, 1.96099421e-03, 2.75868715e-05, 1.13367760e-05,\n",
              "         2.37127463e-03, 2.81093642e-04, 1.05599982e-04, 6.72386450e-05,\n",
              "         5.42390953e-05, 4.49988013e-03, 2.30974896e-04, 3.55056800e-05,\n",
              "         1.31515577e-03, 4.88939462e-04, 1.23878522e-03, 1.50074033e-04,\n",
              "         4.22075063e-05, 1.70395651e-04, 1.24669797e-03, 4.41933575e-04,\n",
              "         8.37083498e-04, 1.73895285e-04, 9.11843745e-06, 3.12630378e-04,\n",
              "         5.56190644e-05, 1.54866124e-04, 3.90361220e-06, 2.52994685e-03,\n",
              "         2.13699008e-04, 1.56374753e-03, 1.62084161e-05, 1.93240892e-04,\n",
              "         6.33250398e-04, 1.12950584e-04, 3.71457892e-04, 1.56564827e-04,\n",
              "         2.83691625e-04, 1.65266742e-04, 1.44860605e-04, 1.13213118e-05,\n",
              "         4.57730748e-05, 1.22751386e-04, 2.24595703e-03, 1.35835755e-04,\n",
              "         2.46348354e-04, 1.03784935e-03, 1.26105908e-04, 1.01031881e-04,\n",
              "         1.70899784e-05, 1.09908951e-05, 2.54065264e-04, 1.61935619e-04,\n",
              "         3.47486348e-05, 4.42682795e-04, 2.11798197e-05, 3.80748643e-05,\n",
              "         2.47379346e-03, 4.20791592e-04, 2.60670553e-04, 1.48223469e-03,\n",
              "         7.41444062e-03, 6.94507980e-05, 2.83878198e-05, 9.31545728e-05,\n",
              "         4.99734888e-04, 1.51697110e-04, 1.40521408e-03, 3.62582396e-05,\n",
              "         7.65390796e-05, 3.09957424e-04, 6.90594170e-05, 2.28807935e-03,\n",
              "         4.52966196e-05, 9.96049610e-04, 1.09016255e-04, 4.32655244e-04,\n",
              "         6.06285001e-04, 5.18255867e-04, 4.04517195e-04, 1.85874233e-03,\n",
              "         1.48267471e-04, 6.46944909e-06, 2.96534528e-03, 3.23114473e-05,\n",
              "         7.22744130e-03, 3.90477042e-04, 1.14781244e-04, 1.76043439e-04,\n",
              "         9.40821628e-05, 7.51124090e-03, 3.83367878e-05, 9.22522886e-05,\n",
              "         3.89246969e-04, 1.16965952e-04, 9.03730761e-05, 8.08425480e-04,\n",
              "         4.44827856e-06, 2.85655769e-05, 4.89018021e-05, 4.47801685e-05,\n",
              "         7.72960047e-05, 1.47825820e-04, 3.21705476e-03, 3.08133126e-03,\n",
              "         3.24430112e-05, 1.08175860e-04, 5.66015812e-03, 1.23241334e-05,\n",
              "         6.48690766e-05, 2.10425977e-04, 6.19756803e-03, 6.74583061e-05,\n",
              "         3.49233299e-03, 1.29238877e-04, 9.84854531e-04, 4.02710284e-04,\n",
              "         1.28667243e-05, 2.01599463e-03, 3.15584912e-04, 1.11068839e-05,\n",
              "         7.79763650e-06, 4.82878229e-03, 4.12386762e-05, 3.17345490e-04,\n",
              "         1.16191099e-04, 1.40230637e-04, 3.62348655e-04, 2.96964354e-05,\n",
              "         4.45146958e-04, 1.20153995e-02, 9.46762215e-04, 6.77754229e-04,\n",
              "         8.24219751e-05, 1.23977861e-05, 2.83846486e-04, 2.22927518e-03,\n",
              "         1.11435747e-05, 2.27748114e-05, 6.09690542e-05, 3.75507225e-04,\n",
              "         1.53983230e-04, 9.32256589e-05, 4.90976148e-04, 7.03188152e-06,\n",
              "         3.42366227e-04, 2.72087909e-05, 4.14273143e-03, 3.16756668e-05,\n",
              "         7.93241721e-04, 7.53844361e-05, 3.96575924e-04, 2.21828639e-04,\n",
              "         1.11362759e-04, 2.34483214e-05, 1.12604084e-05, 1.33597094e-03,\n",
              "         9.31867864e-04, 1.27950183e-03, 3.80094821e-06, 1.39648770e-03,\n",
              "         7.14458583e-05, 1.36506889e-04, 2.19588583e-05, 1.23875056e-04,\n",
              "         1.84067845e-04, 1.27158780e-03, 5.59785112e-05, 4.93288026e-05,\n",
              "         5.33545332e-04, 4.77038848e-05, 1.12370362e-04, 1.40865479e-04,\n",
              "         1.26539543e-02, 9.84827857e-05, 3.97837168e-04, 2.25154563e-05,\n",
              "         1.45471431e-02, 1.83962681e-03, 7.74527609e-04, 6.71696966e-04,\n",
              "         2.98488420e-04, 1.50265216e-04, 3.18376435e-04, 5.63909067e-04,\n",
              "         8.87952410e-06, 1.01470016e-03, 1.01291611e-04, 1.68619008e-04,\n",
              "         3.30713997e-03, 7.15252463e-05, 9.45705106e-04, 1.31995333e-02,\n",
              "         5.60941153e-05, 3.99932360e-05, 5.98459644e-03, 4.68101073e-03,\n",
              "         7.57055432e-06, 5.88718220e-04, 9.68150329e-03, 6.39873615e-05,\n",
              "         2.79096770e-03, 1.78080495e-03, 2.70878430e-04, 1.43100973e-03,\n",
              "         7.42008269e-04, 6.17116049e-04, 2.59651506e-06, 5.46027382e-04,\n",
              "         6.55498879e-05, 1.26338200e-04, 1.01239399e-04, 2.98201485e-05,\n",
              "         6.38795027e-05, 4.57439601e-04, 1.29736101e-04, 5.99036168e-04,\n",
              "         4.06129360e-02, 1.19690922e-04, 1.37479743e-04, 5.94390222e-05,\n",
              "         1.58963812e-04, 2.30254445e-04, 4.89485962e-03, 5.09008496e-05,\n",
              "         1.13466798e-04, 6.13006850e-05, 5.03034753e-05, 2.27184864e-05,\n",
              "         2.37003533e-05, 1.35746470e-03, 5.78961517e-05, 1.11199894e-04,\n",
              "         1.80473464e-04, 5.56957411e-06, 8.45147297e-04, 8.03484727e-05,\n",
              "         8.87591392e-04, 2.98505201e-05, 3.96448653e-04, 8.78373467e-05,\n",
              "         3.76366079e-04, 4.01695615e-05, 5.05603057e-05, 4.46120575e-05,\n",
              "         4.49277577e-04, 1.64012867e-03, 1.95066608e-03, 6.53804636e-06,\n",
              "         3.74692609e-05, 1.95058770e-02, 8.52591838e-05, 5.85591421e-04,\n",
              "         2.74951046e-04, 7.70510582e-04, 2.01108260e-03, 3.68546392e-03,\n",
              "         2.17678971e-04, 1.07321364e-04, 1.77059235e-04, 2.00148406e-05,\n",
              "         3.45495937e-05, 1.24961680e-05, 9.11884217e-06, 7.35378417e-05,\n",
              "         5.92503231e-04, 7.99568952e-04, 9.19336599e-05, 6.39785430e-04,\n",
              "         7.50981783e-03, 2.05100405e-05, 5.13057494e-05, 1.71202686e-04,\n",
              "         2.91596603e-04, 2.24071052e-02, 6.41198058e-05, 2.06152195e-04,\n",
              "         2.93623540e-04, 1.36186036e-05, 7.80610389e-06, 4.27778759e-05,\n",
              "         4.35234775e-04, 2.15665757e-04, 2.03815405e-03, 7.86463171e-03,\n",
              "         6.73204340e-05, 6.53265524e-05, 1.41786272e-03, 1.94662480e-05,\n",
              "         1.52861048e-03, 1.64770299e-05, 5.79991553e-04, 1.28347985e-03,\n",
              "         6.16181642e-03, 1.39847971e-05, 1.46947394e-03, 1.04665698e-03,\n",
              "         2.16085138e-03, 1.85607234e-04, 2.98765008e-05, 2.19119480e-04,\n",
              "         2.89741205e-04, 5.58446409e-05, 9.70835245e-05, 9.87759442e-04,\n",
              "         1.18712349e-04, 4.47308226e-03, 7.50818708e-06, 9.22852196e-05,\n",
              "         1.33697642e-04, 1.52707787e-03, 1.16006831e-05, 1.76170797e-05,\n",
              "         2.84794456e-04, 3.84239611e-05, 1.80789051e-04, 8.28790508e-05,\n",
              "         5.59303444e-04, 7.44578720e-04, 2.19146721e-04, 5.61384950e-04,\n",
              "         1.03820101e-04, 3.21445055e-03, 2.96335755e-04, 8.78223655e-05,\n",
              "         4.86795150e-04, 1.11639185e-03, 5.96788246e-04, 8.57703853e-04,\n",
              "         3.18041784e-05, 4.10782604e-06, 9.50026850e-04, 4.81492025e-04,\n",
              "         3.02424654e-03, 3.38671100e-03, 6.05098103e-06, 9.87378531e-04,\n",
              "         7.22462137e-04, 2.03075411e-04, 1.09063467e-05, 6.09610835e-03,\n",
              "         2.99951702e-04, 9.84450709e-03, 2.98011902e-04, 1.70668805e-04,\n",
              "         1.70362648e-03, 2.18550814e-03, 1.84081728e-04, 1.27930662e-05,\n",
              "         1.17353443e-03, 1.41218377e-04, 7.17344301e-05, 1.12792113e-04,\n",
              "         3.47228441e-03, 9.57785742e-05, 2.01427771e-04, 5.61078303e-02,\n",
              "         1.64883025e-02, 8.19964116e-05, 6.77238786e-05, 2.52354566e-05,\n",
              "         1.09356642e-05, 3.72824870e-04, 2.68201293e-05, 1.65534497e-04,\n",
              "         1.08945365e-04, 5.22932423e-05, 1.30164233e-04, 8.84452777e-04,\n",
              "         1.29118125e-04, 2.99738640e-05, 2.62906193e-04, 3.21968109e-04,\n",
              "         1.56482674e-05, 6.23008527e-05, 2.94604106e-04, 5.77193423e-05,\n",
              "         2.71037640e-03, 6.23679312e-04, 7.28458515e-04, 6.58964054e-05,\n",
              "         2.78033898e-04, 7.12319961e-05, 4.73021391e-05, 2.24849937e-04,\n",
              "         4.57711481e-02, 1.24882185e-03, 1.51817885e-03, 1.38061514e-04,\n",
              "         5.88175608e-05, 6.84082852e-06, 1.77876595e-02, 4.32777248e-04,\n",
              "         8.52532685e-06, 1.93272834e-04, 1.89476650e-05, 2.54547922e-04,\n",
              "         1.00574716e-05, 9.59725730e-06, 4.88572428e-03, 6.03722874e-05,\n",
              "         4.32976842e-04, 2.09039863e-05, 2.55343621e-05, 3.79742705e-04,\n",
              "         8.73517653e-04, 5.16015745e-04, 5.67354378e-04, 3.15442994e-05,\n",
              "         2.67675240e-03, 8.17461289e-04, 2.67345167e-04, 2.61095382e-04,\n",
              "         1.52901164e-04, 8.74119069e-05, 1.30155458e-04, 9.59360259e-05,\n",
              "         6.02231314e-03, 1.42311668e-02, 6.69094361e-03, 2.08425845e-05,\n",
              "         9.23969274e-05, 2.79988919e-04, 2.66452087e-04, 8.75297934e-04,\n",
              "         6.89555285e-03, 1.32801497e-05, 2.07775578e-04, 2.14722403e-03,\n",
              "         5.38256700e-06, 2.51783877e-05, 3.69845075e-04, 4.50067746e-04,\n",
              "         1.71887514e-05, 1.28669397e-03, 4.48782276e-03, 9.33265372e-04,\n",
              "         2.16133030e-05, 5.66398694e-06, 3.44088112e-05, 1.44669204e-04,\n",
              "         2.52827940e-05, 3.10343603e-04, 7.05011262e-05, 3.68208828e-04,\n",
              "         2.19499809e-03, 1.94351058e-04, 1.13563078e-06, 3.13252822e-04,\n",
              "         8.09091725e-05, 5.13904379e-05, 1.56039750e-05, 1.29810325e-03,\n",
              "         4.06055158e-04, 4.69909501e-05, 2.25212905e-04, 9.76093463e-04,\n",
              "         4.96193788e-05, 2.61078123e-04, 2.44196126e-05, 3.11024014e-05,\n",
              "         9.99134500e-05, 2.00625931e-04, 8.11891587e-05, 1.21781686e-05,\n",
              "         1.21823447e-02, 5.84294321e-04, 1.05391955e-04, 4.50774236e-03,\n",
              "         2.87891598e-04, 3.10196221e-04, 5.84136182e-03, 1.06866600e-03,\n",
              "         2.51595443e-03, 1.00374593e-04, 3.64023331e-03, 1.25845676e-04,\n",
              "         9.57532466e-05, 9.62494640e-04, 5.43746864e-05, 1.13339059e-03,\n",
              "         1.39340283e-02, 4.08712440e-05, 2.89331831e-04, 7.35564099e-05,\n",
              "         2.06883396e-05, 1.62679027e-03, 1.05360959e-04, 9.43396153e-05,\n",
              "         8.49386735e-04, 2.03379841e-05, 1.20147437e-04, 1.08346716e-03,\n",
              "         2.72607547e-03, 3.06797214e-04, 7.34121422e-05, 4.00685967e-05,\n",
              "         3.36514968e-05, 4.95203240e-05, 3.95963116e-06, 2.74190825e-05,\n",
              "         2.39218298e-05, 1.34194910e-04, 4.98101181e-05, 3.23982385e-05,\n",
              "         1.29295528e-04, 1.39426584e-05, 2.95589707e-05, 9.75359944e-06,\n",
              "         2.05884589e-05, 4.94151936e-05, 5.90495110e-05, 5.26703479e-06,\n",
              "         1.27705152e-05, 5.16675709e-06, 8.72938763e-05, 6.41907536e-05,\n",
              "         2.26104348e-05, 4.95120359e-04, 1.94415683e-04, 2.62135436e-05,\n",
              "         1.02362724e-03, 2.01247560e-04, 2.77727586e-03, 1.60439068e-03,\n",
              "         3.05306778e-04, 1.22714628e-04, 7.29026913e-04, 3.80206143e-06,\n",
              "         8.00908092e-05, 3.32045747e-04, 4.00644523e-04, 4.55600129e-05,\n",
              "         3.49564652e-05, 9.35273711e-05, 1.47980973e-05, 1.99369460e-05,\n",
              "         9.05068737e-06, 6.72204696e-05, 1.14478043e-03, 3.67928675e-04,\n",
              "         1.37649232e-03, 2.48849654e-04, 9.94957882e-05, 2.68372148e-03,\n",
              "         8.71520388e-05, 3.14983754e-06, 2.01525254e-04, 2.07086967e-04,\n",
              "         4.63590841e-04, 1.13752624e-03, 8.58179992e-04, 8.51460936e-06,\n",
              "         4.17584321e-04, 1.76985763e-04, 1.13217529e-05, 2.98697443e-04,\n",
              "         5.22107061e-04, 6.47361507e-04, 1.53943747e-05, 8.95867488e-05,\n",
              "         3.60910664e-04, 2.99484527e-04, 2.22720002e-04, 1.14305140e-05,\n",
              "         1.04500041e-05, 5.40163319e-06, 1.90762312e-05, 5.26490476e-06,\n",
              "         1.94716927e-06, 4.59547709e-06, 6.30369104e-05, 3.28696356e-03]]],\n",
              "      dtype=float32)>"
            ]
          },
          "execution_count": 6,
          "metadata": {},
          "output_type": "execute_result"
        }
      ],
      "source": [
        "res_optimized"
      ]
    },
    {
      "cell_type": "markdown",
      "metadata": {
        "id": "UqxzStjD2v0r"
      },
      "source": [
        "Then, let's compute the average latency of the baseline model:"
      ]
    },
    {
      "cell_type": "code",
      "execution_count": 7,
      "metadata": {
        "id": "ELyTjg6_S4Us"
      },
      "outputs": [],
      "source": [
        "import time"
      ]
    },
    {
      "cell_type": "code",
      "execution_count": 8,
      "metadata": {
        "colab": {
          "base_uri": "https://localhost:8080/"
        },
        "id": "dkt67_Orwlv4",
        "outputId": "2115dc49-9fe0-4e2c-c200-20868c6f50e8"
      },
      "outputs": [
        {
          "name": "stdout",
          "output_type": "stream",
          "text": [
            "Average latency original model: 0.0524 seconds\n"
          ]
        }
      ],
      "source": [
        "num_iters = 100\n",
        "\n",
        "# Warmup\n",
        "for i in range(10):\n",
        "  model.predict(x)\n",
        "\n",
        "start = time.time()\n",
        "for i in range(num_iters):\n",
        "  model.predict(x)\n",
        "stop = time.time()\n",
        "\n",
        "print(\"Average latency original model: {:.4f} seconds\".format((stop - start) / num_iters))"
      ]
    },
    {
      "cell_type": "markdown",
      "metadata": {
        "id": "AgOv-GqQ3KIC"
      },
      "source": [
        "Finally we compute the average latency for the optimized model:\n",
        "\n"
      ]
    },
    {
      "cell_type": "code",
      "execution_count": 9,
      "metadata": {
        "colab": {
          "base_uri": "https://localhost:8080/"
        },
        "id": "4PodpaDVfwzT",
        "outputId": "805344a8-90eb-4818-8363-d79012c02dd1"
      },
      "outputs": [
        {
          "name": "stdout",
          "output_type": "stream",
          "text": [
            "Average latency optimized model: 0.0071 seconds\n"
          ]
        }
      ],
      "source": [
        "# Warmup\n",
        "for i in range(10):\n",
        "  optimized_model.predict(x)\n",
        "\n",
        "start = time.time()\n",
        "for i in range(num_iters):\n",
        "  optimized_model.predict(x)\n",
        "stop = time.time()\n",
        "\n",
        "print(\"Average latency optimized model: {:.4f} seconds\".format((stop - start) / num_iters))"
      ]
    },
    {
      "cell_type": "markdown",
      "metadata": {
        "id": "tBeRKNTI3iyK"
      },
      "source": [
        "## Scenario 2 - Accuracy drop"
      ]
    },
    {
      "cell_type": "markdown",
      "metadata": {
        "id": "w3wutIzfAMe_"
      },
      "source": [
        "In this scenario, we set a max threshold for the accuracy drop to 2%"
      ]
    },
    {
      "cell_type": "code",
      "execution_count": null,
      "metadata": {
        "colab": {
          "base_uri": "https://localhost:8080/"
        },
        "id": "fO1nGqpj3p7z",
        "outputId": "23f520d4-d06a-4058-e924-953aaa901385"
      },
      "outputs": [],
      "source": [
        "import tensorflow as tf\n",
        "from tensorflow.keras.applications.resnet50 import ResNet50\n",
        "from nebullvm.api.functions import optimize_model\n",
        "\n",
        "# Load a resnet as example\n",
        "model = ResNet50()\n",
        "\n",
        "# Provide an input data for the model   \n",
        "# Note that in this case we should provide the model at least 100 data samples\n",
        "input_data = [((tf.random.normal([1, 224, 224, 3]),), 0) for i in range(100)]\n",
        "\n",
        "# Run nebullvm optimization\n",
        "optimized_model = optimize_model(\n",
        "  model, input_data=input_data, optimization_time=\"unconstrained\", metric = \"accuracy\", metric_drop_ths = 0.02\n",
        ")\n",
        "\n",
        "# Try the optimized model\n",
        "x = tf.random.normal([1, 224, 224, 3])\n",
        "res_original = model.predict(x)\n",
        "res_optimized = optimized_model.predict(x)[0]"
      ]
    },
    {
      "cell_type": "markdown",
      "metadata": {
        "id": "yfW9kmHX-pGi"
      },
      "source": [
        "Here we compute the average throughput for the baseline model:"
      ]
    },
    {
      "cell_type": "code",
      "execution_count": 11,
      "metadata": {
        "colab": {
          "base_uri": "https://localhost:8080/"
        },
        "id": "0MMrL3959hli",
        "outputId": "7b6eff9c-f974-44fb-97b6-6229ab80dd7a"
      },
      "outputs": [
        {
          "name": "stdout",
          "output_type": "stream",
          "text": [
            "Average latency original model: 0.0520 seconds\n"
          ]
        }
      ],
      "source": [
        "num_iters = 100\n",
        "\n",
        "# Warmup\n",
        "for i in range(10):\n",
        "  model.predict(x)\n",
        "\n",
        "start = time.time()\n",
        "for i in range(num_iters):\n",
        "  model.predict(x)\n",
        "stop = time.time()\n",
        "\n",
        "print(\"Average latency original model: {:.4f} seconds\".format((stop - start) / num_iters))"
      ]
    },
    {
      "cell_type": "markdown",
      "metadata": {
        "id": "i3GqasOM-u8f"
      },
      "source": [
        "Here we compute the average throughput for the optimized model:"
      ]
    },
    {
      "cell_type": "code",
      "execution_count": 12,
      "metadata": {
        "colab": {
          "base_uri": "https://localhost:8080/"
        },
        "id": "_IbAW0KA4Fm5",
        "outputId": "20f734f6-2d96-4792-cb90-d45d1e77071e"
      },
      "outputs": [
        {
          "name": "stdout",
          "output_type": "stream",
          "text": [
            "Average latency optimized model: 0.0037 seconds\n"
          ]
        }
      ],
      "source": [
        "# Warmup\n",
        "for i in range(10):\n",
        "  optimized_model.predict(x)\n",
        "\n",
        "start = time.time()\n",
        "for i in range(num_iters):\n",
        "  optimized_model.predict(x)\n",
        "stop = time.time()\n",
        "\n",
        "print(\"Average latency optimized model: {:.4f} seconds\".format((stop - start) / num_iters))"
      ]
    },
    {
      "cell_type": "markdown",
      "metadata": {
        "id": "xLBCDOTS10L6"
      },
      "source": [
        "<center> \n",
        "    <a href=\"https://discord.com/invite/RbeQMu886J\" target=\"_blank\" style=\"text-decoration: none;\"> Join the community </a> |\n",
        "    <a href=\"https://nebuly.gitbook.io/nebuly/welcome/questions-and-contributions\" target=\"_blank\" style=\"text-decoration: none;\"> Contribute to the library </a>\n",
        "</center>\n",
        "\n",
        "<center> \n",
        "    <a href=\"https://github.com/nebuly-ai/nebullvm#how-it-works\" target=\"_blank\" style=\"text-decoration: none;\"> How nebullvm works </a> •\n",
        "    <a href=\"https://github.com/nebuly-ai/nebullvm#documentation\" target=\"_blank\" style=\"text-decoration: none;\"> Documentation </a> •\n",
        "    <a href=\"https://github.com/nebuly-ai/nebullvm#api-quick-view\" target=\"_blank\" style=\"text-decoration: none;\"> API quick view </a> \n",
        "</center>"
      ]
    }
  ],
  "metadata": {
    "accelerator": "GPU",
    "colab": {
      "collapsed_sections": [],
      "provenance": []
    },
    "gpuClass": "standard",
    "kernelspec": {
      "display_name": "Python 3.9.13 ('pytorch')",
      "language": "python",
      "name": "python3"
    },
    "language_info": {
      "codemirror_mode": {
        "name": "ipython",
        "version": 3
      },
      "file_extension": ".py",
      "mimetype": "text/x-python",
      "name": "python",
      "nbconvert_exporter": "python",
      "pygments_lexer": "ipython3",
      "version": "3.9.13"
    },
    "vscode": {
      "interpreter": {
        "hash": "292946fc3537f9d97fe8e6b71322c45e676689a1ee6a93c259ec370faae75bb1"
      }
    }
  },
  "nbformat": 4,
  "nbformat_minor": 0
}
